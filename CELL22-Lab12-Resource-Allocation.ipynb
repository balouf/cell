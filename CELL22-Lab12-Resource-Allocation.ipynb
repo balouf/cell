{
 "cells": [
  {
   "cell_type": "markdown",
   "id": "36efeeb6",
   "metadata": {},
   "source": [
    "# Lab 12 – Resource Allocation"
   ]
  },
  {
   "cell_type": "markdown",
   "id": "803fe58a",
   "metadata": {},
   "source": [
    "Sorbonne Université</br>\n",
    "Master in Computer Science </br>\n",
    "Cellular Networks (MU5IN050)\n"
   ]
  },
  {
   "cell_type": "markdown",
   "id": "64345340",
   "metadata": {},
   "source": [
    "## Block Assignement problem"
   ]
  },
  {
   "cell_type": "markdown",
   "id": "468e2dab",
   "metadata": {},
   "source": [
    "### Modeling"
   ]
  },
  {
   "cell_type": "markdown",
   "id": "ac65bb69",
   "metadata": {},
   "source": [
    "Given a LTE cell having $N$ users that we know their positions.\n",
    "Each user $i$ has a data rate per resource block $r_i$ which can be calculated from the distance between the user and the eNodeB.\n",
    "The maximum number of resource blocks in the cell is $R$.\n",
    "Each user $i$ requires data rate $B_i$. \n",
    "\n",
    "How to attribute resource blocks to users to maximize the total data rate of the users in the cell?"
   ]
  },
  {
   "cell_type": "markdown",
   "id": "4b0bbf63",
   "metadata": {},
   "source": [
    "1. Define the variables and parameters needed to formulate the optimization model.\n",
    "2. Give the decision variables.\n",
    "3. Give the objective function.\n",
    "4. Give the constraints."
   ]
  },
  {
   "cell_type": "markdown",
   "id": "4a211319",
   "metadata": {},
   "source": [
    "Your answer here."
   ]
  },
  {
   "cell_type": "markdown",
   "id": "3c573cb2",
   "metadata": {},
   "source": [
    "### Solving total rate problem"
   ]
  },
  {
   "cell_type": "markdown",
   "id": "63647aae",
   "metadata": {},
   "source": [
    "Consider the problem described above with a LTE cell having $N=4$ users. The maximum number of resource blocks in the cell is 100. The data rate per resource block (RB) and the data rate requirement of each UE is given in the following table.\n",
    "\n",
    "Reminder: for historical reason, 1 Mbps = 1000 kbps (not 1024!)\n",
    "\n",
    "| UE | rate per RB | rate requirement |\n",
    "| --- | --- | --- |\n",
    "| 1 | 16 kbps | 1 Mbps |\n",
    "|2 | 32 kbps | 64 kbps |\n",
    "| 3 | 584 kbps | 10 Mbps |\n",
    "| 4 | 712 kbps | 5 Mbps |"
   ]
  },
  {
   "cell_type": "markdown",
   "id": "e06d8d45",
   "metadata": {
    "cell_style": "center",
    "slideshow": {
     "slide_type": ""
    }
   },
   "source": [
    "1. What are the decision variables ?\n",
    "2. Give the objective function.\n",
    "3. Give the constraints.\n",
    "4. Solve the problem with `linprog`.\n",
    "5. Analyze the results."
   ]
  },
  {
   "cell_type": "code",
   "execution_count": 1,
   "id": "2174ce41",
   "metadata": {
    "ExecuteTime": {
     "end_time": "2023-01-14T16:01:36.194762Z",
     "start_time": "2023-01-14T16:01:36.178591Z"
    }
   },
   "outputs": [],
   "source": [
    "# Your answer here"
   ]
  },
  {
   "cell_type": "markdown",
   "id": "8c85438e",
   "metadata": {},
   "source": [
    "Your answer here."
   ]
  },
  {
   "cell_type": "markdown",
   "id": "8b500c38",
   "metadata": {},
   "source": [
    "### Solving minimal rate problem (optional)"
   ]
  },
  {
   "cell_type": "markdown",
   "id": "feb0de81",
   "metadata": {},
   "source": [
    "Consider the problem from exercices 1 and 2 with a new objective: maximize the minimal rate received by any user.\n",
    "\n",
    "To do this, you will need to introduce an additional decision variable, $m$, which represents the minimal rate.\n",
    "- Give the new objective function\n",
    "- What are the new constraints that link the newly introduced variable $m$ to the other decision variables?\n",
    "- Solve the problem with `linprog`\n",
    "- Analyze the results"
   ]
  },
  {
   "cell_type": "code",
   "execution_count": 1,
   "id": "2aa2b5d0",
   "metadata": {
    "ExecuteTime": {
     "end_time": "2023-01-14T16:01:36.194762Z",
     "start_time": "2023-01-14T16:01:36.178591Z"
    }
   },
   "outputs": [],
   "source": [
    "# Your answer here"
   ]
  },
  {
   "cell_type": "markdown",
   "id": "67ae8097",
   "metadata": {},
   "source": [
    "Your answer here."
   ]
  },
  {
   "cell_type": "markdown",
   "id": "34729e03",
   "metadata": {},
   "source": [
    "## RRH/BBU pairing"
   ]
  },
  {
   "cell_type": "markdown",
   "id": "f4e525c4",
   "metadata": {},
   "source": [
    "### Modeling "
   ]
  },
  {
   "cell_type": "markdown",
   "id": "12573dfb",
   "metadata": {},
   "source": [
    "Consider a CRAN network where RRHs and BBU pools are deployed in a city.\n",
    "- Each RRH $i$ has a maximal latency $l_i$ and a minimal processing requirement $c_i$ that depends on the user traffic demand.\n",
    "- Each BBU $j$ has a maximum processing capacity $C_j$ that can be allocated to the RRHs connected to it.\n",
    "- Each RRH needs to be connected to exactly one BBU.\n",
    "- Connecting $i$ to $j$ generates a latency $L_{i, j}$ that depends on the distance between $i$ and $j$.\n",
    "\n",
    "We want to minimize the total transmission delay between the RRHs and the BBUs."
   ]
  },
  {
   "cell_type": "markdown",
   "id": "d7b3cabc",
   "metadata": {},
   "source": [
    "1. Give the list of necessary variables and parameters to formulate an ILP model for this system.\n",
    "2. Propose the objective function.\n",
    "3. Formulate the constraints which guarantees that each RRH i is connected to exactly one BBU pool j.\n",
    "4. What is the constraint which ensures that the BBU-RRH assignment does not violate the capacity limit of each BBU pool?\n",
    "5. Write the constraint which imposes that the transmission delay of the selected RRH-BBU link does not exceed the expected delay of each RRH.\n",
    "7. Based on the results of the previous questions, provide the complete ILP formulation of the problem."
   ]
  },
  {
   "cell_type": "markdown",
   "id": "44d02f8e",
   "metadata": {},
   "source": [
    "Your answer here."
   ]
  },
  {
   "cell_type": "markdown",
   "id": "b2e1af12",
   "metadata": {},
   "source": [
    "### Solving total delay problem"
   ]
  },
  {
   "cell_type": "markdown",
   "id": "5f11c89b",
   "metadata": {},
   "source": [
    "Use `linprog` to implement the ILP problem above with the following values:\n",
    "- $i \\in \\{1, 2, 3\\}$\n",
    "- $j \\in \\{1, 2\\}$\n",
    "- $c_1 = 5$; $c_2 = 8$; $c_3 = 10$\n",
    "- $C_1 = 23$; $C_2 = 15$\n",
    "- $l_1 = 5$; $l_2 = 6$; $l_3 = 10$\n",
    "- $L_{1,1} = 4$;$L_{1,2} = 6$;$L_{2,1} = 5$;$L_{2,2} = 5$;$L_{3,1} = 8$;$L_{3,2} = 3$\n",
    "\n",
    "Discuss the results."
   ]
  },
  {
   "cell_type": "code",
   "execution_count": 1,
   "id": "bf69278a",
   "metadata": {
    "ExecuteTime": {
     "end_time": "2023-01-14T16:01:36.194762Z",
     "start_time": "2023-01-14T16:01:36.178591Z"
    }
   },
   "outputs": [],
   "source": [
    "# Your answer here"
   ]
  },
  {
   "cell_type": "markdown",
   "id": "dfeb868c",
   "metadata": {},
   "source": [
    "Your answer here."
   ]
  },
  {
   "cell_type": "markdown",
   "id": "6b048131",
   "metadata": {},
   "source": [
    "# Solving activated BBUs problem"
   ]
  },
  {
   "cell_type": "markdown",
   "id": "38fd4beb",
   "metadata": {},
   "source": [
    "A BBU pool is activated only if at least one RRH is connected to. We want to change the objective and to minimize the number of BBU pools activated.\n",
    "\n",
    "1. Which new decision variables should you add?\n",
    "2. What it the new objective function?\n",
    "3. Give the constraints that expresses the fact that a RRH can only connect to an activated BBU.\n",
    "1. Revise the ILP model that you have defined above.\n",
    "4. Use `linprog` to solve the new problem with the same parameters as previously. Comment the result."
   ]
  },
  {
   "cell_type": "code",
   "execution_count": 1,
   "id": "f1e762b3",
   "metadata": {
    "ExecuteTime": {
     "end_time": "2023-01-14T16:01:36.194762Z",
     "start_time": "2023-01-14T16:01:36.178591Z"
    }
   },
   "outputs": [],
   "source": [
    "# Your answer here"
   ]
  },
  {
   "cell_type": "markdown",
   "id": "8a995050",
   "metadata": {},
   "source": [
    "Your answer here."
   ]
  },
  {
   "cell_type": "markdown",
   "id": "82576f50",
   "metadata": {},
   "source": [
    "## Optional"
   ]
  },
  {
   "cell_type": "markdown",
   "id": "94f823d3",
   "metadata": {},
   "source": [
    "Login to Website https://adventofcode.com\n",
    "\n",
    "Solve the following problem:\n",
    "- https://adventofcode.com/2022/day/19"
   ]
  },
  {
   "cell_type": "code",
   "execution_count": 1,
   "id": "8672b02f",
   "metadata": {
    "ExecuteTime": {
     "end_time": "2023-01-14T16:01:36.194762Z",
     "start_time": "2023-01-14T16:01:36.178591Z"
    }
   },
   "outputs": [],
   "source": [
    "# Your answer here"
   ]
  }
 ],
 "metadata": {
  "celltoolbar": "Slideshow",
  "kernelspec": {
   "display_name": "Python 3 (ipykernel)",
   "language": "python",
   "name": "python3"
  },
  "language_info": {
   "codemirror_mode": {
    "name": "ipython",
    "version": 3
   },
   "file_extension": ".py",
   "mimetype": "text/x-python",
   "name": "python",
   "nbconvert_exporter": "python",
   "pygments_lexer": "ipython3",
   "version": "3.9.13"
  },
  "toc": {
   "base_numbering": 1,
   "nav_menu": {},
   "number_sections": true,
   "sideBar": true,
   "skip_h1_title": true,
   "title_cell": "Table of Contents",
   "title_sidebar": "Contents",
   "toc_cell": false,
   "toc_position": {},
   "toc_section_display": true,
   "toc_window_display": true
  }
 },
 "nbformat": 4,
 "nbformat_minor": 5
}
