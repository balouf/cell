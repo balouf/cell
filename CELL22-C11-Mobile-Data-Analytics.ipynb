{
 "cells": [
  {
   "cell_type": "markdown",
   "id": "289c300a",
   "metadata": {
    "slideshow": {
     "slide_type": "slide"
    },
    "toc": true
   },
   "source": [
    "<h1>Table of Contents<span class=\"tocSkip\"></span></h1>\n",
    "<div class=\"toc\"><ul class=\"toc-item\"><li><span><a href=\"#Before-we-start\" data-toc-modified-id=\"Before-we-start-1\"><span class=\"toc-item-num\">1&nbsp;&nbsp;</span>Before we start</a></span><ul class=\"toc-item\"><li><span><a href=\"#Methodology\" data-toc-modified-id=\"Methodology-1.1\"><span class=\"toc-item-num\">1.1&nbsp;&nbsp;</span>Methodology</a></span></li><li><span><a href=\"#Big-Picture\" data-toc-modified-id=\"Big-Picture-1.2\"><span class=\"toc-item-num\">1.2&nbsp;&nbsp;</span>Big Picture</a></span></li></ul></li><li><span><a href=\"#Data\" data-toc-modified-id=\"Data-2\"><span class=\"toc-item-num\">2&nbsp;&nbsp;</span>Data</a></span><ul class=\"toc-item\"><li><span><a href=\"#XML\" data-toc-modified-id=\"XML-2.1\"><span class=\"toc-item-num\">2.1&nbsp;&nbsp;</span>XML</a></span></li><li><span><a href=\"#JSON\" data-toc-modified-id=\"JSON-2.2\"><span class=\"toc-item-num\">2.2&nbsp;&nbsp;</span>JSON</a></span></li><li><span><a href=\"#CSV\" data-toc-modified-id=\"CSV-2.3\"><span class=\"toc-item-num\">2.3&nbsp;&nbsp;</span>CSV</a></span></li><li><span><a href=\"#CDR-CSV\" data-toc-modified-id=\"CDR-CSV-2.4\"><span class=\"toc-item-num\">2.4&nbsp;&nbsp;</span>CDR CSV</a></span></li><li><span><a href=\"#Milano-Grid-Dataset\" data-toc-modified-id=\"Milano-Grid-Dataset-2.5\"><span class=\"toc-item-num\">2.5&nbsp;&nbsp;</span>Milano Grid Dataset</a></span></li></ul></li><li><span><a href=\"#Analytics\" data-toc-modified-id=\"Analytics-3\"><span class=\"toc-item-num\">3&nbsp;&nbsp;</span>Analytics</a></span><ul class=\"toc-item\"><li><span><a href=\"#Statistics\" data-toc-modified-id=\"Statistics-3.1\"><span class=\"toc-item-num\">3.1&nbsp;&nbsp;</span>Statistics</a></span></li><li><span><a href=\"#Visualization\" data-toc-modified-id=\"Visualization-3.2\"><span class=\"toc-item-num\">3.2&nbsp;&nbsp;</span>Visualization</a></span></li></ul></li><li><span><a href=\"#Mobile\" data-toc-modified-id=\"Mobile-4\"><span class=\"toc-item-num\">4&nbsp;&nbsp;</span>Mobile</a></span></li></ul></div>"
   ]
  },
  {
   "cell_type": "code",
   "execution_count": 1,
   "id": "7ef958e8",
   "metadata": {
    "ExecuteTime": {
     "end_time": "2023-01-13T11:17:10.953351Z",
     "start_time": "2023-01-13T11:17:10.917198Z"
    },
    "init_cell": true,
    "slideshow": {
     "slide_type": "skip"
    }
   },
   "outputs": [],
   "source": [
    "%load_ext nb_js_diagrammers"
   ]
  },
  {
   "cell_type": "code",
   "execution_count": 2,
   "id": "e6ffbeb1",
   "metadata": {
    "ExecuteTime": {
     "end_time": "2023-01-13T11:17:10.969304Z",
     "start_time": "2023-01-13T11:17:10.956315Z"
    },
    "init_cell": true,
    "slideshow": {
     "slide_type": "skip"
    }
   },
   "outputs": [
    {
     "data": {
      "text/html": [
       "<style>\n",
       ".prompt_container { display: none !important; }\n",
       ".prompt { display: none !important; }\n",
       ".run_this_cell { display: none !important; }\n",
       "\n",
       ".slides {\n",
       "    position: absolute;\n",
       "    top: 0;\n",
       "    left: 0;\n",
       "}\n",
       "</style>\n"
      ],
      "text/plain": [
       "<IPython.core.display.HTML object>"
      ]
     },
     "metadata": {},
     "output_type": "display_data"
    }
   ],
   "source": [
    "%%html\n",
    "<style>\n",
    ".prompt_container { display: none !important; }\n",
    ".prompt { display: none !important; }\n",
    ".run_this_cell { display: none !important; }\n",
    "\n",
    ".slides {\n",
    "    position: absolute;\n",
    "    top: 0;\n",
    "    left: 0;\n",
    "}\n",
    "</style>"
   ]
  },
  {
   "cell_type": "markdown",
   "id": "1e39883a",
   "metadata": {
    "slideshow": {
     "slide_type": "slide"
    }
   },
   "source": [
    "# Mobile Data Analytics"
   ]
  },
  {
   "cell_type": "markdown",
   "id": "1c2a78e5",
   "metadata": {},
   "source": [
    "Cell\n",
    "\n",
    "Thi-Mai-Trang Nguyen CELL (LIP6-Sorbonne Université)\n",
    "\n",
    "**Fabien Mathieu** (Swapcard)"
   ]
  },
  {
   "cell_type": "markdown",
   "id": "bbe35d6b",
   "metadata": {
    "slideshow": {
     "slide_type": "slide"
    }
   },
   "source": [
    "## Before we start"
   ]
  },
  {
   "cell_type": "markdown",
   "id": "6b817102",
   "metadata": {
    "slideshow": {
     "slide_type": "subslide"
    }
   },
   "source": [
    "# About me"
   ]
  },
  {
   "cell_type": "markdown",
   "id": "b476fa0b",
   "metadata": {
    "cell_style": "split"
   },
   "source": [
    "Job: industry CS Researcher\n",
    "- Orange Labs\n",
    "- Inria\n",
    "- Bell Labs\n",
    "- Swapcard"
   ]
  },
  {
   "cell_type": "markdown",
   "id": "c248bf56",
   "metadata": {
    "cell_style": "split"
   },
   "source": [
    "Interests:\n",
    "- Graphs\n",
    "- Modeling\n",
    "- Networks"
   ]
  },
  {
   "cell_type": "markdown",
   "id": "823ddb31",
   "metadata": {
    "slideshow": {
     "slide_type": "subslide"
    }
   },
   "source": [
    "### Methodology"
   ]
  },
  {
   "cell_type": "markdown",
   "id": "334a935b",
   "metadata": {
    "slideshow": {
     "slide_type": "subslide"
    }
   },
   "source": [
    "# Methodology"
   ]
  },
  {
   "cell_type": "markdown",
   "id": "db9e2e71",
   "metadata": {},
   "source": [
    "- Programming language for CELL11/CELL12 will be Python.\n",
    "- Course and practicals are made on notebooks (jupyter or jupyterlab).\n",
    "- Available on https://github.com/balouf/cell"
   ]
  },
  {
   "cell_type": "markdown",
   "id": "2bfb6233",
   "metadata": {
    "slideshow": {
     "slide_type": "subslide"
    }
   },
   "source": [
    "# Jupyter notebook?"
   ]
  },
  {
   "cell_type": "markdown",
   "id": "dbf909f7",
   "metadata": {},
   "source": [
    "A notebook is just a text file with extension `.ipynb` that contains cells.\n",
    "- Two main types of cells:\n",
    "  - Markdown cells to write formatted text. You can itemize or write maths like $\\frac{\\sqrt{\\pi}}{2}$\n",
    "  - Code cell to execute Python code\n",
    "- This is a markdown cell"
   ]
  },
  {
   "cell_type": "code",
   "execution_count": 6,
   "id": "eb2d1671",
   "metadata": {
    "ExecuteTime": {
     "end_time": "2023-01-11T08:08:58.338736Z",
     "start_time": "2023-01-11T08:08:58.326684Z"
    },
    "cell_style": "split"
   },
   "outputs": [],
   "source": [
    "# This is a code cell\n",
    "x = 1+1"
   ]
  },
  {
   "cell_type": "code",
   "execution_count": 7,
   "id": "66b08e31",
   "metadata": {
    "ExecuteTime": {
     "end_time": "2023-01-11T08:08:58.354331Z",
     "start_time": "2023-01-11T08:08:58.340689Z"
    },
    "cell_style": "split"
   },
   "outputs": [
    {
     "data": {
      "text/plain": [
       "2"
      ]
     },
     "execution_count": 7,
     "metadata": {},
     "output_type": "execute_result"
    }
   ],
   "source": [
    "# Cell codes share the same workspace\n",
    "x"
   ]
  },
  {
   "cell_type": "markdown",
   "id": "2599a52e",
   "metadata": {
    "slideshow": {
     "slide_type": "subslide"
    }
   },
   "source": [
    "# Using Jupyter Notebook"
   ]
  },
  {
   "cell_type": "markdown",
   "id": "1dc67636",
   "metadata": {},
   "source": [
    "Two modes:\n",
    "- Command mode (blue). Hit `esc` to enter it\n",
    "- Edit mode (green). Hit `enter` on a cell to edit\n",
    "- There are many shortcuts (hit `H` on command mode to see them)\n",
    "\n",
    "To go further:\n",
    "- https://www.lincs.fr/events/python-101/\n",
    "- https://www.lincs.fr/events/hands-on-series-jupyter-notebook/"
   ]
  },
  {
   "cell_type": "markdown",
   "id": "a4f203b2",
   "metadata": {
    "slideshow": {
     "slide_type": "subslide"
    }
   },
   "source": [
    "### Big Picture"
   ]
  },
  {
   "cell_type": "markdown",
   "id": "552dea9a",
   "metadata": {
    "slideshow": {
     "slide_type": "subslide"
    }
   },
   "source": [
    "# Big picture"
   ]
  },
  {
   "cell_type": "markdown",
   "id": "92daf9bb",
   "metadata": {
    "cell_style": "center"
   },
   "source": [
    "Data analytics (mobile or not) always follow the same pattern:\n",
    "- There is some raw data somewhere\n",
    "- Retrieve/load/parse/pre-process\n",
    "- Work on it"
   ]
  },
  {
   "cell_type": "markdown",
   "id": "1408d12d",
   "metadata": {
    "cell_style": "center"
   },
   "source": [
    "This course:\n",
    "- Generic examples\n",
    "- One Mobile use case: the Milano grid"
   ]
  },
  {
   "cell_type": "markdown",
   "id": "c4c72700",
   "metadata": {
    "slideshow": {
     "slide_type": "subslide"
    }
   },
   "source": [
    "# Big picture"
   ]
  },
  {
   "cell_type": "code",
   "execution_count": 4,
   "id": "2095ed1b",
   "metadata": {
    "ExecuteTime": {
     "end_time": "2023-01-13T11:17:52.842847Z",
     "start_time": "2023-01-13T11:17:52.820695Z"
    },
    "hide_input": true,
    "init_cell": true
   },
   "outputs": [
    {
     "data": {
      "text/html": [
       "<iframe srcdoc=\"&lt;html&gt;\n",
       "    &lt;body&gt;\n",
       "        &lt;script src=&quot;https://cdn.jsdelivr.net/npm/mermaid/dist/mermaid.min.js&quot;&gt;&lt;/script&gt;\n",
       "        &lt;script&gt;\n",
       "            mermaid.initialize({ startOnLoad: true });\n",
       "        &lt;/script&gt;\n",
       " \n",
       "        &lt;div class=&quot;mermaid&quot;&gt;\n",
       "            graph LR\n",
       "    subgraph S[&quot;Data (file/URL/SQL...)&quot;]\n",
       "        direction RL\n",
       "        xcl[Excel]\n",
       "        csv[CSV/TSV]\n",
       "        json[JSON]\n",
       "        xml[XML]\n",
       "        other[...]\n",
       "    end\n",
       "    subgraph in[In-memory object]\n",
       "    direction TB\n",
       "        direction RL\n",
       "        df[&quot;Dataframe (e.g. Pandas)&quot;]\n",
       "        ar[&quot;Array (e.g. Numpy)&quot;]\n",
       "        subgraph po[&quot;Python object&quot;]\n",
       "        direction RL\n",
       "        List\n",
       "        Dict\n",
       "        cc[Custom class]\n",
       "        end\n",
       "    end\n",
       "    xcl --&gt; df;\n",
       "    csv --&gt; df; csv --&gt; ar; csv --&gt; po;\n",
       "    json --&gt; po; xml --&gt; po; other --&gt; po;\n",
       "    subgraph p[Processing]\n",
       "    stats[Statistics]\n",
       "    disp[Display]\n",
       "    nn[Training]\n",
       "    tf[Transform]\n",
       "    end\n",
       "    df --&gt; stats; df --&gt; disp;\n",
       "    ar --&gt; stats; ar --&gt; disp; ar--&gt; nn; ar --&gt; tf;\n",
       "    po --&gt; nn; po --&gt; tf;\n",
       "    \n",
       "\n",
       "        &lt;/div&gt;\n",
       " \n",
       "    &lt;/body&gt;\n",
       "&lt;/html&gt;\n",
       "\" width=\"100%\" height=\"640\"style=\"border:none !important;\" \"allowfullscreen\" \"webkitallowfullscreen\" \"mozallowfullscreen\"></iframe>"
      ],
      "text/plain": [
       "<nb_js_diagrammers.magics.JSDiagram at 0x1fcbfbe1430>"
      ]
     },
     "execution_count": 4,
     "metadata": {},
     "output_type": "execute_result"
    }
   ],
   "source": [
    "%%mermaid_magic -h 640\n",
    "graph LR\n",
    "    subgraph S[\"Data (file/URL/SQL...)\"]\n",
    "        direction RL\n",
    "        xcl[Excel]\n",
    "        csv[CSV/TSV]\n",
    "        json[JSON]\n",
    "        xml[XML]\n",
    "        other[...]\n",
    "    end\n",
    "    subgraph in[In-memory object]\n",
    "    direction TB\n",
    "        direction RL\n",
    "        df[\"Dataframe (e.g. Pandas)\"]\n",
    "        ar[\"Array (e.g. Numpy)\"]\n",
    "        subgraph po[\"Python object\"]\n",
    "        direction RL\n",
    "        List\n",
    "        Dict\n",
    "        cc[Custom class]\n",
    "        end\n",
    "    end\n",
    "    xcl --> df;\n",
    "    csv --> df; csv --> ar; csv --> po;\n",
    "    json --> po; xml --> po; other --> po;\n",
    "    subgraph p[Processing]\n",
    "    stats[Statistics]\n",
    "    disp[Display]\n",
    "    nn[Training]\n",
    "    tf[Transform]\n",
    "    end\n",
    "    df --> stats; df --> disp;\n",
    "    ar --> stats; ar --> disp; ar--> nn; ar --> tf;\n",
    "    po --> nn; po --> tf;\n",
    "    "
   ]
  },
  {
   "cell_type": "markdown",
   "id": "21b14780",
   "metadata": {
    "slideshow": {
     "slide_type": "slide"
    }
   },
   "source": [
    "## Data"
   ]
  },
  {
   "cell_type": "markdown",
   "id": "5f7975cb",
   "metadata": {
    "slideshow": {
     "slide_type": "subslide"
    }
   },
   "source": [
    "# Data"
   ]
  },
  {
   "cell_type": "markdown",
   "id": "1c4075cf",
   "metadata": {},
   "source": [
    "There are several text-based standard formats for exchanging data:\n",
    "- XML: legacy format (but still used in many places).\n",
    "- JSON: compact representation of structured data.\n",
    "- CSV: compact representation of SQL-like tables"
   ]
  },
  {
   "cell_type": "markdown",
   "id": "d0e8ac4b",
   "metadata": {
    "slideshow": {
     "slide_type": "slide"
    }
   },
   "source": [
    "### XML"
   ]
  },
  {
   "cell_type": "markdown",
   "id": "fae47c2d",
   "metadata": {
    "slideshow": {
     "slide_type": "subslide"
    }
   },
   "source": [
    "# XML"
   ]
  },
  {
   "cell_type": "markdown",
   "id": "348a2ee6",
   "metadata": {},
   "source": [
    "- A human-readable way to represent data\n",
    "- Introduced as a generalization / normalization of HTML\n",
    "- Extensible Markup Language (XML) \n",
    "- Serializable (can be directly loaded/dumped from string)\n",
    "- Used by many languages"
   ]
  },
  {
   "cell_type": "markdown",
   "id": "1e1eb5f1",
   "metadata": {
    "slideshow": {
     "slide_type": "subslide"
    }
   },
   "source": [
    "# XML specification"
   ]
  },
  {
   "cell_type": "markdown",
   "id": "534c01ec",
   "metadata": {},
   "source": [
    "XML is made of markups similar to HTML:\n",
    "- tag: something that starts with < and ends with >.\n",
    "  - start-tag, such as `<section>`\n",
    "  - end-tag, such as `</section>`\n",
    "  - empty-element tag, such as `<line-break />\n",
    "- element: empty-element tag or anything between a start and matching tags (included)\n",
    "- content: anything between a start and matching tags (excluded). Can contain text and/or element(s)\n",
    "- attribute: key-value pairs stored inside a start or empty tag."
   ]
  },
  {
   "cell_type": "markdown",
   "id": "8bf6fadb",
   "metadata": {
    "slideshow": {
     "slide_type": "subslide"
    }
   },
   "source": [
    "# Example #1"
   ]
  },
  {
   "cell_type": "code",
   "execution_count": 15,
   "id": "2227c6e5",
   "metadata": {
    "ExecuteTime": {
     "end_time": "2023-01-11T08:08:58.513167Z",
     "start_time": "2023-01-11T08:08:58.499169Z"
    }
   },
   "outputs": [],
   "source": [
    "xml = \"\"\"\n",
    "<?xml version=\"1.0\" encoding=\"UTF-8\"?> \n",
    "<note> \n",
    "<to>Tove</to>\n",
    "<from>Jani</from> \n",
    "<heading>Reminder</heading>\n",
    "<body>Don't forget me this weekend!</body> \n",
    "</note>\n",
    "\"\"\""
   ]
  },
  {
   "cell_type": "markdown",
   "id": "df88182b",
   "metadata": {
    "slideshow": {
     "slide_type": "subslide"
    }
   },
   "source": [
    "# Example #2"
   ]
  },
  {
   "cell_type": "code",
   "execution_count": 16,
   "id": "0829b93c",
   "metadata": {
    "ExecuteTime": {
     "end_time": "2023-01-11T08:08:58.528361Z",
     "start_time": "2023-01-11T08:08:58.515167Z"
    }
   },
   "outputs": [],
   "source": [
    "xml = \"\"\"<?xml version=\"1.0\"?> <data> \n",
    "<country name=\"Liechtenstein\"> <rank>1</rank>\n",
    "<year>2008</year> <gdppc>141100</gdppc>\n",
    "<neighbor name=\"Austria\" direction=\"E\"/> \n",
    "<neighbor name=\"Switzerland\" direction=\"W\"/> \n",
    "</country>\n",
    "<country name=\"Singapore\"> \n",
    "<rank>4</rank>\n",
    "<year>2011</year> <gdppc>59900</gdppc>\n",
    "<neighbor name=\"Malaysia\" direction=\"N\"/> \n",
    "</country>\n",
    "<country name=\"Panama\"> \n",
    "<rank>68</rank>\n",
    "<year>2011</year> <gdppc>13600</gdppc>\n",
    "<neighbor name=\"Costa Rica\" direction=\"W\"/> \n",
    "<neighbor name=\"Colombia\" direction=\"E\"/> \n",
    "</country> </data> \n",
    "\"\"\"\n",
    "with open('data.xml', 'wt') as f:\n",
    "    f.write(xml)"
   ]
  },
  {
   "cell_type": "markdown",
   "id": "50885d58",
   "metadata": {
    "slideshow": {
     "slide_type": "subslide"
    }
   },
   "source": [
    "# Parsing XML with the xml package"
   ]
  },
  {
   "cell_type": "markdown",
   "id": "9324a585",
   "metadata": {},
   "source": [
    "xml.etree.ElementTree loads the whole file, you can then navigate in the tree structure."
   ]
  },
  {
   "cell_type": "code",
   "execution_count": 17,
   "id": "8b87c4e9",
   "metadata": {
    "ExecuteTime": {
     "end_time": "2023-01-11T08:08:58.559903Z",
     "start_time": "2023-01-11T08:08:58.531361Z"
    }
   },
   "outputs": [
    {
     "name": "stdout",
     "output_type": "stream",
     "text": [
      "Main tag: data; main attributes: {}\n",
      "Text of second element of first element: 2008\n",
      "country {'name': 'Liechtenstein'}\n",
      "country {'name': 'Singapore'}\n",
      "country {'name': 'Panama'}\n",
      "{'name': 'Austria', 'direction': 'E'}\n",
      "{'name': 'Switzerland', 'direction': 'W'}\n",
      "{'name': 'Malaysia', 'direction': 'N'}\n",
      "{'name': 'Costa Rica', 'direction': 'W'}\n",
      "{'name': 'Colombia', 'direction': 'E'}\n"
     ]
    }
   ],
   "source": [
    "import xml.etree.ElementTree as ET\n",
    "root = ET.parse('data.xml').getroot()\n",
    "print(f\"Main tag: {root.tag}; main attributes: {root.attrib}\")\n",
    "print(f\"Text of second element of first element: {root[0][1].text}\")\n",
    "for child in root:\n",
    "    print(child.tag, child.attrib)\n",
    "for n in root.iter('neighbor'):\n",
    "    print(n.attrib)"
   ]
  },
  {
   "cell_type": "markdown",
   "id": "b5be3596",
   "metadata": {
    "slideshow": {
     "slide_type": "subslide"
    }
   },
   "source": [
    "# Parsing XML with the xml package"
   ]
  },
  {
   "cell_type": "markdown",
   "id": "42c31787",
   "metadata": {},
   "source": [
    "You can also load from string (instead of from file)"
   ]
  },
  {
   "cell_type": "code",
   "execution_count": 18,
   "id": "ec7f7b11",
   "metadata": {
    "ExecuteTime": {
     "end_time": "2023-01-11T08:08:58.575901Z",
     "start_time": "2023-01-11T08:08:58.561900Z"
    }
   },
   "outputs": [
    {
     "name": "stdout",
     "output_type": "stream",
     "text": [
      "Main tag: data; main attributes: {}\n",
      "Text of second element of first element: 2008\n"
     ]
    }
   ],
   "source": [
    "root = ET.fromstring(xml) \n",
    "print(f\"Main tag: {root.tag}; main attributes: {root.attrib}\")\n",
    "print(f\"Text of second element of first element: {root[0][1].text}\")"
   ]
  },
  {
   "cell_type": "markdown",
   "id": "ee142c11",
   "metadata": {},
   "source": [
    "For very large files, you may want to iterate from file instead of loading the full content"
   ]
  },
  {
   "cell_type": "markdown",
   "id": "b1e42d00",
   "metadata": {
    "slideshow": {
     "slide_type": "subslide"
    }
   },
   "source": [
    "# Parsing XML with BeautifulSoup"
   ]
  },
  {
   "cell_type": "code",
   "execution_count": 19,
   "id": "6325ab39",
   "metadata": {
    "ExecuteTime": {
     "end_time": "2023-01-11T08:08:58.718742Z",
     "start_time": "2023-01-11T08:08:58.578902Z"
    }
   },
   "outputs": [
    {
     "data": {
      "text/plain": [
       "<?xml version=\"1.0\" encoding=\"utf-8\"?>\n",
       "<data>\n",
       "<country name=\"Liechtenstein\"> <rank>1</rank>\n",
       "<year>2008</year> <gdppc>141100</gdppc>\n",
       "<neighbor direction=\"E\" name=\"Austria\"/>\n",
       "<neighbor direction=\"W\" name=\"Switzerland\"/>\n",
       "</country>\n",
       "<country name=\"Singapore\">\n",
       "<rank>4</rank>\n",
       "<year>2011</year> <gdppc>59900</gdppc>\n",
       "<neighbor direction=\"N\" name=\"Malaysia\"/>\n",
       "</country>\n",
       "<country name=\"Panama\">\n",
       "<rank>68</rank>\n",
       "<year>2011</year> <gdppc>13600</gdppc>\n",
       "<neighbor direction=\"W\" name=\"Costa Rica\"/>\n",
       "<neighbor direction=\"E\" name=\"Colombia\"/>\n",
       "</country> </data>"
      ]
     },
     "execution_count": 19,
     "metadata": {},
     "output_type": "execute_result"
    }
   ],
   "source": [
    "from bs4 import BeautifulSoup as Soup\n",
    "soup = Soup(xml, features='xml')\n",
    "soup"
   ]
  },
  {
   "cell_type": "markdown",
   "id": "ca84c347",
   "metadata": {
    "slideshow": {
     "slide_type": "subslide"
    }
   },
   "source": [
    "# Parsing XML with BeautifulSoup"
   ]
  },
  {
   "cell_type": "code",
   "execution_count": 20,
   "id": "954833f2",
   "metadata": {
    "ExecuteTime": {
     "end_time": "2023-01-11T08:08:58.734725Z",
     "start_time": "2023-01-11T08:08:58.720704Z"
    }
   },
   "outputs": [
    {
     "name": "stdout",
     "output_type": "stream",
     "text": [
      "country {'name': 'Liechtenstein'}\n",
      "country {'name': 'Singapore'}\n",
      "country {'name': 'Panama'}\n"
     ]
    }
   ],
   "source": [
    "print(\"\\n\".join( c.name+\" \"+str(c.attrs) for c in soup.data.contents if c.name))"
   ]
  },
  {
   "cell_type": "code",
   "execution_count": 21,
   "id": "4fbe9f8e",
   "metadata": {
    "ExecuteTime": {
     "end_time": "2023-01-11T08:08:58.750735Z",
     "start_time": "2023-01-11T08:08:58.737734Z"
    }
   },
   "outputs": [
    {
     "name": "stdout",
     "output_type": "stream",
     "text": [
      "{'name': 'Austria', 'direction': 'E'}\n",
      "{'name': 'Switzerland', 'direction': 'W'}\n",
      "{'name': 'Malaysia', 'direction': 'N'}\n",
      "{'name': 'Costa Rica', 'direction': 'W'}\n",
      "{'name': 'Colombia', 'direction': 'E'}\n"
     ]
    }
   ],
   "source": [
    "\n",
    "print(\"\\n\".join( str(c.attrs) for c in soup('neighbor')))"
   ]
  },
  {
   "cell_type": "markdown",
   "id": "da0b62c4",
   "metadata": {
    "slideshow": {
     "slide_type": "slide"
    }
   },
   "source": [
    "### JSON"
   ]
  },
  {
   "cell_type": "markdown",
   "id": "290002d9",
   "metadata": {
    "slideshow": {
     "slide_type": "subslide"
    }
   },
   "source": [
    "# JSON"
   ]
  },
  {
   "cell_type": "markdown",
   "id": "396c7f01",
   "metadata": {},
   "source": [
    "- A simple way to represent data\n",
    "- Introduced for Javascript (JavaScript Object Notation)\n",
    "- More compact than HTML/XML, but still easy to read by humans\n",
    "- Anything that can be represented in XML can be represented in JSON\n",
    "- Serializable (can be directly dumped into a string)\n",
    "- Widely used by many langages"
   ]
  },
  {
   "cell_type": "markdown",
   "id": "3c17ae7c",
   "metadata": {
    "slideshow": {
     "slide_type": "subslide"
    }
   },
   "source": [
    "# JSON specification"
   ]
  },
  {
   "cell_type": "markdown",
   "id": "a2d1c588",
   "metadata": {},
   "source": [
    "JSON data can be:\n",
    "- A number\n",
    "- A string\n",
    "- A boolean, `true` or `false` (-> `True` or `False` in Python)\n",
    "- An ordered list of elements (-> Python `list`)\n",
    "- A collection of key–value pairs where the keys are strings (-> Python `dict`)\n",
    "- null: an empty value, using the word `null` (-> `None`)"
   ]
  },
  {
   "cell_type": "markdown",
   "id": "90436460",
   "metadata": {
    "slideshow": {
     "slide_type": "subslide"
    }
   },
   "source": [
    "# Example: from/to string"
   ]
  },
  {
   "cell_type": "code",
   "execution_count": 9,
   "id": "9ab15f0f",
   "metadata": {
    "ExecuteTime": {
     "end_time": "2023-01-11T08:08:58.386326Z",
     "start_time": "2023-01-11T08:08:58.373304Z"
    }
   },
   "outputs": [
    {
     "data": {
      "text/plain": [
       "'[\"a\\\\u00e9\\\\u00e7\\\\u00e8\\\\u00e0\", 1234, [4, 5, 6], {\"key1\": null, \"key2\": true}]'"
      ]
     },
     "execution_count": 9,
     "metadata": {},
     "output_type": "execute_result"
    }
   ],
   "source": [
    "from json import loads, dumps\n",
    "dumps(['aéçèà',1234,[4,5,6], {'key1': None, 'key2': True}])"
   ]
  },
  {
   "cell_type": "code",
   "execution_count": 10,
   "id": "59a41a65",
   "metadata": {
    "ExecuteTime": {
     "end_time": "2023-01-11T08:08:58.402312Z",
     "start_time": "2023-01-11T08:08:58.394303Z"
    }
   },
   "outputs": [
    {
     "data": {
      "text/plain": [
       "['aéçèà', 1234, [4, 5, 6], {'key1': None, 'key2': True}]"
      ]
     },
     "execution_count": 10,
     "metadata": {},
     "output_type": "execute_result"
    }
   ],
   "source": [
    "loads('[\"a\\\\u00e9\\\\u00e7\\\\u00e8\\\\u00e0\", 1234, [4, 5, 6], {\"key1\": null, \"key2\": true}]')"
   ]
  },
  {
   "cell_type": "markdown",
   "id": "af39dd7b",
   "metadata": {
    "slideshow": {
     "slide_type": "subslide"
    }
   },
   "source": [
    "# Example: from/to file"
   ]
  },
  {
   "cell_type": "code",
   "execution_count": 11,
   "id": "11abdc9d",
   "metadata": {
    "ExecuteTime": {
     "end_time": "2023-01-11T08:08:58.433314Z",
     "start_time": "2023-01-11T08:08:58.407305Z"
    }
   },
   "outputs": [],
   "source": [
    "from json import load, dump\n",
    "data = {}\n",
    "data['people'] = []\n",
    "data['people'].append({'name': 'Mark', 'website': 'facebook.com'})\n",
    "data['people'].append({'name': 'Larry', 'website': 'google.com'})\n",
    "data['people'].append({'name': 'Tim', 'website': 'apple.com',})\n",
    "with open('data.json', 'wt') as f:\n",
    "    dump(data, f)"
   ]
  },
  {
   "cell_type": "markdown",
   "id": "010fadfd",
   "metadata": {
    "slideshow": {
     "slide_type": "subslide"
    }
   },
   "source": [
    "# Example: from/to file"
   ]
  },
  {
   "cell_type": "code",
   "execution_count": 12,
   "id": "7770976b",
   "metadata": {
    "ExecuteTime": {
     "end_time": "2023-01-11T08:08:58.449316Z",
     "start_time": "2023-01-11T08:08:58.438316Z"
    }
   },
   "outputs": [
    {
     "data": {
      "text/plain": [
       "'{\"people\": [{\"name\": \"Mark\", \"website\": \"facebook.com\"}, {\"name\": \"Larry\", \"website\": \"google.com\"}, {\"name\": \"Tim\", \"website\": \"apple.com\"}]}'"
      ]
     },
     "execution_count": 12,
     "metadata": {},
     "output_type": "execute_result"
    }
   ],
   "source": [
    "with open('data.json', 'rt') as f:\n",
    "    raw = f.read()\n",
    "raw"
   ]
  },
  {
   "cell_type": "code",
   "execution_count": 13,
   "id": "d67609d6",
   "metadata": {
    "ExecuteTime": {
     "end_time": "2023-01-11T08:08:58.465177Z",
     "start_time": "2023-01-11T08:08:58.452688Z"
    },
    "scrolled": true
   },
   "outputs": [
    {
     "name": "stdout",
     "output_type": "stream",
     "text": [
      "Name: Mark; Website: facebook.com\n",
      "Name: Larry; Website: google.com\n",
      "Name: Tim; Website: apple.com\n"
     ]
    }
   ],
   "source": [
    "with open('data.json', 'rt') as f:\n",
    "    data = load(f)\n",
    "print('\\n'.join( f\"Name: {p['name']}; Website: {p['website']}\" for p in data['people']))"
   ]
  },
  {
   "cell_type": "markdown",
   "id": "4c2808b7",
   "metadata": {
    "slideshow": {
     "slide_type": "subslide"
    }
   },
   "source": [
    "# Fun fact: Jupyter Notebooks are... json"
   ]
  },
  {
   "cell_type": "code",
   "execution_count": 14,
   "id": "7e36c745",
   "metadata": {
    "ExecuteTime": {
     "end_time": "2023-01-11T08:08:58.497166Z",
     "start_time": "2023-01-11T08:08:58.469200Z"
    }
   },
   "outputs": [
    {
     "data": {
      "text/plain": [
       "[{'cell_type': 'markdown',\n",
       "  'id': 'dbf909f7',\n",
       "  'metadata': {},\n",
       "  'source': ['A notebook is just a text file with extension `.ipynb` that contains cells.\\n',\n",
       "   '- Two main types of cells:\\n',\n",
       "   '  - Markdown cells to write formatted text. You can itemize or write maths like $\\\\frac{\\\\sqrt{\\\\pi}}{2}$\\n',\n",
       "   '  - Code cell to execute Python code\\n',\n",
       "   '- This is a markdown cell']},\n",
       " {'cell_type': 'code',\n",
       "  'execution_count': 4,\n",
       "  'id': 'eb2d1671',\n",
       "  'metadata': {'ExecuteTime': {'end_time': '2023-01-11T08:04:22.947865Z',\n",
       "    'start_time': '2023-01-11T08:04:22.938861Z'},\n",
       "   'cell_style': 'split'},\n",
       "  'outputs': [],\n",
       "  'source': ['# This is a code cell\\n', 'x = 1+1']}]"
      ]
     },
     "execution_count": 14,
     "metadata": {},
     "output_type": "execute_result"
    }
   ],
   "source": [
    "with open('CELL22-C11-Mobile-Data-Analytics.ipynb', encoding='utf8') as f:\n",
    "    this_notebook = load(f)\n",
    "this_notebook['cells'][13:15]"
   ]
  },
  {
   "cell_type": "markdown",
   "id": "137fbf09",
   "metadata": {
    "slideshow": {
     "slide_type": "slide"
    }
   },
   "source": [
    "### CSV"
   ]
  },
  {
   "cell_type": "markdown",
   "id": "af786e03",
   "metadata": {
    "slideshow": {
     "slide_type": "subslide"
    }
   },
   "source": [
    "# DSV/CSV"
   ]
  },
  {
   "cell_type": "markdown",
   "id": "8f877a1b",
   "metadata": {},
   "source": [
    "- DSV/CSV: Delimiter/Comma Separated Values\n",
    "- Cheap format for tables (SQL outputs)\n",
    "- Each line is a row\n",
    "- Column are separated by a *delimiter*\n",
    "  - Comma (default)\n",
    "  - Tabulation, colon (:), semi-colon(;), space, pipe (|)...\n",
    "- The names of columns (field names) can be:\n",
    "  - internal, in the first row\n",
    "  - external, e.g. in a separate file"
   ]
  },
  {
   "cell_type": "markdown",
   "id": "1cb33db6",
   "metadata": {
    "slideshow": {
     "slide_type": "subslide"
    }
   },
   "source": [
    "# Example: the Big Mac index"
   ]
  },
  {
   "cell_type": "markdown",
   "id": "c3438eba",
   "metadata": {},
   "source": [
    "https://github.com/TheEconomist/big-mac-data"
   ]
  },
  {
   "cell_type": "code",
   "execution_count": 22,
   "id": "78cf80fe",
   "metadata": {
    "ExecuteTime": {
     "end_time": "2023-01-11T08:08:59.240229Z",
     "start_time": "2023-01-11T08:08:58.754255Z"
    }
   },
   "outputs": [
    {
     "name": "stdout",
     "output_type": "stream",
     "text": [
      "name,iso_a3,currency_code,local_price,dollar_ex,GDP_dollar,date\n",
      "Argentina,ARG,ARS,2.5,1,,2000-04-01\n",
      "Australia,AUS,AUD,2.59,1.68,,2000-04-01\n",
      "Brazil,BRA,BRL,2.95,1.79,,2000-04-01\n",
      "Britain,GBR,GBP,1.9,0.632911392,,2000-04-01\n",
      "Canada,CAN,CAD,2.85,1.47,,2000-04-01\n",
      "Chile,CHL,CLP,1260,514,,2000-04-01\n",
      "China,C\n"
     ]
    }
   ],
   "source": [
    "from requests import Session\n",
    "s = Session()\n",
    "url = \"https://github.com/TheEconomist/big-mac-data/raw/master/source-data/big-mac-source-data.csv\"\n",
    "big_mac = s.get(url).text\n",
    "print(big_mac[:300])"
   ]
  },
  {
   "cell_type": "markdown",
   "id": "ef409966",
   "metadata": {
    "slideshow": {
     "slide_type": "subslide"
    }
   },
   "source": [
    "# Using the csv module"
   ]
  },
  {
   "cell_type": "code",
   "execution_count": 23,
   "id": "0f1f4095",
   "metadata": {
    "ExecuteTime": {
     "end_time": "2023-01-11T08:08:59.255691Z",
     "start_time": "2023-01-11T08:08:59.243184Z"
    }
   },
   "outputs": [
    {
     "name": "stdout",
     "output_type": "stream",
     "text": [
      "France,3.5,2011-07-01\n",
      "France,3.6,2012-01-01\n",
      "France,3.6,2012-07-01\n",
      "France,3.6,2013-01-01\n",
      "France,3.9,2013-07-01\n",
      "France,3.8,2014-01-01\n",
      "France,3.9,2014-07-01\n",
      "France,3.9,2015-01-01\n",
      "France,4.1,2015-07-01\n",
      "France,4.1,2016-01-01\n",
      "France,4.1,2016-07-01\n",
      "France,4.1,2017-01-01\n",
      "France,4.1,2017-07-01\n",
      "France,4.2,2018-01-01\n",
      "France,4.2,2018-07-01\n",
      "France,4.2,2019-01-01\n",
      "France,4.2,2019-07-09\n",
      "France,4.2,2020-01-14\n",
      "France,4.2,2020-07-01\n",
      "France,4.2,2021-01-01\n",
      "France,4.3,2021-07-01\n",
      "France,4.35,2022-01-01\n",
      "France,4.7,2022-07-01\n"
     ]
    }
   ],
   "source": [
    "from io import StringIO # Make a string look like a file\n",
    "import csv\n",
    "with StringIO(big_mac) as csvfile:\n",
    "    r = csv.reader(csvfile)\n",
    "    for row in r:\n",
    "        if(row[0] == \"France\"):\n",
    "            print(str(row[0]) + ',' + str(row[3]) + ',' + str(row[6]))"
   ]
  },
  {
   "cell_type": "markdown",
   "id": "fd959440",
   "metadata": {
    "slideshow": {
     "slide_type": "subslide"
    }
   },
   "source": [
    "# Using the csv module"
   ]
  },
  {
   "cell_type": "code",
   "execution_count": 24,
   "id": "cfff2e4a",
   "metadata": {
    "ExecuteTime": {
     "end_time": "2023-01-11T08:08:59.286915Z",
     "start_time": "2023-01-11T08:08:59.257690Z"
    }
   },
   "outputs": [
    {
     "name": "stdout",
     "output_type": "stream",
     "text": [
      "name,local_price,date\n",
      "Argentina,2.5,2000-04-01\n",
      "Australia,2.59,2000-04-01\n",
      "Brazil,2.95,2000-04-01\n",
      "Britain,1.9,2000-04-01\n",
      "Canada,2.85,2000-04-01\n",
      "Chile,1260,2000-04-01\n",
      "China,9.9,2000-04-01\n"
     ]
    }
   ],
   "source": [
    "with StringIO(big_mac) as csvfile:\n",
    "    r = csv.reader(csvfile)\n",
    "    for i, row in enumerate(r):\n",
    "        print(str(row[0]) + ',' + str(row[3]) + ',' + str(row[6]))\n",
    "        if i>6:\n",
    "            break"
   ]
  },
  {
   "cell_type": "markdown",
   "id": "554bfaed",
   "metadata": {
    "slideshow": {
     "slide_type": "subslide"
    }
   },
   "source": [
    "# Using the csv module"
   ]
  },
  {
   "cell_type": "code",
   "execution_count": 25,
   "id": "040ace82",
   "metadata": {
    "ExecuteTime": {
     "end_time": "2023-01-11T08:08:59.302917Z",
     "start_time": "2023-01-11T08:08:59.289917Z"
    }
   },
   "outputs": [
    {
     "name": "stdout",
     "output_type": "stream",
     "text": [
      "Austria 4.35\n",
      "Belgium 4.6\n",
      "Germany 4.58\n",
      "Spain 4.58\n",
      "Estonia 3.4\n",
      "Euro area 4.65\n",
      "Finland 5.25\n",
      "France 4.7\n",
      "Greece 4\n",
      "Ireland 5\n",
      "Italy 5.1\n",
      "Lithuania 3.05\n",
      "Latvia 3\n",
      "Netherlands 4.5\n",
      "Portugal 4\n",
      "Slovakia 3.9\n",
      "Slovenia 3.2\n"
     ]
    }
   ],
   "source": [
    "with StringIO(big_mac) as csvfile:\n",
    "    r = csv.DictReader(csvfile)\n",
    "    for row in r:\n",
    "        if row['currency_code'] == 'EUR' and '2022-07' in row['date']:\n",
    "            print(row['name'], row['local_price'])"
   ]
  },
  {
   "cell_type": "markdown",
   "id": "3d474d66",
   "metadata": {
    "slideshow": {
     "slide_type": "subslide"
    }
   },
   "source": [
    "# Pandas"
   ]
  },
  {
   "cell_type": "markdown",
   "id": "8583d2b0",
   "metadata": {},
   "source": [
    "- Pandas is a powerful solution for processing CSV / SQL / XLS\n",
    "- For CSV: a function `read_csv` is provided\n",
    "- Delimiter can be specified with the `delimiter` option (defaults to `,`)\n",
    "- Field names can be extracted internally (default: first row) or externally (passed with the `names` option)"
   ]
  },
  {
   "cell_type": "markdown",
   "id": "cfb749dc",
   "metadata": {
    "slideshow": {
     "slide_type": "subslide"
    }
   },
   "source": [
    "# Pandas"
   ]
  },
  {
   "cell_type": "code",
   "execution_count": 26,
   "id": "3ba99573",
   "metadata": {
    "ExecuteTime": {
     "end_time": "2023-01-11T08:08:59.920843Z",
     "start_time": "2023-01-11T08:08:59.305916Z"
    }
   },
   "outputs": [
    {
     "data": {
      "text/html": [
       "<div>\n",
       "<style scoped>\n",
       "    .dataframe tbody tr th:only-of-type {\n",
       "        vertical-align: middle;\n",
       "    }\n",
       "\n",
       "    .dataframe tbody tr th {\n",
       "        vertical-align: top;\n",
       "    }\n",
       "\n",
       "    .dataframe thead th {\n",
       "        text-align: right;\n",
       "    }\n",
       "</style>\n",
       "<table border=\"1\" class=\"dataframe\">\n",
       "  <thead>\n",
       "    <tr style=\"text-align: right;\">\n",
       "      <th></th>\n",
       "      <th>name</th>\n",
       "      <th>iso_a3</th>\n",
       "      <th>currency_code</th>\n",
       "      <th>local_price</th>\n",
       "      <th>dollar_ex</th>\n",
       "      <th>GDP_dollar</th>\n",
       "      <th>date</th>\n",
       "    </tr>\n",
       "  </thead>\n",
       "  <tbody>\n",
       "    <tr>\n",
       "      <th>0</th>\n",
       "      <td>Argentina</td>\n",
       "      <td>ARG</td>\n",
       "      <td>ARS</td>\n",
       "      <td>2.50</td>\n",
       "      <td>1.000000</td>\n",
       "      <td>NaN</td>\n",
       "      <td>2000-04-01</td>\n",
       "    </tr>\n",
       "    <tr>\n",
       "      <th>1</th>\n",
       "      <td>Australia</td>\n",
       "      <td>AUS</td>\n",
       "      <td>AUD</td>\n",
       "      <td>2.59</td>\n",
       "      <td>1.680000</td>\n",
       "      <td>NaN</td>\n",
       "      <td>2000-04-01</td>\n",
       "    </tr>\n",
       "    <tr>\n",
       "      <th>2</th>\n",
       "      <td>Brazil</td>\n",
       "      <td>BRA</td>\n",
       "      <td>BRL</td>\n",
       "      <td>2.95</td>\n",
       "      <td>1.790000</td>\n",
       "      <td>NaN</td>\n",
       "      <td>2000-04-01</td>\n",
       "    </tr>\n",
       "    <tr>\n",
       "      <th>3</th>\n",
       "      <td>Britain</td>\n",
       "      <td>GBR</td>\n",
       "      <td>GBP</td>\n",
       "      <td>1.90</td>\n",
       "      <td>0.632911</td>\n",
       "      <td>NaN</td>\n",
       "      <td>2000-04-01</td>\n",
       "    </tr>\n",
       "    <tr>\n",
       "      <th>4</th>\n",
       "      <td>Canada</td>\n",
       "      <td>CAN</td>\n",
       "      <td>CAD</td>\n",
       "      <td>2.85</td>\n",
       "      <td>1.470000</td>\n",
       "      <td>NaN</td>\n",
       "      <td>2000-04-01</td>\n",
       "    </tr>\n",
       "    <tr>\n",
       "      <th>...</th>\n",
       "      <td>...</td>\n",
       "      <td>...</td>\n",
       "      <td>...</td>\n",
       "      <td>...</td>\n",
       "      <td>...</td>\n",
       "      <td>...</td>\n",
       "      <td>...</td>\n",
       "    </tr>\n",
       "    <tr>\n",
       "      <th>1943</th>\n",
       "      <td>Uruguay</td>\n",
       "      <td>URY</td>\n",
       "      <td>UYU</td>\n",
       "      <td>255.00</td>\n",
       "      <td>41.910000</td>\n",
       "      <td>15169.153</td>\n",
       "      <td>2022-07-01</td>\n",
       "    </tr>\n",
       "    <tr>\n",
       "      <th>1944</th>\n",
       "      <td>United States</td>\n",
       "      <td>USA</td>\n",
       "      <td>USD</td>\n",
       "      <td>5.77</td>\n",
       "      <td>1.000000</td>\n",
       "      <td>63078.471</td>\n",
       "      <td>2022-07-01</td>\n",
       "    </tr>\n",
       "    <tr>\n",
       "      <th>1945</th>\n",
       "      <td>Venezuela</td>\n",
       "      <td>VEN</td>\n",
       "      <td>VES</td>\n",
       "      <td>10.00</td>\n",
       "      <td>5.673200</td>\n",
       "      <td>1690.659</td>\n",
       "      <td>2022-07-01</td>\n",
       "    </tr>\n",
       "    <tr>\n",
       "      <th>1946</th>\n",
       "      <td>Vietnam</td>\n",
       "      <td>VNM</td>\n",
       "      <td>VND</td>\n",
       "      <td>69000.00</td>\n",
       "      <td>23417.000000</td>\n",
       "      <td>3520.738</td>\n",
       "      <td>2022-07-01</td>\n",
       "    </tr>\n",
       "    <tr>\n",
       "      <th>1947</th>\n",
       "      <td>South Africa</td>\n",
       "      <td>ZAF</td>\n",
       "      <td>ZAR</td>\n",
       "      <td>39.90</td>\n",
       "      <td>17.036250</td>\n",
       "      <td>5624.500</td>\n",
       "      <td>2022-07-01</td>\n",
       "    </tr>\n",
       "  </tbody>\n",
       "</table>\n",
       "<p>1948 rows × 7 columns</p>\n",
       "</div>"
      ],
      "text/plain": [
       "               name iso_a3 currency_code  local_price     dollar_ex  \\\n",
       "0         Argentina    ARG           ARS         2.50      1.000000   \n",
       "1         Australia    AUS           AUD         2.59      1.680000   \n",
       "2            Brazil    BRA           BRL         2.95      1.790000   \n",
       "3           Britain    GBR           GBP         1.90      0.632911   \n",
       "4            Canada    CAN           CAD         2.85      1.470000   \n",
       "...             ...    ...           ...          ...           ...   \n",
       "1943        Uruguay    URY           UYU       255.00     41.910000   \n",
       "1944  United States    USA           USD         5.77      1.000000   \n",
       "1945      Venezuela    VEN           VES        10.00      5.673200   \n",
       "1946        Vietnam    VNM           VND     69000.00  23417.000000   \n",
       "1947   South Africa    ZAF           ZAR        39.90     17.036250   \n",
       "\n",
       "      GDP_dollar        date  \n",
       "0            NaN  2000-04-01  \n",
       "1            NaN  2000-04-01  \n",
       "2            NaN  2000-04-01  \n",
       "3            NaN  2000-04-01  \n",
       "4            NaN  2000-04-01  \n",
       "...          ...         ...  \n",
       "1943   15169.153  2022-07-01  \n",
       "1944   63078.471  2022-07-01  \n",
       "1945    1690.659  2022-07-01  \n",
       "1946    3520.738  2022-07-01  \n",
       "1947    5624.500  2022-07-01  \n",
       "\n",
       "[1948 rows x 7 columns]"
      ]
     },
     "execution_count": 26,
     "metadata": {},
     "output_type": "execute_result"
    }
   ],
   "source": [
    "import pandas as pd\n",
    "with StringIO(big_mac) as csvfile:\n",
    "    big_mac_df = pd.read_csv(csvfile)\n",
    "big_mac_df"
   ]
  },
  {
   "cell_type": "markdown",
   "id": "9bb23dd0",
   "metadata": {
    "slideshow": {
     "slide_type": "subslide"
    }
   },
   "source": [
    "# Manual loading"
   ]
  },
  {
   "cell_type": "code",
   "execution_count": 27,
   "id": "784ef2e1",
   "metadata": {
    "ExecuteTime": {
     "end_time": "2023-01-11T08:08:59.952480Z",
     "start_time": "2023-01-11T08:08:59.922831Z"
    }
   },
   "outputs": [],
   "source": [
    "from datetime import datetime\n",
    "from dataclasses import dataclass\n",
    "@dataclass\n",
    "class BMI:\n",
    "    name: str\n",
    "    cc: str\n",
    "    cu: str\n",
    "    price: float\n",
    "    d_ex: float\n",
    "    gpd: float\n",
    "    date: datetime\n",
    "        \n",
    "    def __post_init__(self):\n",
    "        self.price = float(self.price) if self.price else None\n",
    "        self.d_ex = float(self.d_ex) if self.d_ex else None\n",
    "        self.gpd = float(self.gpd) if self.gpd else None\n",
    "        self.date = datetime.strptime(self.date, \"%Y-%m-%d\")\n",
    "        \n",
    "\n",
    "with StringIO(big_mac) as csvfile:\n",
    "    fields = csvfile.readline().strip().split(',')\n",
    "    data = [BMI(*line.strip().split(',')) for line in csvfile.readlines()]"
   ]
  },
  {
   "cell_type": "markdown",
   "id": "8695e649",
   "metadata": {
    "slideshow": {
     "slide_type": "subslide"
    }
   },
   "source": [
    "# Manual loading"
   ]
  },
  {
   "cell_type": "code",
   "execution_count": 28,
   "id": "77c619de",
   "metadata": {
    "ExecuteTime": {
     "end_time": "2023-01-11T08:08:59.967846Z",
     "start_time": "2023-01-11T08:08:59.958844Z"
    }
   },
   "outputs": [
    {
     "data": {
      "text/plain": [
       "[BMI(name='Norway', cc='NOR', cu='NOK', price=45.0, d_ex=6.24625, gpd=None, date=datetime.datetime(2010, 7, 1, 0, 0)),\n",
       " BMI(name='Pakistan', cc='PAK', cu='PKR', price=210.0, d_ex=85.525, gpd=None, date=datetime.datetime(2010, 7, 1, 0, 0)),\n",
       " BMI(name='Peru', cc='PER', cu='PEN', price=10.0, d_ex=2.8275, gpd=None, date=datetime.datetime(2010, 7, 1, 0, 0)),\n",
       " BMI(name='Philippines', cc='PHL', cu='PHP', price=102.0, d_ex=46.47, gpd=None, date=datetime.datetime(2010, 7, 1, 0, 0)),\n",
       " BMI(name='Poland', cc='POL', cu='PLN', price=8.3, d_ex=3.1969, gpd=None, date=datetime.datetime(2010, 7, 1, 0, 0)),\n",
       " BMI(name='Russia', cc='RUS', cu='RUB', price=71.0, d_ex=30.44325, gpd=None, date=datetime.datetime(2010, 7, 1, 0, 0))]"
      ]
     },
     "execution_count": 28,
     "metadata": {},
     "output_type": "execute_result"
    }
   ],
   "source": [
    "data[500:506]"
   ]
  },
  {
   "cell_type": "markdown",
   "id": "bed92adf",
   "metadata": {
    "slideshow": {
     "slide_type": "slide"
    }
   },
   "source": [
    "### CDR CSV"
   ]
  },
  {
   "cell_type": "markdown",
   "id": "d33df206",
   "metadata": {
    "slideshow": {
     "slide_type": "subslide"
    }
   },
   "source": [
    "# Mobile: Call Detail Record (CDR)"
   ]
  },
  {
   "cell_type": "markdown",
   "id": "3194ca2c",
   "metadata": {},
   "source": [
    "Call Detail Record (CDR)\n",
    "- Data on mobile traffic (call, SMS, Internet) are usually collected by mobile operator in the form of Call Detail Record (CDR)\n",
    "- Used for billing and network management\n",
    "- There exist dozen types of CDR\n",
    "- An example of CDR: Timestamp, Caller_id, Callee_id, Call_duration, Antenna_code"
   ]
  },
  {
   "cell_type": "markdown",
   "id": "869f45bb",
   "metadata": {
    "slideshow": {
     "slide_type": "subslide"
    }
   },
   "source": [
    "# Example of CDR data structure"
   ]
  },
  {
   "cell_type": "markdown",
   "id": "a139f6ba",
   "metadata": {},
   "source": [
    "From https://arxiv.org/pdf/1210.0137v1.pdf"
   ]
  },
  {
   "cell_type": "markdown",
   "id": "f1c373bc",
   "metadata": {
    "cell_style": "split"
   },
   "source": [
    "`CREATE TABLE H_A_FLOWS (\n",
    "date_hour TIMESTAMP,\n",
    "originating_ant INTEGER,\n",
    "terminating_ant INTEGER,\n",
    "nb_voice_calls INTEGER,\n",
    "duration_voice_calls INTEGER\n",
    ");`"
   ]
  },
  {
   "cell_type": "markdown",
   "id": "e8256107",
   "metadata": {
    "cell_style": "split"
   },
   "source": [
    "`2012-04-28 23:00:00 1236 786 2 96\n",
    "2012-04-28 23:00:00 1236 804 1 539\n",
    "2012-04-28 23:00:00 1236 867 3 1778\n",
    "2012-04-28 23:00:00 1236 939 1 1\n",
    "2012-04-28 23:00:00 1236 1020 6 108\n",
    "2012-04-28 23:00:00 1236 1065 1 1047\n",
    "2012-04-28 23:00:00 1236 1191 1 67\n",
    "2012-04-28 23:00:00 1236 1236 18 2212\n",
    "2012-04-28 23:00:00 1237 323 1 636\n",
    "2012-04-28 23:00:00 1237 710 1 252`"
   ]
  },
  {
   "cell_type": "markdown",
   "id": "187900ae",
   "metadata": {
    "slideshow": {
     "slide_type": "subslide"
    }
   },
   "source": [
    "# Example of CDR data structure"
   ]
  },
  {
   "cell_type": "markdown",
   "id": "2d7ee070",
   "metadata": {},
   "source": [
    "From https://arxiv.org/pdf/1210.0137v1.pdf"
   ]
  },
  {
   "cell_type": "markdown",
   "id": "74a298e7",
   "metadata": {
    "cell_style": "split"
   },
   "source": [
    "`CREATE TABLE ANT_POS(\n",
    "antenna_id INTEGER,\n",
    "longitude FLOAT,\n",
    "latitude FLOAT,\n",
    ");`"
   ]
  },
  {
   "cell_type": "markdown",
   "id": "6d8cbfc6",
   "metadata": {
    "cell_style": "split"
   },
   "source": [
    "`1 -4.143452 5.342044\n",
    "2 -3.913602 5.341612\n",
    "3 -3.967045 5.263331\n",
    "4 -4.070007 5.451365\n",
    "5 -3.496235 6.729410\n",
    "6 -3.485944 6.729422\n",
    "7 -3.981175 5.273144\n",
    "8 -3.911705 5.858010\n",
    "9 -4.014445 5.421120`"
   ]
  },
  {
   "cell_type": "markdown",
   "id": "765362b6",
   "metadata": {
    "slideshow": {
     "slide_type": "slide"
    }
   },
   "source": [
    "### Milano Grid Dataset"
   ]
  },
  {
   "cell_type": "markdown",
   "id": "bbcbc2a4",
   "metadata": {
    "slideshow": {
     "slide_type": "subslide"
    }
   },
   "source": [
    "# Milano Grid Dataset"
   ]
  },
  {
   "cell_type": "markdown",
   "id": "e5ee03b7",
   "metadata": {},
   "source": [
    "- In 2014, Telecom Italia launches the Big Data Challenge\n",
    "  - Originally on https://dandelion.eu/datamine/open-big-data/\n",
    "  - OpenData: proxies exist, e.g. https://dataverse.harvard.edu/dataset.xhtml?persistentId=doi:10.7910/DVN/EGZHFV\n",
    "- Multiple datasets that aggregate CDRs and other data in various ways in Milano and Trento\n",
    "  - Practical: focus on Milano call, SMS and Internet connection\n",
    "- 2 months of data collected in November and December 2013\n",
    "  - Practical: focus on 01/12/2013"
   ]
  },
  {
   "cell_type": "markdown",
   "id": "811ea63a",
   "metadata": {
    "slideshow": {
     "slide_type": "subslide"
    }
   },
   "source": [
    "# Milano Grid Files"
   ]
  },
  {
   "cell_type": "markdown",
   "id": "22bcd5da",
   "metadata": {},
   "source": [
    "- Each file contains data of one-day traffic\n",
    "- File size: 270 - 350 MB\n",
    "- https://dataverse.harvard.edu/dataset.xhtml?persistentId=doi:10.7910/DVN/EGZHFV"
   ]
  },
  {
   "cell_type": "markdown",
   "id": "9243f3c1",
   "metadata": {
    "slideshow": {
     "slide_type": "subslide"
    }
   },
   "source": [
    "# Data in file"
   ]
  },
  {
   "cell_type": "markdown",
   "id": "ee5f8df2",
   "metadata": {},
   "source": [
    "TSV file with 8 columns:\n",
    "1. **Square id**: the identifier of the square where the data are measured.\n",
    "2. **Time interval**: the starting time of a 10-minute time interval.\n",
    "3. **Country code**: calling code related to the measured activity.\n",
    "4. **SMS-in**: incoming SMS activities (in the square during the time interval).\n",
    "5. **SMS-out**: outgoing SMS activity.\n",
    "6. **Call-in**: incoming call activities.\n",
    "7. **Call-out**: outgoing call activities.\n",
    "8. **Internet**: Internet activities."
   ]
  },
  {
   "cell_type": "markdown",
   "id": "2f4d605d",
   "metadata": {
    "slideshow": {
     "slide_type": "subslide"
    }
   },
   "source": [
    "# Data in file"
   ]
  },
  {
   "attachments": {
    "square.png": {
     "image/png": "[encoded data removed]"
    }
   },
   "cell_type": "markdown",
   "id": "3bf96a0d",
   "metadata": {},
   "source": [
    "1. **Square id**: the identifier of the square where the data are measured. The Milan city is divided into a \n",
    "grid of 100 x 100 squares as illustrated in the following figure:<br>\n",
    "![square.png](attachment:square.png)"
   ]
  },
  {
   "cell_type": "markdown",
   "id": "ae3d3640",
   "metadata": {
    "slideshow": {
     "slide_type": "subslide"
    }
   },
   "source": [
    "# Data in file"
   ]
  },
  {
   "cell_type": "markdown",
   "id": "aee85d60",
   "metadata": {},
   "source": [
    "**Time interval**: this value indicates the starting time of a 10-minute time interval expressed in the \n",
    "number of milliseconds elapsed since 1st January 1970, UTC. The end of the time interval is obtained \n",
    "by adding 600 000 milliseconds (10 minutes). That means that the measurements are done every 10 \n",
    "minutes."
   ]
  },
  {
   "cell_type": "markdown",
   "id": "f37b21e0",
   "metadata": {
    "slideshow": {
     "slide_type": "subslide"
    }
   },
   "source": [
    "# Data in file"
   ]
  },
  {
   "cell_type": "markdown",
   "id": "396e3bef",
   "metadata": {},
   "source": [
    "- **SMS-in**: The country code indicates the country of the SMS sender.\n",
    "- **SMS-out**: The country code indicates the country of the SMS receiver.\n",
    "- **Call-in**: The country code indicates the country of the caller.\n",
    "- **Call-out**: The country code indicates the country of the callee.\n",
    "- **Internet**: The country code indicates the \n",
    "country of the user."
   ]
  },
  {
   "cell_type": "markdown",
   "id": "03670abc",
   "metadata": {
    "slideshow": {
     "slide_type": "subslide"
    }
   },
   "source": [
    "# Data in file"
   ]
  },
  {
   "cell_type": "markdown",
   "id": "5346ddc6",
   "metadata": {},
   "source": [
    "- Data registered in each line is calculated as an **aggregation** of Call Detail Record (CDR) generated by the Telecom Italia network\n",
    "- SMS-in / SMS-out: A CDR is generated every time a user receives an SMS (SMS-in) or sends an SMS (SMS-out)\n",
    "- Call-in / Call-out: A CDR is generated every time a user is called (Call-in) or makes a call (Call-out)\n",
    "- Internet connection: A CDR is generated when a user starts an Internet connection or terminates an Internet connection.\n",
    "- During the Internet connection, an additional CDR is generated when its duration reaches 15 mn or 5 MB since its last CDR \n",
    "- The data is normalized for confidentiality reasons"
   ]
  },
  {
   "cell_type": "markdown",
   "id": "76f2e18f",
   "metadata": {
    "slideshow": {
     "slide_type": "subslide"
    }
   },
   "source": [
    "# Load data: direct read"
   ]
  },
  {
   "cell_type": "code",
   "execution_count": 29,
   "id": "2764995b",
   "metadata": {
    "ExecuteTime": {
     "end_time": "2023-01-11T08:08:59.983884Z",
     "start_time": "2023-01-11T08:08:59.970838Z"
    }
   },
   "outputs": [
    {
     "name": "stdout",
     "output_type": "stream",
     "text": [
      "1:1385852400000:39:0.11098916961424417:0.16621436886121638:0.10920185950874473:0.16442705875571695:13.648437920592805\n",
      "1:1385852400000:46:::::0.026137424264286602\n",
      "1:1385853000000:39:0.16513682662061693:0.1763994583739133:0.030875085088185057:0.02730046487718618:13.330858194494864\n",
      "1:1385853600000:0:0.029087774982685617:0.02730046487718618:::\n",
      "1:1385853600000:39:0.18645109168870494:0.13658782275823106:0.05460092975437236::11.329552259939573\n",
      "1:1385854200000:39:0.21965225800268914:0.38112896604000707:0.0825256641241584:0.13596355326563117:13.16616288096205\n",
      "1:1385854800000:39:0.29511418007714996:0.11045039849394445:0.05460092975437236:0.07957531340575938:13.32165338919027\n",
      "1:1385854800000:46:::::0.026137424264286602\n",
      "1:1385855400000:39:0.052274848528573205:0.13542478214533146:0.05343788914147278:0.02730046487718618:12.434743835804813\n",
      "1:1385856000000:0:0.026137424264286602::::\n",
      "\n"
     ]
    }
   ],
   "source": [
    "from pathlib import Path\n",
    "grid_file = Path(r'../../../Downloads/sms-call-internet-mi-2013-12-01.txt')\n",
    "with open(grid_file) as f:\n",
    "    print(\"\".join(f.readline().replace('\\t', ':') for _ in range(10)))"
   ]
  },
  {
   "cell_type": "markdown",
   "id": "986c8717",
   "metadata": {
    "slideshow": {
     "slide_type": "subslide"
    }
   },
   "source": [
    "# Load data: custom class"
   ]
  },
  {
   "cell_type": "markdown",
   "id": "72b965ac",
   "metadata": {},
   "source": [
    "It would be nice if we could understand:\n",
    "- Time\n",
    "- Country"
   ]
  },
  {
   "cell_type": "markdown",
   "id": "325db975",
   "metadata": {
    "slideshow": {
     "slide_type": "subslide"
    }
   },
   "source": [
    "# Load data: time for custom class"
   ]
  },
  {
   "cell_type": "code",
   "execution_count": 30,
   "id": "0392dfc0",
   "metadata": {
    "ExecuteTime": {
     "end_time": "2023-01-11T08:08:59.999835Z",
     "start_time": "2023-01-11T08:08:59.985874Z"
    }
   },
   "outputs": [
    {
     "data": {
      "text/plain": [
       "datetime.datetime(2013, 12, 1, 0, 0)"
      ]
     },
     "execution_count": 30,
     "metadata": {},
     "output_type": "execute_result"
    }
   ],
   "source": [
    "datetime.fromtimestamp(1385852400000/1000)"
   ]
  },
  {
   "cell_type": "markdown",
   "id": "cf4dda9a",
   "metadata": {
    "slideshow": {
     "slide_type": "subslide"
    }
   },
   "source": [
    "# Load data: custom class"
   ]
  },
  {
   "cell_type": "code",
   "execution_count": 31,
   "id": "75698114",
   "metadata": {
    "ExecuteTime": {
     "end_time": "2023-01-11T08:09:01.964044Z",
     "start_time": "2023-01-11T08:09:00.001842Z"
    }
   },
   "outputs": [],
   "source": [
    "soup = Soup(s.get('https://countrycode.org/').text)"
   ]
  },
  {
   "cell_type": "code",
   "execution_count": 32,
   "id": "6588201e",
   "metadata": {
    "ExecuteTime": {
     "end_time": "2023-01-11T08:09:01.979894Z",
     "start_time": "2023-01-11T08:09:01.966045Z"
    }
   },
   "outputs": [],
   "source": [
    "ccs = {0: None}\n",
    "for row in soup.table('tr'):\n",
    "    tds = row('td')\n",
    "    if tds:\n",
    "        try:\n",
    "            cc = int(tds[1].text)\n",
    "            co = tds[2].text.split(' / ')[0]\n",
    "            if cc in ccs:\n",
    "                ccs[cc] += f\"/{co}\"\n",
    "            else:\n",
    "                ccs[cc] = co\n",
    "        except ValueError:\n",
    "            pass"
   ]
  },
  {
   "cell_type": "markdown",
   "id": "b51f22c6",
   "metadata": {
    "slideshow": {
     "slide_type": "subslide"
    }
   },
   "source": [
    "# Load data: custom class"
   ]
  },
  {
   "cell_type": "code",
   "execution_count": 33,
   "id": "8723c3a8",
   "metadata": {
    "ExecuteTime": {
     "end_time": "2023-01-11T08:09:02.011116Z",
     "start_time": "2023-01-11T08:09:01.981882Z"
    }
   },
   "outputs": [],
   "source": [
    "@dataclass\n",
    "class CDR:\n",
    "    loc: int\n",
    "    t: datetime\n",
    "    co: float\n",
    "    sin: float\n",
    "    sout: float\n",
    "    cin: float\n",
    "    cout: float\n",
    "    web: float\n",
    "        \n",
    "    def conv(self, attr, typ):\n",
    "        value = getattr(self, attr).strip()\n",
    "        value = typ(value) if value else None\n",
    "        setattr(self, attr, value)\n",
    "              \n",
    "    def __post_init__(self):\n",
    "        for attr in ['loc', 't', 'co']:\n",
    "            self.conv(attr, int)\n",
    "        self.t = datetime.fromtimestamp(self.t/1000)\n",
    "        self.co = ccs[self.co]\n",
    "        for attr in ['sin', 'sout', 'cin', 'cout', 'web']:\n",
    "            self.conv(attr, float)"
   ]
  },
  {
   "cell_type": "markdown",
   "id": "5c11b6c1",
   "metadata": {
    "slideshow": {
     "slide_type": "subslide"
    }
   },
   "source": [
    "# Load data: custom class"
   ]
  },
  {
   "cell_type": "code",
   "execution_count": 34,
   "id": "8f9ef606",
   "metadata": {
    "ExecuteTime": {
     "end_time": "2023-01-11T08:09:02.027100Z",
     "start_time": "2023-01-11T08:09:02.013098Z"
    }
   },
   "outputs": [
    {
     "data": {
      "text/plain": [
       "[\"CDR(loc=1, t=datetime.datetime(2013, 12, 1, 0, 0), co='IT', sin=0.11098916961424417, sout=0.16621436886121638, cin=0.10920185950874473, cout=0.16442705875571695, web=13.648437920592805)\",\n",
       " \"CDR(loc=1, t=datetime.datetime(2013, 12, 1, 0, 0), co='SE', sin=None, sout=None, cin=None, cout=None, web=0.026137424264286602)\",\n",
       " \"CDR(loc=1, t=datetime.datetime(2013, 12, 1, 0, 10), co='IT', sin=0.16513682662061693, sout=0.1763994583739133, cin=0.030875085088185057, cout=0.02730046487718618, web=13.330858194494864)\",\n",
       " 'CDR(loc=1, t=datetime.datetime(2013, 12, 1, 0, 20), co=None, sin=0.029087774982685617, sout=0.02730046487718618, cin=None, cout=None, web=None)',\n",
       " \"CDR(loc=1, t=datetime.datetime(2013, 12, 1, 0, 20), co='IT', sin=0.18645109168870494, sout=0.13658782275823106, cin=0.05460092975437236, cout=None, web=11.329552259939573)\"]"
      ]
     },
     "execution_count": 34,
     "metadata": {},
     "output_type": "execute_result"
    }
   ],
   "source": [
    "with open(grid_file) as f:\n",
    "    data = [str(CDR(*f.readline().split('\\t'))) for _ in range(10)]\n",
    "data[:5]"
   ]
  },
  {
   "cell_type": "markdown",
   "id": "069c11ba",
   "metadata": {
    "slideshow": {
     "slide_type": "subslide"
    }
   },
   "source": [
    "# Load data: pandas"
   ]
  },
  {
   "cell_type": "code",
   "execution_count": 35,
   "id": "44be70a4",
   "metadata": {
    "ExecuteTime": {
     "end_time": "2023-01-11T08:09:02.058641Z",
     "start_time": "2023-01-11T08:09:02.029100Z"
    }
   },
   "outputs": [
    {
     "data": {
      "text/html": [
       "<div>\n",
       "<style scoped>\n",
       "    .dataframe tbody tr th:only-of-type {\n",
       "        vertical-align: middle;\n",
       "    }\n",
       "\n",
       "    .dataframe tbody tr th {\n",
       "        vertical-align: top;\n",
       "    }\n",
       "\n",
       "    .dataframe thead th {\n",
       "        text-align: right;\n",
       "    }\n",
       "</style>\n",
       "<table border=\"1\" class=\"dataframe\">\n",
       "  <thead>\n",
       "    <tr style=\"text-align: right;\">\n",
       "      <th></th>\n",
       "      <th>loc</th>\n",
       "      <th>ts</th>\n",
       "      <th>cc</th>\n",
       "      <th>sin</th>\n",
       "      <th>sout</th>\n",
       "      <th>cin</th>\n",
       "      <th>cout</th>\n",
       "      <th>web</th>\n",
       "    </tr>\n",
       "  </thead>\n",
       "  <tbody>\n",
       "    <tr>\n",
       "      <th>0</th>\n",
       "      <td>1</td>\n",
       "      <td>1385852400000</td>\n",
       "      <td>39</td>\n",
       "      <td>0.110989</td>\n",
       "      <td>0.166214</td>\n",
       "      <td>0.109202</td>\n",
       "      <td>0.164427</td>\n",
       "      <td>13.648438</td>\n",
       "    </tr>\n",
       "    <tr>\n",
       "      <th>1</th>\n",
       "      <td>1</td>\n",
       "      <td>1385852400000</td>\n",
       "      <td>46</td>\n",
       "      <td>NaN</td>\n",
       "      <td>NaN</td>\n",
       "      <td>NaN</td>\n",
       "      <td>NaN</td>\n",
       "      <td>0.026137</td>\n",
       "    </tr>\n",
       "    <tr>\n",
       "      <th>2</th>\n",
       "      <td>1</td>\n",
       "      <td>1385853000000</td>\n",
       "      <td>39</td>\n",
       "      <td>0.165137</td>\n",
       "      <td>0.176399</td>\n",
       "      <td>0.030875</td>\n",
       "      <td>0.027300</td>\n",
       "      <td>13.330858</td>\n",
       "    </tr>\n",
       "    <tr>\n",
       "      <th>3</th>\n",
       "      <td>1</td>\n",
       "      <td>1385853600000</td>\n",
       "      <td>0</td>\n",
       "      <td>0.029088</td>\n",
       "      <td>0.027300</td>\n",
       "      <td>NaN</td>\n",
       "      <td>NaN</td>\n",
       "      <td>NaN</td>\n",
       "    </tr>\n",
       "    <tr>\n",
       "      <th>4</th>\n",
       "      <td>1</td>\n",
       "      <td>1385853600000</td>\n",
       "      <td>39</td>\n",
       "      <td>0.186451</td>\n",
       "      <td>0.136588</td>\n",
       "      <td>0.054601</td>\n",
       "      <td>NaN</td>\n",
       "      <td>11.329552</td>\n",
       "    </tr>\n",
       "    <tr>\n",
       "      <th>...</th>\n",
       "      <td>...</td>\n",
       "      <td>...</td>\n",
       "      <td>...</td>\n",
       "      <td>...</td>\n",
       "      <td>...</td>\n",
       "      <td>...</td>\n",
       "      <td>...</td>\n",
       "      <td>...</td>\n",
       "    </tr>\n",
       "    <tr>\n",
       "      <th>995</th>\n",
       "      <td>100</td>\n",
       "      <td>1385912400000</td>\n",
       "      <td>39</td>\n",
       "      <td>0.282041</td>\n",
       "      <td>0.239578</td>\n",
       "      <td>0.402675</td>\n",
       "      <td>0.562394</td>\n",
       "      <td>21.319453</td>\n",
       "    </tr>\n",
       "    <tr>\n",
       "      <th>996</th>\n",
       "      <td>100</td>\n",
       "      <td>1385912400000</td>\n",
       "      <td>421</td>\n",
       "      <td>0.040774</td>\n",
       "      <td>NaN</td>\n",
       "      <td>NaN</td>\n",
       "      <td>NaN</td>\n",
       "      <td>NaN</td>\n",
       "    </tr>\n",
       "    <tr>\n",
       "      <th>997</th>\n",
       "      <td>100</td>\n",
       "      <td>1385912400000</td>\n",
       "      <td>49</td>\n",
       "      <td>NaN</td>\n",
       "      <td>NaN</td>\n",
       "      <td>NaN</td>\n",
       "      <td>NaN</td>\n",
       "      <td>0.040774</td>\n",
       "    </tr>\n",
       "    <tr>\n",
       "      <th>998</th>\n",
       "      <td>100</td>\n",
       "      <td>1385913000000</td>\n",
       "      <td>0</td>\n",
       "      <td>0.247186</td>\n",
       "      <td>NaN</td>\n",
       "      <td>NaN</td>\n",
       "      <td>NaN</td>\n",
       "      <td>NaN</td>\n",
       "    </tr>\n",
       "    <tr>\n",
       "      <th>999</th>\n",
       "      <td>100</td>\n",
       "      <td>1385913000000</td>\n",
       "      <td>39</td>\n",
       "      <td>0.241267</td>\n",
       "      <td>0.122323</td>\n",
       "      <td>0.649861</td>\n",
       "      <td>0.321127</td>\n",
       "      <td>22.930153</td>\n",
       "    </tr>\n",
       "  </tbody>\n",
       "</table>\n",
       "<p>1000 rows × 8 columns</p>\n",
       "</div>"
      ],
      "text/plain": [
       "     loc             ts   cc       sin      sout       cin      cout  \\\n",
       "0      1  1385852400000   39  0.110989  0.166214  0.109202  0.164427   \n",
       "1      1  1385852400000   46       NaN       NaN       NaN       NaN   \n",
       "2      1  1385853000000   39  0.165137  0.176399  0.030875  0.027300   \n",
       "3      1  1385853600000    0  0.029088  0.027300       NaN       NaN   \n",
       "4      1  1385853600000   39  0.186451  0.136588  0.054601       NaN   \n",
       "..   ...            ...  ...       ...       ...       ...       ...   \n",
       "995  100  1385912400000   39  0.282041  0.239578  0.402675  0.562394   \n",
       "996  100  1385912400000  421  0.040774       NaN       NaN       NaN   \n",
       "997  100  1385912400000   49       NaN       NaN       NaN       NaN   \n",
       "998  100  1385913000000    0  0.247186       NaN       NaN       NaN   \n",
       "999  100  1385913000000   39  0.241267  0.122323  0.649861  0.321127   \n",
       "\n",
       "           web  \n",
       "0    13.648438  \n",
       "1     0.026137  \n",
       "2    13.330858  \n",
       "3          NaN  \n",
       "4    11.329552  \n",
       "..         ...  \n",
       "995  21.319453  \n",
       "996        NaN  \n",
       "997   0.040774  \n",
       "998        NaN  \n",
       "999  22.930153  \n",
       "\n",
       "[1000 rows x 8 columns]"
      ]
     },
     "execution_count": 35,
     "metadata": {},
     "output_type": "execute_result"
    }
   ],
   "source": [
    "import pandas as pd\n",
    "df = pd.read_csv(grid_file, sep='\\t', names=['loc', 'ts', 'cc', 'sin', 'sout', 'cin', 'cout', 'web'], nrows=1000)\n",
    "df"
   ]
  },
  {
   "cell_type": "markdown",
   "id": "74efdb68",
   "metadata": {
    "slideshow": {
     "slide_type": "subslide"
    }
   },
   "source": [
    "# Load data: numpy"
   ]
  },
  {
   "cell_type": "code",
   "execution_count": 36,
   "id": "d218973f",
   "metadata": {
    "ExecuteTime": {
     "end_time": "2023-01-11T08:09:02.074637Z",
     "start_time": "2023-01-11T08:09:02.061639Z"
    }
   },
   "outputs": [
    {
     "data": {
      "text/plain": [
       "(100, 8)"
      ]
     },
     "execution_count": 36,
     "metadata": {},
     "output_type": "execute_result"
    }
   ],
   "source": [
    "import numpy as np\n",
    "with open(grid_file) as f:\n",
    "    with open('small_data.txt','wt') as t:\n",
    "        for _ in range(100):\n",
    "            t.write(f.readline())\n",
    "a = np.genfromtxt('small_data.txt', delimiter='\\t')\n",
    "a.shape"
   ]
  },
  {
   "cell_type": "markdown",
   "id": "07c7ffd3",
   "metadata": {
    "slideshow": {
     "slide_type": "subslide"
    }
   },
   "source": [
    "# Load data: numpy"
   ]
  },
  {
   "cell_type": "markdown",
   "id": "86a1c636",
   "metadata": {},
   "source": [
    "- Pro: Full access to numpy weaponry (i.e. SPEED!)\n",
    "- Con: Needs fully heterogeneous data (same type); NaN needs to be handle with masked array to avoid issues"
   ]
  },
  {
   "cell_type": "markdown",
   "id": "4b923af7",
   "metadata": {
    "slideshow": {
     "slide_type": "subslide"
    }
   },
   "source": [
    "# Missing Data"
   ]
  },
  {
   "cell_type": "markdown",
   "id": "fae3278d",
   "metadata": {},
   "source": [
    "- When there is no activity, there is no corresponding value\n",
    "  - \"\" (empty string) in the input file\n",
    "  - `None` in custom class\n",
    "  - `NaN` (Not-a-Number) in dataframe\n",
    "- if a (loc/time interval/cc) tuple has no activity whatsoever, it has no row in the file"
   ]
  },
  {
   "cell_type": "markdown",
   "id": "8670e257",
   "metadata": {
    "slideshow": {
     "slide_type": "slide"
    }
   },
   "source": [
    "## Analytics"
   ]
  },
  {
   "cell_type": "markdown",
   "id": "9458f671",
   "metadata": {
    "slideshow": {
     "slide_type": "slide"
    }
   },
   "source": [
    "### Statistics"
   ]
  },
  {
   "cell_type": "markdown",
   "id": "eb7696f9",
   "metadata": {
    "ExecuteTime": {
     "end_time": "2023-01-09T18:05:07.500070Z",
     "start_time": "2023-01-09T18:05:07.482852Z"
    },
    "cell_style": "center",
    "slideshow": {
     "slide_type": "subslide"
    }
   },
   "source": [
    "# Numpy"
   ]
  },
  {
   "cell_type": "markdown",
   "id": "7dbf7f36",
   "metadata": {
    "cell_style": "center"
   },
   "source": [
    "Numpy provides basic analytics tools."
   ]
  },
  {
   "cell_type": "markdown",
   "id": "0ad3ac1d",
   "metadata": {
    "cell_style": "center"
   },
   "source": [
    "Change display format for easy to read results."
   ]
  },
  {
   "cell_type": "code",
   "execution_count": 37,
   "id": "6a6ff5d7",
   "metadata": {
    "ExecuteTime": {
     "end_time": "2023-01-11T08:09:02.089883Z",
     "start_time": "2023-01-11T08:09:02.077637Z"
    }
   },
   "outputs": [],
   "source": [
    "np.set_printoptions(formatter={'float': '{:.2f}'.format})"
   ]
  },
  {
   "cell_type": "markdown",
   "id": "913af25a",
   "metadata": {
    "ExecuteTime": {
     "end_time": "2023-01-09T18:05:07.500070Z",
     "start_time": "2023-01-09T18:05:07.482852Z"
    },
    "cell_style": "center",
    "slideshow": {
     "slide_type": "subslide"
    }
   },
   "source": [
    "# Numpy"
   ]
  },
  {
   "cell_type": "markdown",
   "id": "0c48a3e9",
   "metadata": {
    "cell_style": "split"
   },
   "source": [
    "Sum of each column."
   ]
  },
  {
   "cell_type": "code",
   "execution_count": 38,
   "id": "4a04931f",
   "metadata": {
    "ExecuteTime": {
     "end_time": "2023-01-11T08:09:02.105319Z",
     "start_time": "2023-01-11T08:09:02.092883Z"
    },
    "cell_style": "split"
   },
   "outputs": [
    {
     "data": {
      "text/plain": [
       "array([100.00, 138586941000000.00, 3202.00, nan, nan, nan, nan, nan])"
      ]
     },
     "execution_count": 38,
     "metadata": {},
     "output_type": "execute_result"
    }
   ],
   "source": [
    "a.sum(axis=0)"
   ]
  },
  {
   "cell_type": "markdown",
   "id": "d887bf62",
   "metadata": {
    "cell_style": "split"
   },
   "source": [
    "NaN propagates so we need to mask NaN values."
   ]
  },
  {
   "cell_type": "code",
   "execution_count": 39,
   "id": "b8460ef0",
   "metadata": {
    "ExecuteTime": {
     "end_time": "2023-01-11T08:09:02.120475Z",
     "start_time": "2023-01-11T08:09:02.110493Z"
    },
    "cell_style": "split"
   },
   "outputs": [
    {
     "data": {
      "text/plain": [
       "array([100.00, 138586941000000.00, 3202.00, 10.19, 5.29, 1.90, 3.32,\n",
       "       464.02])"
      ]
     },
     "execution_count": 39,
     "metadata": {},
     "output_type": "execute_result"
    }
   ],
   "source": [
    "ma = np.ma.array(a, mask=np.isnan(a))\n",
    "ma.sum(axis=0).data"
   ]
  },
  {
   "cell_type": "markdown",
   "id": "d8e89b96",
   "metadata": {
    "ExecuteTime": {
     "end_time": "2023-01-09T17:31:21.724351Z",
     "start_time": "2023-01-09T17:31:21.700556Z"
    },
    "slideshow": {
     "slide_type": "subslide"
    }
   },
   "source": [
    "# Numpy"
   ]
  },
  {
   "cell_type": "markdown",
   "id": "e9513860",
   "metadata": {
    "cell_style": "split"
   },
   "source": [
    "Average value."
   ]
  },
  {
   "cell_type": "code",
   "execution_count": 40,
   "id": "c33a385c",
   "metadata": {
    "ExecuteTime": {
     "end_time": "2023-01-11T08:09:02.136470Z",
     "start_time": "2023-01-11T08:09:02.123473Z"
    },
    "cell_style": "split"
   },
   "outputs": [
    {
     "data": {
      "text/plain": [
       "array([1.00, 1385869410000.00, 32.02, 0.15, 0.09, 0.06, 0.07, 6.36])"
      ]
     },
     "execution_count": 40,
     "metadata": {},
     "output_type": "execute_result"
    }
   ],
   "source": [
    "ma.mean(axis=0).data"
   ]
  },
  {
   "cell_type": "markdown",
   "id": "2e0d1017",
   "metadata": {
    "cell_style": "split"
   },
   "source": [
    "Standard deviation."
   ]
  },
  {
   "cell_type": "code",
   "execution_count": 41,
   "id": "d88d7237",
   "metadata": {
    "ExecuteTime": {
     "end_time": "2023-01-11T08:09:02.151477Z",
     "start_time": "2023-01-11T08:09:02.137469Z"
    },
    "cell_style": "split"
   },
   "outputs": [
    {
     "data": {
      "text/plain": [
       "array([0.00, 9674848.84, 26.57, 0.16, 0.10, 0.05, 0.08, 4.47])"
      ]
     },
     "execution_count": 41,
     "metadata": {},
     "output_type": "execute_result"
    }
   ],
   "source": [
    "ma.std(axis=0).data"
   ]
  },
  {
   "cell_type": "markdown",
   "id": "7ad06aa6",
   "metadata": {
    "cell_style": "split"
   },
   "source": [
    "Minimum values."
   ]
  },
  {
   "cell_type": "code",
   "execution_count": 42,
   "id": "cee2c29b",
   "metadata": {
    "ExecuteTime": {
     "end_time": "2023-01-11T08:09:02.166982Z",
     "start_time": "2023-01-11T08:09:02.153477Z"
    },
    "cell_style": "split"
   },
   "outputs": [
    {
     "data": {
      "text/plain": [
       "array([1.00, 1385852400000.00, 0.00, 0.00, 0.00, 0.00, 0.00, 0.00])"
      ]
     },
     "execution_count": 42,
     "metadata": {},
     "output_type": "execute_result"
    }
   ],
   "source": [
    "ma.min(axis=0).data"
   ]
  },
  {
   "cell_type": "markdown",
   "id": "09819367",
   "metadata": {
    "cell_style": "split"
   },
   "source": [
    "Maximum."
   ]
  },
  {
   "cell_type": "code",
   "execution_count": 43,
   "id": "ff1af40e",
   "metadata": {
    "ExecuteTime": {
     "end_time": "2023-01-11T08:09:02.182976Z",
     "start_time": "2023-01-11T08:09:02.168959Z"
    },
    "cell_style": "split"
   },
   "outputs": [
    {
     "data": {
      "text/plain": [
       "array([1.00, 1385884800000.00, 226.00, 0.70, 0.46, 0.22, 0.40, 18.15])"
      ]
     },
     "execution_count": 43,
     "metadata": {},
     "output_type": "execute_result"
    }
   ],
   "source": [
    "ma.max(axis=0).data"
   ]
  },
  {
   "cell_type": "markdown",
   "id": "faab373e",
   "metadata": {
    "slideshow": {
     "slide_type": "subslide"
    }
   },
   "source": [
    "# Pandas"
   ]
  },
  {
   "cell_type": "code",
   "execution_count": 44,
   "id": "ca807703",
   "metadata": {
    "ExecuteTime": {
     "end_time": "2023-01-11T08:09:02.214984Z",
     "start_time": "2023-01-11T08:09:02.185956Z"
    }
   },
   "outputs": [
    {
     "data": {
      "text/html": [
       "<div>\n",
       "<style scoped>\n",
       "    .dataframe tbody tr th:only-of-type {\n",
       "        vertical-align: middle;\n",
       "    }\n",
       "\n",
       "    .dataframe tbody tr th {\n",
       "        vertical-align: top;\n",
       "    }\n",
       "\n",
       "    .dataframe thead th {\n",
       "        text-align: right;\n",
       "    }\n",
       "</style>\n",
       "<table border=\"1\" class=\"dataframe\">\n",
       "  <thead>\n",
       "    <tr style=\"text-align: right;\">\n",
       "      <th></th>\n",
       "      <th>name</th>\n",
       "      <th>iso_a3</th>\n",
       "      <th>currency_code</th>\n",
       "      <th>local_price</th>\n",
       "      <th>dollar_ex</th>\n",
       "      <th>GDP_dollar</th>\n",
       "      <th>date</th>\n",
       "    </tr>\n",
       "  </thead>\n",
       "  <tbody>\n",
       "    <tr>\n",
       "      <th>0</th>\n",
       "      <td>Argentina</td>\n",
       "      <td>ARG</td>\n",
       "      <td>ARS</td>\n",
       "      <td>2.50</td>\n",
       "      <td>1.000000</td>\n",
       "      <td>NaN</td>\n",
       "      <td>2000-04-01</td>\n",
       "    </tr>\n",
       "    <tr>\n",
       "      <th>1</th>\n",
       "      <td>Australia</td>\n",
       "      <td>AUS</td>\n",
       "      <td>AUD</td>\n",
       "      <td>2.59</td>\n",
       "      <td>1.680000</td>\n",
       "      <td>NaN</td>\n",
       "      <td>2000-04-01</td>\n",
       "    </tr>\n",
       "    <tr>\n",
       "      <th>2</th>\n",
       "      <td>Brazil</td>\n",
       "      <td>BRA</td>\n",
       "      <td>BRL</td>\n",
       "      <td>2.95</td>\n",
       "      <td>1.790000</td>\n",
       "      <td>NaN</td>\n",
       "      <td>2000-04-01</td>\n",
       "    </tr>\n",
       "    <tr>\n",
       "      <th>3</th>\n",
       "      <td>Britain</td>\n",
       "      <td>GBR</td>\n",
       "      <td>GBP</td>\n",
       "      <td>1.90</td>\n",
       "      <td>0.632911</td>\n",
       "      <td>NaN</td>\n",
       "      <td>2000-04-01</td>\n",
       "    </tr>\n",
       "    <tr>\n",
       "      <th>4</th>\n",
       "      <td>Canada</td>\n",
       "      <td>CAN</td>\n",
       "      <td>CAD</td>\n",
       "      <td>2.85</td>\n",
       "      <td>1.470000</td>\n",
       "      <td>NaN</td>\n",
       "      <td>2000-04-01</td>\n",
       "    </tr>\n",
       "    <tr>\n",
       "      <th>...</th>\n",
       "      <td>...</td>\n",
       "      <td>...</td>\n",
       "      <td>...</td>\n",
       "      <td>...</td>\n",
       "      <td>...</td>\n",
       "      <td>...</td>\n",
       "      <td>...</td>\n",
       "    </tr>\n",
       "    <tr>\n",
       "      <th>1943</th>\n",
       "      <td>Uruguay</td>\n",
       "      <td>URY</td>\n",
       "      <td>UYU</td>\n",
       "      <td>255.00</td>\n",
       "      <td>41.910000</td>\n",
       "      <td>15169.153</td>\n",
       "      <td>2022-07-01</td>\n",
       "    </tr>\n",
       "    <tr>\n",
       "      <th>1944</th>\n",
       "      <td>United States</td>\n",
       "      <td>USA</td>\n",
       "      <td>USD</td>\n",
       "      <td>5.77</td>\n",
       "      <td>1.000000</td>\n",
       "      <td>63078.471</td>\n",
       "      <td>2022-07-01</td>\n",
       "    </tr>\n",
       "    <tr>\n",
       "      <th>1945</th>\n",
       "      <td>Venezuela</td>\n",
       "      <td>VEN</td>\n",
       "      <td>VES</td>\n",
       "      <td>10.00</td>\n",
       "      <td>5.673200</td>\n",
       "      <td>1690.659</td>\n",
       "      <td>2022-07-01</td>\n",
       "    </tr>\n",
       "    <tr>\n",
       "      <th>1946</th>\n",
       "      <td>Vietnam</td>\n",
       "      <td>VNM</td>\n",
       "      <td>VND</td>\n",
       "      <td>69000.00</td>\n",
       "      <td>23417.000000</td>\n",
       "      <td>3520.738</td>\n",
       "      <td>2022-07-01</td>\n",
       "    </tr>\n",
       "    <tr>\n",
       "      <th>1947</th>\n",
       "      <td>South Africa</td>\n",
       "      <td>ZAF</td>\n",
       "      <td>ZAR</td>\n",
       "      <td>39.90</td>\n",
       "      <td>17.036250</td>\n",
       "      <td>5624.500</td>\n",
       "      <td>2022-07-01</td>\n",
       "    </tr>\n",
       "  </tbody>\n",
       "</table>\n",
       "<p>1948 rows × 7 columns</p>\n",
       "</div>"
      ],
      "text/plain": [
       "               name iso_a3 currency_code  local_price     dollar_ex  \\\n",
       "0         Argentina    ARG           ARS         2.50      1.000000   \n",
       "1         Australia    AUS           AUD         2.59      1.680000   \n",
       "2            Brazil    BRA           BRL         2.95      1.790000   \n",
       "3           Britain    GBR           GBP         1.90      0.632911   \n",
       "4            Canada    CAN           CAD         2.85      1.470000   \n",
       "...             ...    ...           ...          ...           ...   \n",
       "1943        Uruguay    URY           UYU       255.00     41.910000   \n",
       "1944  United States    USA           USD         5.77      1.000000   \n",
       "1945      Venezuela    VEN           VES        10.00      5.673200   \n",
       "1946        Vietnam    VNM           VND     69000.00  23417.000000   \n",
       "1947   South Africa    ZAF           ZAR        39.90     17.036250   \n",
       "\n",
       "      GDP_dollar        date  \n",
       "0            NaN  2000-04-01  \n",
       "1            NaN  2000-04-01  \n",
       "2            NaN  2000-04-01  \n",
       "3            NaN  2000-04-01  \n",
       "4            NaN  2000-04-01  \n",
       "...          ...         ...  \n",
       "1943   15169.153  2022-07-01  \n",
       "1944   63078.471  2022-07-01  \n",
       "1945    1690.659  2022-07-01  \n",
       "1946    3520.738  2022-07-01  \n",
       "1947    5624.500  2022-07-01  \n",
       "\n",
       "[1948 rows x 7 columns]"
      ]
     },
     "execution_count": 44,
     "metadata": {},
     "output_type": "execute_result"
    }
   ],
   "source": [
    "import pandas as pd\n",
    "with StringIO(big_mac) as csvfile:\n",
    "    big_mac_df = pd.read_csv(csvfile)\n",
    "big_mac_df"
   ]
  },
  {
   "cell_type": "markdown",
   "id": "cb69e1cb",
   "metadata": {
    "slideshow": {
     "slide_type": "subslide"
    }
   },
   "source": [
    "# Pandas"
   ]
  },
  {
   "cell_type": "markdown",
   "id": "f648ff7f",
   "metadata": {
    "ExecuteTime": {
     "end_time": "2023-01-09T16:58:10.431974Z",
     "start_time": "2023-01-09T16:58:10.417978Z"
    }
   },
   "source": [
    "Method `describe` lists the statistical properties of each attribute."
   ]
  },
  {
   "cell_type": "code",
   "execution_count": 45,
   "id": "cf8efe34",
   "metadata": {
    "ExecuteTime": {
     "end_time": "2023-01-11T08:09:02.231003Z",
     "start_time": "2023-01-11T08:09:02.216960Z"
    }
   },
   "outputs": [
    {
     "data": {
      "text/html": [
       "<div>\n",
       "<style scoped>\n",
       "    .dataframe tbody tr th:only-of-type {\n",
       "        vertical-align: middle;\n",
       "    }\n",
       "\n",
       "    .dataframe tbody tr th {\n",
       "        vertical-align: top;\n",
       "    }\n",
       "\n",
       "    .dataframe thead th {\n",
       "        text-align: right;\n",
       "    }\n",
       "</style>\n",
       "<table border=\"1\" class=\"dataframe\">\n",
       "  <thead>\n",
       "    <tr style=\"text-align: right;\">\n",
       "      <th></th>\n",
       "      <th>local_price</th>\n",
       "      <th>dollar_ex</th>\n",
       "      <th>GDP_dollar</th>\n",
       "    </tr>\n",
       "  </thead>\n",
       "  <tbody>\n",
       "    <tr>\n",
       "      <th>count</th>\n",
       "      <td>1.948000e+03</td>\n",
       "      <td>1.948000e+03</td>\n",
       "      <td>1335.000000</td>\n",
       "    </tr>\n",
       "    <tr>\n",
       "      <th>mean</th>\n",
       "      <td>1.579990e+04</td>\n",
       "      <td>4.705368e+03</td>\n",
       "      <td>26843.737719</td>\n",
       "    </tr>\n",
       "    <tr>\n",
       "      <th>std</th>\n",
       "      <td>3.938029e+05</td>\n",
       "      <td>1.005706e+05</td>\n",
       "      <td>21221.698643</td>\n",
       "    </tr>\n",
       "    <tr>\n",
       "      <th>min</th>\n",
       "      <td>0.000000e+00</td>\n",
       "      <td>0.000000e+00</td>\n",
       "      <td>1049.749000</td>\n",
       "    </tr>\n",
       "    <tr>\n",
       "      <th>25%</th>\n",
       "      <td>4.450000e+00</td>\n",
       "      <td>1.007487e+00</td>\n",
       "      <td>8952.110000</td>\n",
       "    </tr>\n",
       "    <tr>\n",
       "      <th>50%</th>\n",
       "      <td>1.500000e+01</td>\n",
       "      <td>5.490525e+00</td>\n",
       "      <td>20590.962000</td>\n",
       "    </tr>\n",
       "    <tr>\n",
       "      <th>75%</th>\n",
       "      <td>8.700000e+01</td>\n",
       "      <td>3.282625e+01</td>\n",
       "      <td>43422.819000</td>\n",
       "    </tr>\n",
       "    <tr>\n",
       "      <th>max</th>\n",
       "      <td>1.602000e+07</td>\n",
       "      <td>3.613989e+06</td>\n",
       "      <td>100578.968000</td>\n",
       "    </tr>\n",
       "  </tbody>\n",
       "</table>\n",
       "</div>"
      ],
      "text/plain": [
       "        local_price     dollar_ex     GDP_dollar\n",
       "count  1.948000e+03  1.948000e+03    1335.000000\n",
       "mean   1.579990e+04  4.705368e+03   26843.737719\n",
       "std    3.938029e+05  1.005706e+05   21221.698643\n",
       "min    0.000000e+00  0.000000e+00    1049.749000\n",
       "25%    4.450000e+00  1.007487e+00    8952.110000\n",
       "50%    1.500000e+01  5.490525e+00   20590.962000\n",
       "75%    8.700000e+01  3.282625e+01   43422.819000\n",
       "max    1.602000e+07  3.613989e+06  100578.968000"
      ]
     },
     "execution_count": 45,
     "metadata": {},
     "output_type": "execute_result"
    }
   ],
   "source": [
    "big_mac_df.describe()"
   ]
  },
  {
   "cell_type": "markdown",
   "id": "d2397193",
   "metadata": {
    "slideshow": {
     "slide_type": "subslide"
    }
   },
   "source": [
    "# Pandas"
   ]
  },
  {
   "cell_type": "markdown",
   "id": "1f0a0cb9",
   "metadata": {
    "ExecuteTime": {
     "end_time": "2023-01-09T16:58:10.431974Z",
     "start_time": "2023-01-09T16:58:10.417978Z"
    }
   },
   "source": [
    "Method `apply` allows to apply a formula. Example: compute prices in dollars."
   ]
  },
  {
   "cell_type": "code",
   "execution_count": 46,
   "id": "0ebf99b8",
   "metadata": {
    "ExecuteTime": {
     "end_time": "2023-01-11T08:09:02.278477Z",
     "start_time": "2023-01-11T08:09:02.232955Z"
    }
   },
   "outputs": [],
   "source": [
    "import numpy as np\n",
    "big_mac_df['dollar_price'] = big_mac_df.apply(lambda r: r['local_price']/r['dollar_ex']\n",
    "                                              if r['dollar_ex'] else np.nan, axis=1)"
   ]
  },
  {
   "cell_type": "markdown",
   "id": "ae000e61",
   "metadata": {
    "slideshow": {
     "slide_type": "subslide"
    }
   },
   "source": [
    "# Pandas"
   ]
  },
  {
   "cell_type": "code",
   "execution_count": 47,
   "id": "05cc8c00",
   "metadata": {
    "ExecuteTime": {
     "end_time": "2023-01-11T08:09:02.294498Z",
     "start_time": "2023-01-11T08:09:02.280479Z"
    }
   },
   "outputs": [
    {
     "data": {
      "text/plain": [
       "count    1947.000000\n",
       "mean        3.523341\n",
       "std         2.250275\n",
       "min         0.639966\n",
       "25%         2.506312\n",
       "50%         3.412945\n",
       "75%         4.325999\n",
       "max        85.967465\n",
       "Name: dollar_price, dtype: float64"
      ]
     },
     "execution_count": 47,
     "metadata": {},
     "output_type": "execute_result"
    }
   ],
   "source": [
    "big_mac_df['dollar_price'].describe()"
   ]
  },
  {
   "cell_type": "markdown",
   "id": "bf608199",
   "metadata": {
    "slideshow": {
     "slide_type": "subslide"
    }
   },
   "source": [
    "# Pandas"
   ]
  },
  {
   "cell_type": "code",
   "execution_count": 48,
   "id": "ef974f64",
   "metadata": {
    "ExecuteTime": {
     "end_time": "2023-01-11T08:09:02.310497Z",
     "start_time": "2023-01-11T08:09:02.297499Z"
    },
    "cell_style": "split"
   },
   "outputs": [
    {
     "data": {
      "text/plain": [
       "name                Lebanon\n",
       "iso_a3                  LBN\n",
       "currency_code           LBP\n",
       "local_price        130000.0\n",
       "dollar_ex            1512.2\n",
       "GDP_dollar          4002.74\n",
       "date             2022-07-01\n",
       "dollar_price      85.967465\n",
       "Name: 1915, dtype: object"
      ]
     },
     "execution_count": 48,
     "metadata": {},
     "output_type": "execute_result"
    }
   ],
   "source": [
    "big_mac_df.iloc[big_mac_df['dollar_price'].idxmax()]"
   ]
  },
  {
   "cell_type": "code",
   "execution_count": 49,
   "id": "6ae28e5c",
   "metadata": {
    "ExecuteTime": {
     "end_time": "2023-01-11T08:09:02.326475Z",
     "start_time": "2023-01-11T08:09:02.313500Z"
    },
    "cell_style": "split"
   },
   "outputs": [
    {
     "data": {
      "text/plain": [
       "name             Saudi Arabia\n",
       "iso_a3                    SAU\n",
       "currency_code             SAR\n",
       "local_price               2.4\n",
       "dollar_ex              3.7502\n",
       "GDP_dollar                NaN\n",
       "date               2004-05-01\n",
       "dollar_price         0.639966\n",
       "Name: 147, dtype: object"
      ]
     },
     "execution_count": 49,
     "metadata": {},
     "output_type": "execute_result"
    }
   ],
   "source": [
    "big_mac_df.iloc[big_mac_df['dollar_price'].idxmin()]"
   ]
  },
  {
   "cell_type": "markdown",
   "id": "84edec51",
   "metadata": {
    "slideshow": {
     "slide_type": "slide"
    }
   },
   "source": [
    "### Visualization"
   ]
  },
  {
   "cell_type": "markdown",
   "id": "ec1edab0",
   "metadata": {
    "slideshow": {
     "slide_type": "subslide"
    }
   },
   "source": [
    "# Matplotlib"
   ]
  },
  {
   "cell_type": "markdown",
   "id": "9ca8a435",
   "metadata": {},
   "source": [
    "- Matplotlib's `pyplot` module is the main tool for data visualization in Python\n",
    "- Other tools exist (e.g. for dynamic visualization) but `pyplot` is a very good Swiss-army-knife\n",
    "- Can be interfaced with numpy, Python lists, dataframe"
   ]
  },
  {
   "cell_type": "markdown",
   "id": "4ac2fbf5",
   "metadata": {
    "slideshow": {
     "slide_type": "subslide"
    }
   },
   "source": [
    "# Histogram"
   ]
  },
  {
   "cell_type": "code",
   "execution_count": 50,
   "id": "664f35c3",
   "metadata": {
    "ExecuteTime": {
     "end_time": "2023-01-11T08:09:03.690405Z",
     "start_time": "2023-01-11T08:09:02.329476Z"
    }
   },
   "outputs": [
    {
     "data": {
      "image/png": "[encoded data removed]",
      "text/plain": [
       "<Figure size 1500x500 with 6 Axes>"
      ]
     },
     "metadata": {},
     "output_type": "display_data"
    }
   ],
   "source": [
    "from matplotlib import pyplot as plt\n",
    "df.hist(column=['sin', 'sout', 'cin', 'cout', 'web'], layout=(2, 3), figsize=(15, 5))\n",
    "plt.show()"
   ]
  },
  {
   "cell_type": "markdown",
   "id": "ddb00cf7",
   "metadata": {
    "slideshow": {
     "slide_type": "subslide"
    }
   },
   "source": [
    "# Histogram"
   ]
  },
  {
   "cell_type": "code",
   "execution_count": 51,
   "id": "809eb4d2",
   "metadata": {
    "ExecuteTime": {
     "end_time": "2023-01-11T08:09:04.421264Z",
     "start_time": "2023-01-11T08:09:03.693385Z"
    }
   },
   "outputs": [
    {
     "data": {
      "image/png": "[encoded data removed]",
      "text/plain": [
       "<Figure size 1500x500 with 6 Axes>"
      ]
     },
     "metadata": {},
     "output_type": "display_data"
    }
   ],
   "source": [
    "from matplotlib import pyplot as plt\n",
    "df.hist(column=['sin', 'sout', 'cin', 'cout', 'web'], layout=(2, 3), figsize=(15, 5), bins=30)\n",
    "plt.show()"
   ]
  },
  {
   "cell_type": "markdown",
   "id": "aa26720b",
   "metadata": {
    "slideshow": {
     "slide_type": "subslide"
    }
   },
   "source": [
    "# Density"
   ]
  },
  {
   "cell_type": "code",
   "execution_count": 52,
   "id": "13e04119",
   "metadata": {
    "ExecuteTime": {
     "end_time": "2023-01-11T08:09:05.115084Z",
     "start_time": "2023-01-11T08:09:04.423197Z"
    }
   },
   "outputs": [
    {
     "ename": "ValueError",
     "evalue": "Layout of 1x3 must be larger than required size 8",
     "output_type": "error",
     "traceback": [
      "\u001b[1;31m---------------------------------------------------------------------------\u001b[0m",
      "\u001b[1;31mValueError\u001b[0m                                Traceback (most recent call last)",
      "Cell \u001b[1;32mIn[52], line 1\u001b[0m\n\u001b[1;32m----> 1\u001b[0m \u001b[43mdf\u001b[49m\u001b[38;5;241;43m.\u001b[39;49m\u001b[43mplot\u001b[49m\u001b[43m(\u001b[49m\u001b[43mkind\u001b[49m\u001b[38;5;241;43m=\u001b[39;49m\u001b[38;5;124;43m'\u001b[39;49m\u001b[38;5;124;43mdensity\u001b[39;49m\u001b[38;5;124;43m'\u001b[39;49m\u001b[43m,\u001b[49m\u001b[43m \u001b[49m\u001b[43mcolumn\u001b[49m\u001b[38;5;241;43m=\u001b[39;49m\u001b[43m[\u001b[49m\u001b[38;5;124;43m'\u001b[39;49m\u001b[38;5;124;43msin\u001b[39;49m\u001b[38;5;124;43m'\u001b[39;49m\u001b[43m,\u001b[49m\u001b[43m \u001b[49m\u001b[38;5;124;43m'\u001b[39;49m\u001b[38;5;124;43msout\u001b[39;49m\u001b[38;5;124;43m'\u001b[39;49m\u001b[43m,\u001b[49m\u001b[43m \u001b[49m\u001b[38;5;124;43m'\u001b[39;49m\u001b[38;5;124;43mcin\u001b[39;49m\u001b[38;5;124;43m'\u001b[39;49m\u001b[43m,\u001b[49m\u001b[43m \u001b[49m\u001b[38;5;124;43m'\u001b[39;49m\u001b[38;5;124;43mcout\u001b[39;49m\u001b[38;5;124;43m'\u001b[39;49m\u001b[43m,\u001b[49m\u001b[43m \u001b[49m\u001b[38;5;124;43m'\u001b[39;49m\u001b[38;5;124;43mweb\u001b[39;49m\u001b[38;5;124;43m'\u001b[39;49m\u001b[43m]\u001b[49m\u001b[43m,\u001b[49m\u001b[43m \u001b[49m\u001b[43msubplots\u001b[49m\u001b[38;5;241;43m=\u001b[39;49m\u001b[38;5;28;43;01mTrue\u001b[39;49;00m\u001b[43m,\u001b[49m\u001b[43m \u001b[49m\u001b[43mfigsize\u001b[49m\u001b[38;5;241;43m=\u001b[39;49m\u001b[43m(\u001b[49m\u001b[38;5;241;43m15\u001b[39;49m\u001b[43m,\u001b[49m\u001b[43m \u001b[49m\u001b[38;5;241;43m5\u001b[39;49m\u001b[43m)\u001b[49m\u001b[43m,\u001b[49m\u001b[43m \u001b[49m\u001b[43mlayout\u001b[49m\u001b[38;5;241;43m=\u001b[39;49m\u001b[43m(\u001b[49m\u001b[38;5;241;43m1\u001b[39;49m\u001b[43m,\u001b[49m\u001b[43m \u001b[49m\u001b[38;5;241;43m3\u001b[39;49m\u001b[43m)\u001b[49m\u001b[43m)\u001b[49m\n\u001b[0;32m      2\u001b[0m plt\u001b[38;5;241m.\u001b[39mshow()\n",
      "File \u001b[1;32m~\\anaconda3\\lib\\site-packages\\pandas\\plotting\\_core.py:972\u001b[0m, in \u001b[0;36mPlotAccessor.__call__\u001b[1;34m(self, *args, **kwargs)\u001b[0m\n\u001b[0;32m    969\u001b[0m             label_name \u001b[38;5;241m=\u001b[39m label_kw \u001b[38;5;129;01mor\u001b[39;00m data\u001b[38;5;241m.\u001b[39mcolumns\n\u001b[0;32m    970\u001b[0m             data\u001b[38;5;241m.\u001b[39mcolumns \u001b[38;5;241m=\u001b[39m label_name\n\u001b[1;32m--> 972\u001b[0m \u001b[38;5;28;01mreturn\u001b[39;00m plot_backend\u001b[38;5;241m.\u001b[39mplot(data, kind\u001b[38;5;241m=\u001b[39mkind, \u001b[38;5;241m*\u001b[39m\u001b[38;5;241m*\u001b[39mkwargs)\n",
      "File \u001b[1;32m~\\anaconda3\\lib\\site-packages\\pandas\\plotting\\_matplotlib\\__init__.py:71\u001b[0m, in \u001b[0;36mplot\u001b[1;34m(data, kind, **kwargs)\u001b[0m\n\u001b[0;32m     69\u001b[0m         kwargs[\u001b[38;5;124m\"\u001b[39m\u001b[38;5;124max\u001b[39m\u001b[38;5;124m\"\u001b[39m] \u001b[38;5;241m=\u001b[39m \u001b[38;5;28mgetattr\u001b[39m(ax, \u001b[38;5;124m\"\u001b[39m\u001b[38;5;124mleft_ax\u001b[39m\u001b[38;5;124m\"\u001b[39m, ax)\n\u001b[0;32m     70\u001b[0m plot_obj \u001b[38;5;241m=\u001b[39m PLOT_CLASSES[kind](data, \u001b[38;5;241m*\u001b[39m\u001b[38;5;241m*\u001b[39mkwargs)\n\u001b[1;32m---> 71\u001b[0m \u001b[43mplot_obj\u001b[49m\u001b[38;5;241;43m.\u001b[39;49m\u001b[43mgenerate\u001b[49m\u001b[43m(\u001b[49m\u001b[43m)\u001b[49m\n\u001b[0;32m     72\u001b[0m plot_obj\u001b[38;5;241m.\u001b[39mdraw()\n\u001b[0;32m     73\u001b[0m \u001b[38;5;28;01mreturn\u001b[39;00m plot_obj\u001b[38;5;241m.\u001b[39mresult\n",
      "File \u001b[1;32m~\\anaconda3\\lib\\site-packages\\pandas\\plotting\\_matplotlib\\core.py:328\u001b[0m, in \u001b[0;36mMPLPlot.generate\u001b[1;34m(self)\u001b[0m\n\u001b[0;32m    326\u001b[0m \u001b[38;5;28mself\u001b[39m\u001b[38;5;241m.\u001b[39m_args_adjust()\n\u001b[0;32m    327\u001b[0m \u001b[38;5;28mself\u001b[39m\u001b[38;5;241m.\u001b[39m_compute_plot_data()\n\u001b[1;32m--> 328\u001b[0m \u001b[38;5;28;43mself\u001b[39;49m\u001b[38;5;241;43m.\u001b[39;49m\u001b[43m_setup_subplots\u001b[49m\u001b[43m(\u001b[49m\u001b[43m)\u001b[49m\n\u001b[0;32m    329\u001b[0m \u001b[38;5;28mself\u001b[39m\u001b[38;5;241m.\u001b[39m_make_plot()\n\u001b[0;32m    330\u001b[0m \u001b[38;5;28mself\u001b[39m\u001b[38;5;241m.\u001b[39m_add_table()\n",
      "File \u001b[1;32m~\\anaconda3\\lib\\site-packages\\pandas\\plotting\\_matplotlib\\core.py:375\u001b[0m, in \u001b[0;36mMPLPlot._setup_subplots\u001b[1;34m(self)\u001b[0m\n\u001b[0;32m    373\u001b[0m \u001b[38;5;28;01mdef\u001b[39;00m \u001b[38;5;21m_setup_subplots\u001b[39m(\u001b[38;5;28mself\u001b[39m):\n\u001b[0;32m    374\u001b[0m     \u001b[38;5;28;01mif\u001b[39;00m \u001b[38;5;28mself\u001b[39m\u001b[38;5;241m.\u001b[39msubplots:\n\u001b[1;32m--> 375\u001b[0m         fig, axes \u001b[38;5;241m=\u001b[39m \u001b[43mcreate_subplots\u001b[49m\u001b[43m(\u001b[49m\n\u001b[0;32m    376\u001b[0m \u001b[43m            \u001b[49m\u001b[43mnaxes\u001b[49m\u001b[38;5;241;43m=\u001b[39;49m\u001b[38;5;28;43mself\u001b[39;49m\u001b[38;5;241;43m.\u001b[39;49m\u001b[43mnseries\u001b[49m\u001b[43m,\u001b[49m\n\u001b[0;32m    377\u001b[0m \u001b[43m            \u001b[49m\u001b[43msharex\u001b[49m\u001b[38;5;241;43m=\u001b[39;49m\u001b[38;5;28;43mself\u001b[39;49m\u001b[38;5;241;43m.\u001b[39;49m\u001b[43msharex\u001b[49m\u001b[43m,\u001b[49m\n\u001b[0;32m    378\u001b[0m \u001b[43m            \u001b[49m\u001b[43msharey\u001b[49m\u001b[38;5;241;43m=\u001b[39;49m\u001b[38;5;28;43mself\u001b[39;49m\u001b[38;5;241;43m.\u001b[39;49m\u001b[43msharey\u001b[49m\u001b[43m,\u001b[49m\n\u001b[0;32m    379\u001b[0m \u001b[43m            \u001b[49m\u001b[43mfigsize\u001b[49m\u001b[38;5;241;43m=\u001b[39;49m\u001b[38;5;28;43mself\u001b[39;49m\u001b[38;5;241;43m.\u001b[39;49m\u001b[43mfigsize\u001b[49m\u001b[43m,\u001b[49m\n\u001b[0;32m    380\u001b[0m \u001b[43m            \u001b[49m\u001b[43max\u001b[49m\u001b[38;5;241;43m=\u001b[39;49m\u001b[38;5;28;43mself\u001b[39;49m\u001b[38;5;241;43m.\u001b[39;49m\u001b[43max\u001b[49m\u001b[43m,\u001b[49m\n\u001b[0;32m    381\u001b[0m \u001b[43m            \u001b[49m\u001b[43mlayout\u001b[49m\u001b[38;5;241;43m=\u001b[39;49m\u001b[38;5;28;43mself\u001b[39;49m\u001b[38;5;241;43m.\u001b[39;49m\u001b[43mlayout\u001b[49m\u001b[43m,\u001b[49m\n\u001b[0;32m    382\u001b[0m \u001b[43m            \u001b[49m\u001b[43mlayout_type\u001b[49m\u001b[38;5;241;43m=\u001b[39;49m\u001b[38;5;28;43mself\u001b[39;49m\u001b[38;5;241;43m.\u001b[39;49m\u001b[43m_layout_type\u001b[49m\u001b[43m,\u001b[49m\n\u001b[0;32m    383\u001b[0m \u001b[43m        \u001b[49m\u001b[43m)\u001b[49m\n\u001b[0;32m    384\u001b[0m     \u001b[38;5;28;01melse\u001b[39;00m:\n\u001b[0;32m    385\u001b[0m         \u001b[38;5;28;01mif\u001b[39;00m \u001b[38;5;28mself\u001b[39m\u001b[38;5;241m.\u001b[39max \u001b[38;5;129;01mis\u001b[39;00m \u001b[38;5;28;01mNone\u001b[39;00m:\n",
      "File \u001b[1;32m~\\anaconda3\\lib\\site-packages\\pandas\\plotting\\_matplotlib\\tools.py:265\u001b[0m, in \u001b[0;36mcreate_subplots\u001b[1;34m(naxes, sharex, sharey, squeeze, subplot_kw, ax, layout, layout_type, **fig_kw)\u001b[0m\n\u001b[0;32m    257\u001b[0m         warnings\u001b[38;5;241m.\u001b[39mwarn(\n\u001b[0;32m    258\u001b[0m             \u001b[38;5;124m\"\u001b[39m\u001b[38;5;124mTo output multiple subplots, the figure containing \u001b[39m\u001b[38;5;124m\"\u001b[39m\n\u001b[0;32m    259\u001b[0m             \u001b[38;5;124m\"\u001b[39m\u001b[38;5;124mthe passed axes is being cleared.\u001b[39m\u001b[38;5;124m\"\u001b[39m,\n\u001b[0;32m    260\u001b[0m             \u001b[38;5;167;01mUserWarning\u001b[39;00m,\n\u001b[0;32m    261\u001b[0m             stacklevel\u001b[38;5;241m=\u001b[39mfind_stack_level(),\n\u001b[0;32m    262\u001b[0m         )\n\u001b[0;32m    263\u001b[0m         fig\u001b[38;5;241m.\u001b[39mclear()\n\u001b[1;32m--> 265\u001b[0m nrows, ncols \u001b[38;5;241m=\u001b[39m \u001b[43m_get_layout\u001b[49m\u001b[43m(\u001b[49m\u001b[43mnaxes\u001b[49m\u001b[43m,\u001b[49m\u001b[43m \u001b[49m\u001b[43mlayout\u001b[49m\u001b[38;5;241;43m=\u001b[39;49m\u001b[43mlayout\u001b[49m\u001b[43m,\u001b[49m\u001b[43m \u001b[49m\u001b[43mlayout_type\u001b[49m\u001b[38;5;241;43m=\u001b[39;49m\u001b[43mlayout_type\u001b[49m\u001b[43m)\u001b[49m\n\u001b[0;32m    266\u001b[0m nplots \u001b[38;5;241m=\u001b[39m nrows \u001b[38;5;241m*\u001b[39m ncols\n\u001b[0;32m    268\u001b[0m \u001b[38;5;66;03m# Create empty object array to hold all axes.  It's easiest to make it 1-d\u001b[39;00m\n\u001b[0;32m    269\u001b[0m \u001b[38;5;66;03m# so we can just append subplots upon creation, and then\u001b[39;00m\n",
      "File \u001b[1;32m~\\anaconda3\\lib\\site-packages\\pandas\\plotting\\_matplotlib\\tools.py:102\u001b[0m, in \u001b[0;36m_get_layout\u001b[1;34m(nplots, layout, layout_type)\u001b[0m\n\u001b[0;32m     99\u001b[0m         \u001b[38;5;28;01mraise\u001b[39;00m \u001b[38;5;167;01mValueError\u001b[39;00m(msg)\n\u001b[0;32m    101\u001b[0m     \u001b[38;5;28;01mif\u001b[39;00m nrows \u001b[38;5;241m*\u001b[39m ncols \u001b[38;5;241m<\u001b[39m nplots:\n\u001b[1;32m--> 102\u001b[0m         \u001b[38;5;28;01mraise\u001b[39;00m \u001b[38;5;167;01mValueError\u001b[39;00m(\n\u001b[0;32m    103\u001b[0m             \u001b[38;5;124mf\u001b[39m\u001b[38;5;124m\"\u001b[39m\u001b[38;5;124mLayout of \u001b[39m\u001b[38;5;132;01m{\u001b[39;00mnrows\u001b[38;5;132;01m}\u001b[39;00m\u001b[38;5;124mx\u001b[39m\u001b[38;5;132;01m{\u001b[39;00mncols\u001b[38;5;132;01m}\u001b[39;00m\u001b[38;5;124m must be larger than required size \u001b[39m\u001b[38;5;132;01m{\u001b[39;00mnplots\u001b[38;5;132;01m}\u001b[39;00m\u001b[38;5;124m\"\u001b[39m\n\u001b[0;32m    104\u001b[0m         )\n\u001b[0;32m    106\u001b[0m     \u001b[38;5;28;01mreturn\u001b[39;00m layout\n\u001b[0;32m    108\u001b[0m \u001b[38;5;28;01mif\u001b[39;00m layout_type \u001b[38;5;241m==\u001b[39m \u001b[38;5;124m\"\u001b[39m\u001b[38;5;124msingle\u001b[39m\u001b[38;5;124m\"\u001b[39m:\n",
      "\u001b[1;31mValueError\u001b[0m: Layout of 1x3 must be larger than required size 8"
     ]
    },
    {
     "data": {
      "text/plain": [
       "<Figure size 1500x500 with 0 Axes>"
      ]
     },
     "metadata": {},
     "output_type": "display_data"
    }
   ],
   "source": [
    "df.plot(kind='density', column=['sin', 'sout', 'cin', 'cout', 'web'], subplots=True, figsize=(15, 5), layout=(1, 3))\n",
    "plt.show()"
   ]
  },
  {
   "cell_type": "markdown",
   "id": "02e9fa15",
   "metadata": {
    "slideshow": {
     "slide_type": "subslide"
    }
   },
   "source": [
    "# Density"
   ]
  },
  {
   "cell_type": "code",
   "execution_count": 53,
   "id": "f2537c73",
   "metadata": {
    "ExecuteTime": {
     "end_time": "2023-01-11T08:09:49.686655Z",
     "start_time": "2023-01-11T08:09:48.267694Z"
    }
   },
   "outputs": [
    {
     "data": {
      "image/png": "[encoded data removed]",
      "text/plain": [
       "<Figure size 1500x500 with 1 Axes>"
      ]
     },
     "metadata": {},
     "output_type": "display_data"
    }
   ],
   "source": [
    "big_mac_df['dollar_price'].plot(kind='density', figsize=(15, 5))\n",
    "plt.xlim([0, 90])\n",
    "plt.ylim([0, None])\n",
    "plt.show()"
   ]
  },
  {
   "cell_type": "markdown",
   "id": "8126487d",
   "metadata": {
    "slideshow": {
     "slide_type": "subslide"
    }
   },
   "source": [
    "# Cumulative Distribution Function (CDF)"
   ]
  },
  {
   "cell_type": "code",
   "execution_count": 54,
   "id": "af6c8d83",
   "metadata": {
    "ExecuteTime": {
     "end_time": "2023-01-11T08:09:51.343965Z",
     "start_time": "2023-01-11T08:09:51.326932Z"
    },
    "cell_style": "split"
   },
   "outputs": [],
   "source": [
    "def make_cdf(df, col):\n",
    "    dp = np.array(df[col])\n",
    "    dp = dp[~np.isnan(dp)]\n",
    "    n = len(dp)\n",
    "    return np.sort(dp), np.arange(1, n+1)/n"
   ]
  },
  {
   "cell_type": "code",
   "execution_count": 55,
   "id": "ff3cde8e",
   "metadata": {
    "ExecuteTime": {
     "end_time": "2023-01-11T08:09:53.084372Z",
     "start_time": "2023-01-11T08:09:53.067448Z"
    },
    "cell_style": "split"
   },
   "outputs": [],
   "source": [
    "def subplot_by_year(ys):\n",
    "    n = len(ys)\n",
    "    fig, axs = plt.subplots(nrows=1, ncols=n, figsize=(15, 5))\n",
    "    for i, y in enumerate(ys):\n",
    "        bm = big_mac_df[(big_mac_df['date'] == f'{y}-07-01')]\n",
    "        axs[i].plot(*make_cdf(bm, 'dollar_price'))\n",
    "        axs[i].set_ylim([0, 1])\n",
    "        axs[i].set_xlabel('Big Mac price (dollars)')\n",
    "        axs[i].set_title(str(y))\n",
    "    axs[0].set_ylabel('Cumulative Distribution Function')\n",
    "    plt.show()"
   ]
  },
  {
   "cell_type": "markdown",
   "id": "869a0351",
   "metadata": {
    "slideshow": {
     "slide_type": "subslide"
    }
   },
   "source": [
    "# CDF"
   ]
  },
  {
   "cell_type": "code",
   "execution_count": 56,
   "id": "d4139f22",
   "metadata": {
    "ExecuteTime": {
     "end_time": "2023-01-11T08:09:56.811332Z",
     "start_time": "2023-01-11T08:09:56.177278Z"
    }
   },
   "outputs": [
    {
     "data": {
      "image/png": "[encoded data removed]",
      "text/plain": [
       "<Figure size 1500x500 with 6 Axes>"
      ]
     },
     "metadata": {},
     "output_type": "display_data"
    }
   ],
   "source": [
    "subplot_by_year(range(2010, 2021, 2))"
   ]
  },
  {
   "cell_type": "markdown",
   "id": "fb6001b3",
   "metadata": {
    "slideshow": {
     "slide_type": "subslide"
    }
   },
   "source": [
    "# CDF"
   ]
  },
  {
   "cell_type": "code",
   "execution_count": 57,
   "id": "56da2faf",
   "metadata": {
    "ExecuteTime": {
     "end_time": "2023-01-11T08:09:59.258762Z",
     "start_time": "2023-01-11T08:09:58.806605Z"
    }
   },
   "outputs": [
    {
     "data": {
      "image/png": "[encoded data removed]",
      "text/plain": [
       "<Figure size 1500x500 with 5 Axes>"
      ]
     },
     "metadata": {},
     "output_type": "display_data"
    }
   ],
   "source": [
    "fig, axs = plt.subplots(nrows=1, ncols=5, figsize=(15, 5))\n",
    "for i, col in enumerate(['sin', 'sout', 'cin', 'cout', 'web']):\n",
    "    axs[i].plot(*make_cdf(df, col))\n",
    "    axs[i].set_ylim([0, 1])\n",
    "    axs[i].set_xlabel(col)\n",
    "axs[0].set_ylabel('Cumulative Distribution Function')\n",
    "plt.show()"
   ]
  },
  {
   "cell_type": "markdown",
   "id": "ffd01c34",
   "metadata": {
    "slideshow": {
     "slide_type": "subslide"
    }
   },
   "source": [
    "# Box & whiskers"
   ]
  },
  {
   "cell_type": "code",
   "execution_count": 58,
   "id": "8c5f43b7",
   "metadata": {
    "ExecuteTime": {
     "end_time": "2023-01-11T08:10:15.557326Z",
     "start_time": "2023-01-11T08:10:15.107648Z"
    }
   },
   "outputs": [
    {
     "data": {
      "image/png": "[encoded data removed]",
      "text/plain": [
       "<Figure size 1500x500 with 5 Axes>"
      ]
     },
     "metadata": {},
     "output_type": "display_data"
    }
   ],
   "source": [
    "df.plot(kind='box', column=['sin', 'sout', 'cin', 'cout', 'web'], subplots=True, figsize=(15, 5)) # , layout=(1, 3), \n",
    "plt.show()"
   ]
  },
  {
   "cell_type": "markdown",
   "id": "f413da7e",
   "metadata": {
    "slideshow": {
     "slide_type": "subslide"
    }
   },
   "source": [
    "# Box & whiskers"
   ]
  },
  {
   "cell_type": "markdown",
   "id": "6505e5f1",
   "metadata": {},
   "source": [
    "The box extends from the Q1 to Q3 quartile values of the data, with a line at the median (Q2). The whiskers extend from the edges of box to show the range of the data. By default, they extend no more than 1.5 * IQR (IQR = Q3 - Q1) from the edges of the box, ending at the farthest data point within that interval. Outliers are plotted as separate dots."
   ]
  },
  {
   "cell_type": "markdown",
   "id": "443d2f1a",
   "metadata": {
    "slideshow": {
     "slide_type": "subslide"
    }
   },
   "source": [
    "# Box & whiskers"
   ]
  },
  {
   "cell_type": "code",
   "execution_count": 59,
   "id": "4507d05c",
   "metadata": {
    "ExecuteTime": {
     "end_time": "2023-01-11T08:10:20.004758Z",
     "start_time": "2023-01-11T08:10:19.466499Z"
    }
   },
   "outputs": [
    {
     "data": {
      "image/png": "[encoded data removed]",
      "text/plain": [
       "<Figure size 1500x500 with 1 Axes>"
      ]
     },
     "metadata": {},
     "output_type": "display_data"
    }
   ],
   "source": [
    "f, a = plt.subplots(figsize=(15, 5))\n",
    "big_mac_df.boxplot(column=['dollar_price'], by='date', figsize=(15, 5), rot=45, ax=a)\n",
    "a.set_xticklabels(labels=a.get_xticklabels(), ha='right')\n",
    "plt.ylim([0, 10])\n",
    "plt.show()"
   ]
  },
  {
   "cell_type": "markdown",
   "id": "dc603b4d",
   "metadata": {
    "slideshow": {
     "slide_type": "subslide"
    }
   },
   "source": [
    "# Scatter plots"
   ]
  },
  {
   "cell_type": "markdown",
   "id": "d9b00842",
   "metadata": {},
   "source": [
    "Scatter plots present the relationship between two variables as dots in two dimensions, \n",
    "one axis for each attribute"
   ]
  },
  {
   "cell_type": "code",
   "execution_count": 60,
   "id": "ea108e74",
   "metadata": {
    "ExecuteTime": {
     "end_time": "2023-01-11T08:10:38.116241Z",
     "start_time": "2023-01-11T08:10:36.961650Z"
    }
   },
   "outputs": [
    {
     "data": {
      "image/png": "[encoded data removed]",
      "text/plain": [
       "<Figure size 640x480 with 25 Axes>"
      ]
     },
     "metadata": {},
     "output_type": "display_data"
    }
   ],
   "source": [
    "from pandas.plotting import scatter_matrix\n",
    "scatter_matrix(df.iloc[:, 3:])\n",
    "plt.show()"
   ]
  },
  {
   "cell_type": "markdown",
   "id": "15636665",
   "metadata": {
    "slideshow": {
     "slide_type": "slide"
    }
   },
   "source": [
    "## Mobile "
   ]
  },
  {
   "cell_type": "markdown",
   "id": "21de7097",
   "metadata": {
    "slideshow": {
     "slide_type": "subslide"
    }
   },
   "source": [
    "# Mobile data analysis: use case"
   ]
  },
  {
   "cell_type": "markdown",
   "id": "f7ad23b9",
   "metadata": {},
   "source": [
    "- Research paper: *Complementary Base Station Clustering for Cost-Effective and Energy-Efficient Cloud-RAN*, by Longbiao Chen, Thi-Mai-Trang Nguyen, Gang Pan, Jérémie Jakubowicz, Linjin Liu, et al... Presented at 14th IEEE International Conference on Ubiquitous Intelligence and Computing (UIC 2017), Aug 2017, San Francisco, CA, United States.\n",
    "https://hal.archives-ouvertes.fr/hal-01527851\n",
    "- Goal: show use of data analytics in a real case"
   ]
  },
  {
   "cell_type": "markdown",
   "id": "53e7a6b5",
   "metadata": {
    "slideshow": {
     "slide_type": "subslide"
    }
   },
   "source": [
    "# Mobile traffic demand"
   ]
  },
  {
   "cell_type": "markdown",
   "id": "b21750a4",
   "metadata": {
    "cell_style": "split"
   },
   "source": [
    "- Mobile traffic is not uniform\n",
    "- Spatio: office vs. residential areas\n",
    "- Temporal: peak hours vs. off-peak hours\n",
    "- Complementarity: not everywhere at the same time"
   ]
  },
  {
   "cell_type": "markdown",
   "id": "3eb995bd",
   "metadata": {
    "cell_style": "split"
   },
   "source": [
    "<img src=\"bbu_principle.PNG\" width=\"500\">"
   ]
  },
  {
   "cell_type": "markdown",
   "id": "3b6d0183",
   "metadata": {
    "slideshow": {
     "slide_type": "subslide"
    }
   },
   "source": [
    "# Base station clustering"
   ]
  },
  {
   "cell_type": "markdown",
   "id": "2e7360f2",
   "metadata": {},
   "source": [
    "- Goal: optimize the load of BBU pools to increase the efficiency of statistical multiplexing.\n",
    "- Base stations having complementary traffic profiles are assigned to the same BBU Pool\n",
    "- Aggregated traffic is more stable $\\rightarrow$ increased resource utilization rate $\\rightarrow$ reduced energy consumption\n",
    "- Non-overlapping peaks $\\rightarrow$ reused peak capacity $\\rightarrow$ reduced deployment cost"
   ]
  },
  {
   "cell_type": "markdown",
   "id": "00517e1e",
   "metadata": {
    "slideshow": {
     "slide_type": "subslide"
    }
   },
   "source": [
    "# Traffic profile of a base station"
   ]
  },
  {
   "cell_type": "markdown",
   "id": "1c87f198",
   "metadata": {
    "cell_style": "split"
   },
   "source": [
    "Traffic profile depends on\n",
    "- Weekday / weekend\n",
    "- Day time\n",
    "- Residential / business areas"
   ]
  },
  {
   "cell_type": "markdown",
   "id": "feda940b",
   "metadata": {
    "cell_style": "split"
   },
   "source": [
    "<img src=\"week_pattern.PNG\" width=\"500\">"
   ]
  },
  {
   "cell_type": "markdown",
   "id": "3a2cf9f3",
   "metadata": {
    "slideshow": {
     "slide_type": "subslide"
    }
   },
   "source": [
    "# How to represent traffic profile?"
   ]
  },
  {
   "cell_type": "markdown",
   "id": "598eb54e",
   "metadata": {},
   "source": [
    "For each base station $s$:\n",
    "- $(u_{s,h})_{1\\leq h\\leq 24}$: average traffic intensity at hour $h$ during the work week.\n",
    "- $(v_{s,h})_{1\\leq h\\leq 24}$: average traffic intensity at hour $h$ during the weekend.\n",
    "- Traffic profile of $s$: $f(s):=[u_{s,1}, \\ldots, u_{s,24}, v_{s,1}, \\ldots, v_{s,24}]:=[w_{s, h}]_{1\\leq h\\leq 48}.$"
   ]
  },
  {
   "cell_type": "markdown",
   "id": "538ab13d",
   "metadata": {
    "slideshow": {
     "slide_type": "subslide"
    }
   },
   "source": [
    "# Base station complementarity"
   ]
  },
  {
   "cell_type": "markdown",
   "id": "08637e30",
   "metadata": {},
   "source": [
    "- Base stations having non-overlapping peak-times in their traffic profiles are complementary.\n",
    "- For a set S of BS, compute the total traffic in S at each time slot: $f(S)=[\\sum_{s\\in S}w_{s, h}]_{1\\leq h\\leq 48}$.\n",
    "- Calculate the Shannon entropy of a group $S$\n",
    "$$H(S)=-\\sum_{h=1}^{48} p_h\\log(p_h)\\text{, with } p_h=\\frac{\\sum_s w_{s, h}}{\\sum_{s, h}w_{s, h}}.$$\n",
    "\n",
    "High $H(S)$ means that base stations are complementary."
   ]
  },
  {
   "cell_type": "markdown",
   "id": "0f64782e",
   "metadata": {
    "slideshow": {
     "slide_type": "subslide"
    }
   },
   "source": [
    "# Base station complementarity"
   ]
  },
  {
   "cell_type": "markdown",
   "id": "5b10a745",
   "metadata": {
    "slideshow": {
     "slide_type": ""
    }
   },
   "source": [
    "A metric similar to complementarity is stability: The more aggregated traffic is stable, the better network capacity utilization is\n",
    "- To measure the capacity utilization rate of the BBU Pool\n",
    "$$U(S)=\\frac{\\mathrm{mean}(f(S)}{\\max(f(S)}$$\n",
    "- To take into account both complementarity and stability we define a new metric\n",
    "$$M(S)=U(S).H(S)$$"
   ]
  },
  {
   "cell_type": "markdown",
   "id": "b8106e19",
   "metadata": {
    "slideshow": {
     "slide_type": "subslide"
    }
   },
   "source": [
    "# C-RAN dimensioning problem"
   ]
  },
  {
   "cell_type": "markdown",
   "id": "f8663e09",
   "metadata": {},
   "source": [
    "Given a city with traffic profiles and base station coordinates\n",
    "- What is the optimal number of BBU Pools? \n",
    "- What is the optimal RRH-BBU Pool mapping?\n",
    "\n",
    "This is a clustering problem\n",
    "- Network is modeled as a graph G = (V, E)\n",
    "- Each base station is a node\n",
    "- Merging two RRHs has a feasibility (distance), a cost (required capacity), and a gain ($M(S)$)\n",
    "- Find the optimal number of clusters and the optimal base station \n",
    "assignment to maximize the capacity utilization rate and to minimize \n",
    "the required capacity of the BBU Pools"
   ]
  },
  {
   "cell_type": "markdown",
   "id": "e209bb7a",
   "metadata": {
    "slideshow": {
     "slide_type": "subslide"
    }
   },
   "source": [
    "# Clustering algorithm"
   ]
  },
  {
   "cell_type": "markdown",
   "id": "f490825a",
   "metadata": {
    "slideshow": {
     "slide_type": ""
    }
   },
   "source": [
    "Key idea:\n",
    "- Assign each station a cluster label\n",
    "- Iteratively try to find for each BS a better label\n",
    "\n",
    "Details: https://hal.archives-ouvertes.fr/hal-01527851"
   ]
  },
  {
   "cell_type": "markdown",
   "id": "ae5717fc",
   "metadata": {
    "slideshow": {
     "slide_type": "subslide"
    }
   },
   "source": [
    "# Performance metrics"
   ]
  },
  {
   "cell_type": "markdown",
   "id": "af7dae96",
   "metadata": {},
   "source": [
    "- Gain in term of required network capacity\n",
    "$$\\mathrm{Cost} = \\frac{\\sum_{S\\in C}\\max(f(S))}{\\sum_{s}\\max(f(s))}\\text{ (lower is better).}$$\n",
    "- Gain in term of resource utilization\n",
    "$$\\mathrm{Util} = \\frac{\\mathrm{mean}_{S\\in C}(U(S))}{\\mathrm{mean}_{s}(U(s))}\\text{ (higher is better).}$$"
   ]
  },
  {
   "cell_type": "markdown",
   "id": "97e2c3ad",
   "metadata": {
    "slideshow": {
     "slide_type": "subslide"
    }
   },
   "source": [
    "# Performance analysis"
   ]
  },
  {
   "cell_type": "markdown",
   "id": "8bd4117a",
   "metadata": {},
   "source": [
    "|  | Cost | Util |\n",
    "| --- | --- | --- |\n",
    "| DCCA | 87.12% | 109.45% |\n",
    "| DC | 96.68% | 102.95% |"
   ]
  },
  {
   "cell_type": "markdown",
   "id": "00dd0412",
   "metadata": {
    "cell_style": "split"
   },
   "source": [
    "- DCCA (Distance and Complementarity Constraint Algorithm)\n",
    "- DC (Distance constraint)"
   ]
  },
  {
   "cell_type": "markdown",
   "id": "77d3e518",
   "metadata": {
    "cell_style": "split"
   },
   "source": [
    "<img src=\"results.PNG\" width=\"500\">"
   ]
  },
  {
   "cell_type": "markdown",
   "id": "d78545ad",
   "metadata": {
    "slideshow": {
     "slide_type": "slide"
    }
   },
   "source": [
    "# The End!"
   ]
  }
 ],
 "metadata": {
  "celltoolbar": "Initialization Cell",
  "kernelspec": {
   "display_name": "Python 3 (ipykernel)",
   "language": "python",
   "name": "python3"
  },
  "language_info": {
   "codemirror_mode": {
    "name": "ipython",
    "version": 3
   },
   "file_extension": ".py",
   "mimetype": "text/x-python",
   "name": "python",
   "nbconvert_exporter": "python",
   "pygments_lexer": "ipython3",
   "version": "3.9.13"
  },
  "toc": {
   "base_numbering": 1,
   "nav_menu": {},
   "number_sections": true,
   "sideBar": true,
   "skip_h1_title": true,
   "title_cell": "Table of Contents",
   "title_sidebar": "Contents",
   "toc_cell": true,
   "toc_position": {},
   "toc_section_display": true,
   "toc_window_display": false
  }
 },
 "nbformat": 4,
 "nbformat_minor": 5
}
