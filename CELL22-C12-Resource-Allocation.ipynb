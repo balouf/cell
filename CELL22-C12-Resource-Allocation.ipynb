{
 "cells": [
  {
   "cell_type": "markdown",
   "id": "289c300a",
   "metadata": {
    "slideshow": {
     "slide_type": "slide"
    },
    "toc": true
   },
   "source": [
    "<h1>Table of Contents<span class=\"tocSkip\"></span></h1>\n",
    "<div class=\"toc\"><ul class=\"toc-item\"><li><span><a href=\"#Linear-programming\" data-toc-modified-id=\"Linear-programming-1\"><span class=\"toc-item-num\">1&nbsp;&nbsp;</span>Linear programming</a></span><ul class=\"toc-item\"><li><span><a href=\"#Definition\" data-toc-modified-id=\"Definition-1.1\"><span class=\"toc-item-num\">1.1&nbsp;&nbsp;</span>Definition</a></span></li><li><span><a href=\"#Examples\" data-toc-modified-id=\"Examples-1.2\"><span class=\"toc-item-num\">1.2&nbsp;&nbsp;</span>Examples</a></span></li></ul></li><li><span><a href=\"#Solving-a-problem\" data-toc-modified-id=\"Solving-a-problem-2\"><span class=\"toc-item-num\">2&nbsp;&nbsp;</span>Solving a problem</a></span><ul class=\"toc-item\"><li><span><a href=\"#Solvers\" data-toc-modified-id=\"Solvers-2.1\"><span class=\"toc-item-num\">2.1&nbsp;&nbsp;</span>Solvers</a></span></li><li><span><a href=\"#Using-SciPy's-linprog\" data-toc-modified-id=\"Using-SciPy's-linprog-2.2\"><span class=\"toc-item-num\">2.2&nbsp;&nbsp;</span>Using SciPy's linprog</a></span></li><li><span><a href=\"#Examples\" data-toc-modified-id=\"Examples-2.3\"><span class=\"toc-item-num\">2.3&nbsp;&nbsp;</span>Examples</a></span></li></ul></li><li><span><a href=\"#Resource-allocation\" data-toc-modified-id=\"Resource-allocation-3\"><span class=\"toc-item-num\">3&nbsp;&nbsp;</span>Resource allocation</a></span></li></ul></div>"
   ]
  },
  {
   "cell_type": "code",
   "execution_count": 6,
   "id": "7ef958e8",
   "metadata": {
    "ExecuteTime": {
     "end_time": "2023-01-20T07:46:56.358097Z",
     "start_time": "2023-01-20T07:46:56.344909Z"
    },
    "init_cell": true,
    "slideshow": {
     "slide_type": "skip"
    }
   },
   "outputs": [
    {
     "name": "stdout",
     "output_type": "stream",
     "text": [
      "The nb_js_diagrammers extension is already loaded. To reload it, use:\n",
      "  %reload_ext nb_js_diagrammers\n"
     ]
    }
   ],
   "source": [
    "%load_ext nb_js_diagrammers"
   ]
  },
  {
   "cell_type": "code",
   "execution_count": 7,
   "id": "e6ffbeb1",
   "metadata": {
    "ExecuteTime": {
     "end_time": "2023-01-20T07:46:56.373100Z",
     "start_time": "2023-01-20T07:46:56.360144Z"
    },
    "init_cell": true,
    "slideshow": {
     "slide_type": "skip"
    }
   },
   "outputs": [
    {
     "data": {
      "text/html": [
       "<style>\n",
       ".prompt_container { display: none !important; }\n",
       ".prompt { display: none !important; }\n",
       ".run_this_cell { display: none !important; }\n",
       "\n",
       ".slides {\n",
       "    position: absolute;\n",
       "    top: 0;\n",
       "    left: 0;\n",
       "}\n",
       "</style>\n"
      ],
      "text/plain": [
       "<IPython.core.display.HTML object>"
      ]
     },
     "metadata": {},
     "output_type": "display_data"
    }
   ],
   "source": [
    "%%html\n",
    "<style>\n",
    ".prompt_container { display: none !important; }\n",
    ".prompt { display: none !important; }\n",
    ".run_this_cell { display: none !important; }\n",
    "\n",
    ".slides {\n",
    "    position: absolute;\n",
    "    top: 0;\n",
    "    left: 0;\n",
    "}\n",
    "</style>"
   ]
  },
  {
   "cell_type": "markdown",
   "id": "1e39883a",
   "metadata": {
    "slideshow": {
     "slide_type": "slide"
    }
   },
   "source": [
    "# Resource Allocation"
   ]
  },
  {
   "cell_type": "markdown",
   "id": "1c2a78e5",
   "metadata": {},
   "source": [
    "Cell\n",
    "\n",
    "Thi-Mai-Trang Nguyen CELL (LIP6-Sorbonne Université)\n",
    "\n",
    "**Fabien Mathieu** (Swapcard)"
   ]
  },
  {
   "cell_type": "markdown",
   "id": "1213cdc7",
   "metadata": {
    "slideshow": {
     "slide_type": "slide"
    }
   },
   "source": [
    "## Linear programming"
   ]
  },
  {
   "cell_type": "markdown",
   "id": "1bea2d46",
   "metadata": {
    "slideshow": {
     "slide_type": "slide"
    }
   },
   "source": [
    "### Definition"
   ]
  },
  {
   "cell_type": "markdown",
   "id": "b09c1803",
   "metadata": {
    "slideshow": {
     "slide_type": "subslide"
    }
   },
   "source": [
    "# Optimization problem"
   ]
  },
  {
   "cell_type": "markdown",
   "id": "5af25f62",
   "metadata": {},
   "source": [
    "- An optimization problem aims at finding the best solution among the possible solutions\n",
    "  - Example: find the shortest path\n",
    "- An optimization problem is usually composed of three parts:\n",
    "  - Decision variables\n",
    "  - Objective function (maximize or minimize)\n",
    "  - Constraints"
   ]
  },
  {
   "cell_type": "markdown",
   "id": "e1782c22",
   "metadata": {
    "slideshow": {
     "slide_type": "subslide"
    }
   },
   "source": [
    "# Decision variables"
   ]
  },
  {
   "cell_type": "markdown",
   "id": "43f400ea",
   "metadata": {},
   "source": [
    "- Represents the possible choices that can be done.\n",
    "- Usually denoted $x=x_1, x_2, \\ldots, x_n$\n",
    "- $x_i\\in \\{0, 1\\}$: binary decision (do or don't)\n",
    "- $x_i\\in \\mathbb{Z}$: discrete decision decision (how many?)\n",
    "- $x_i\\in \\mathbb{R}$: continuous decision (how much?)"
   ]
  },
  {
   "cell_type": "markdown",
   "id": "c00ca744",
   "metadata": {
    "slideshow": {
     "slide_type": "fragment"
    }
   },
   "source": [
    "Question: what is more difficult?"
   ]
  },
  {
   "cell_type": "markdown",
   "id": "0839d89b",
   "metadata": {
    "slideshow": {
     "slide_type": "subslide"
    }
   },
   "source": [
    "# Objective function"
   ]
  },
  {
   "cell_type": "markdown",
   "id": "e595c537",
   "metadata": {},
   "source": [
    "- $x\\rightarrow f(x)$\n",
    "- Maximize: $\\mathrm{argmax}_x f(x)$\n",
    "- Minimize: $\\mathrm{argmin}_x f(x)$"
   ]
  },
  {
   "cell_type": "markdown",
   "id": "0216625d",
   "metadata": {
    "slideshow": {
     "slide_type": "fragment"
    }
   },
   "source": [
    "Remark: $\\mathrm{argmax}_x f(x) \\Leftrightarrow \\mathrm{argmin}_x -f(x)$"
   ]
  },
  {
   "cell_type": "markdown",
   "id": "e616ec7a",
   "metadata": {
    "slideshow": {
     "slide_type": "subslide"
    }
   },
   "source": [
    "# Constraints"
   ]
  },
  {
   "cell_type": "markdown",
   "id": "8214b77a",
   "metadata": {},
   "source": [
    "$$\n",
    "\\begin{matrix}\n",
    "A_1(x) \\leq b_1\\\\\n",
    "A_2(x) \\leq b_2\\\\\n",
    "A_3(x) \\leq b_3\n",
    "\\end{matrix}\n",
    "$$"
   ]
  },
  {
   "cell_type": "markdown",
   "id": "f0165489",
   "metadata": {
    "slideshow": {
     "slide_type": "fragment"
    }
   },
   "source": [
    "Remark: $A(x) \\leq b \\Leftrightarrow -A(x)\\geq -b$: you can convert $\\leq$ and $\\geq$!"
   ]
  },
  {
   "cell_type": "markdown",
   "id": "a3b622d2",
   "metadata": {
    "slideshow": {
     "slide_type": "subslide"
    }
   },
   "source": [
    "# Linear programming"
   ]
  },
  {
   "cell_type": "markdown",
   "id": "c0c6a26e",
   "metadata": {},
   "source": [
    "- An optimization problem whose objective function and constraints are linear functions\n",
    "- Linear function: $f(x)=\\sum_i a_ix_i$, where $a_1,\\ldots, a_n$ are scalars.\n",
    "- Intuition:\n",
    "  - Linear programming (continuous) is *easy* (it's all about lines and (hyper)planes)\n",
    "  - Non-linear programming can be *ugly*\n",
    "  - Many problems can be described as LP"
   ]
  },
  {
   "cell_type": "markdown",
   "id": "b2507475",
   "metadata": {
    "slideshow": {
     "slide_type": "slide"
    }
   },
   "source": [
    "### Examples"
   ]
  },
  {
   "cell_type": "markdown",
   "id": "65f7eca8",
   "metadata": {
    "slideshow": {
     "slide_type": "subslide"
    }
   },
   "source": [
    "# Linear program example"
   ]
  },
  {
   "cell_type": "markdown",
   "id": "5c05d8dd",
   "metadata": {},
   "source": [
    "- A store produces and sells pants and jackets. \n",
    "  - The price of a pair of pants is \\$60. \n",
    "  - The price of a jacket is \\$50. \n",
    "  - Every pair of pants needs $1m^2$ of cotton and $4m^2$ of polyester. \n",
    "  - Each jacket needs $2m^2$ of cotton and $2m^2$ of polyester. \n",
    "- The store can only buy from its supplier $1,000m^2$ of cotton and $1,600 m^2$ of polyester every month. \n",
    "- What is the number of pair of pants and jackets that the store should produce and sell each month in order to maximize its revenue?"
   ]
  },
  {
   "cell_type": "markdown",
   "id": "3a3db758",
   "metadata": {
    "slideshow": {
     "slide_type": "subslide"
    }
   },
   "source": [
    "# Modeling the LP problem"
   ]
  },
  {
   "cell_type": "markdown",
   "id": "3d75149a",
   "metadata": {},
   "source": [
    "- Variables: $x_1$ = number of pairs of pants, $x_2$ = number of jackets.\n",
    "- Objective: maximize $60x_1+50x_2$\n",
    "- Constraints:\n",
    "\n",
    "$$\n",
    "\\begin{array}{rcl}\n",
    "x_1+2x_2 & \\leq & 1,000\\text{ (cotton)} \\\\\n",
    "4x_1+2x_2 & \\leq & 1,600\\text{ (polyester)}\\\\\n",
    "x_1 & \\geq & 0\\text{ (no anti-pants)}\\\\\n",
    "x_2 & \\geq & 0\\text{ (no anti-jackets)}\n",
    "\\end{array}\n",
    "$$"
   ]
  },
  {
   "cell_type": "markdown",
   "id": "046cb809",
   "metadata": {
    "slideshow": {
     "slide_type": "subslide"
    }
   },
   "source": [
    "# Feasible region"
   ]
  },
  {
   "cell_type": "code",
   "execution_count": 8,
   "id": "e89a689e",
   "metadata": {
    "ExecuteTime": {
     "end_time": "2023-01-20T07:46:56.733993Z",
     "start_time": "2023-01-20T07:46:56.375101Z"
    },
    "hide_input": true,
    "init_cell": true
   },
   "outputs": [
    {
     "data": {
      "image/png": "[encoded data removed]",
      "text/plain": [
       "<Figure size 1000x500 with 1 Axes>"
      ]
     },
     "metadata": {},
     "output_type": "display_data"
    }
   ],
   "source": [
    "import numpy as np\n",
    "from matplotlib import pyplot as plt\n",
    "\n",
    "# plot the feasible region\n",
    "d = np.linspace(-100,800,300)\n",
    "x,y = np.meshgrid(d,d)\n",
    "plt.figure(figsize=(10,5)) \n",
    "plt.imshow( ((y>=0) & (4*x+2*y<=1600) & (x+2*y<=1000) & (x>=0).astype(int)) , \n",
    "                extent=(x.min(),x.max(),y.min(),y.max()),origin=\"lower\", cmap=\"Greys\", alpha = 0.3)\n",
    "plt.plot(d, 500-d/2, label = r'$x_1+2x_2\\leq 1000$')\n",
    "plt.plot(d, 800-2*d, label = r'$4x_1+2x_2\\leq 1600$')\n",
    "plt.plot(np.zeros(300), d, label = r'$x_1\\geq 0$')\n",
    "plt.plot(d, np.zeros(300), label = r'$x_2\\geq 0$')\n",
    "plt.xlim([-100, 600])\n",
    "plt.ylim([-100, 700])\n",
    "plt.xlabel('$x_1$ (Pants)')\n",
    "plt.ylabel('$x_2$ (Jackets)')\n",
    "plt.legend()\n",
    "x = [0, 0, 200, 400]\n",
    "y = [0, 500, 400, 0]\n",
    "n = [\"0\", \"A (0, 500)\", \"B (200, 400)\", \"C (400, 0)\"]\n",
    "\n",
    "plt.scatter(x, y)\n",
    "\n",
    "for i, txt in enumerate(n):\n",
    "    plt.annotate(txt, (x[i], y[i]))\n",
    "x, y = 70, 100\n",
    "plt.arrow(x, y, 60, 50, width=6)\n",
    "plt.annotate('Objective direction', (x-50, y-50))\n",
    "plt.show()"
   ]
  },
  {
   "cell_type": "markdown",
   "id": "4040d43b",
   "metadata": {
    "slideshow": {
     "slide_type": "subslide"
    }
   },
   "source": [
    "# Solution"
   ]
  },
  {
   "cell_type": "markdown",
   "id": "51741b51",
   "metadata": {},
   "source": [
    "- Inside the feasibility region (convex polytope)\n",
    "- The furthest along the objective direction\n",
    "- If the feasibility region is bounded, an optimal solution exists\n",
    "- If the feasibility region is not bounded along the objective, no optimal solution exists (grow to infinity)"
   ]
  },
  {
   "cell_type": "markdown",
   "id": "cf0060b8",
   "metadata": {
    "slideshow": {
     "slide_type": "subslide"
    }
   },
   "source": [
    "# Solution"
   ]
  },
  {
   "cell_type": "markdown",
   "id": "c2835bea",
   "metadata": {},
   "source": [
    "- If there is a best solution (e.g. bounded region), at least one corner of the region is optimal.\n",
    "- $O (0,0)$:  $60 \\times 0 + 50 \\times 0 = 0$\n",
    "- $A (0, 500)$: $60 \\times 0 + 50 \\times 500 = 25,000$\n",
    "- $B (200, 400)$: $60 \\times 200 + 50 \\times 400 = 32,000$\n",
    "- $C (400, 0)$: $60 \\times 400 + 50 \\times 0 = 24,000$\n",
    "- The optimal point is $B(200, 400)$"
   ]
  },
  {
   "cell_type": "markdown",
   "id": "919a9b25",
   "metadata": {
    "slideshow": {
     "slide_type": "subslide"
    }
   },
   "source": [
    "# Linear program example: a variation"
   ]
  },
  {
   "cell_type": "markdown",
   "id": "29e47457",
   "metadata": {
    "hide_input": false
   },
   "source": [
    "- A small tailor shop produces and sells pants and jackets. \n",
    "  - The price of a pair of pants is \\$60. \n",
    "  - The price of a jacket is \\$100. \n",
    "  - Every pair of pants needs $4m^2$ of cotton and $3m^2$ of polyester. \n",
    "  - Each jacket needs $5m^2$ of cotton and $7m^2$ of polyester. \n",
    "- The tailor has $12m^2$ of cotton and $15 m^2$ of polyester. \n",
    "- What is the number of pair of pants and jackets that the tailor should make to maximize its revenue?"
   ]
  },
  {
   "cell_type": "markdown",
   "id": "6c08e8f2",
   "metadata": {
    "slideshow": {
     "slide_type": "subslide"
    }
   },
   "source": [
    "# Feasible region"
   ]
  },
  {
   "cell_type": "code",
   "execution_count": 9,
   "id": "a2b5f8f1",
   "metadata": {
    "ExecuteTime": {
     "end_time": "2023-01-20T07:46:56.955583Z",
     "start_time": "2023-01-20T07:46:56.736948Z"
    },
    "hide_input": true,
    "init_cell": true
   },
   "outputs": [
    {
     "data": {
      "image/png": "[encoded data removed]",
      "text/plain": [
       "<Figure size 1000x500 with 1 Axes>"
      ]
     },
     "metadata": {},
     "output_type": "display_data"
    }
   ],
   "source": [
    "# plot the feasible region\n",
    "d = np.linspace(-1,4,300)\n",
    "x,y = np.meshgrid(d,d)\n",
    "plt.figure(figsize=(10,5)) \n",
    "plt.imshow( ((y>=0) & (4*x+5*y<=12) & (3*x+7*y<=15) & (x>=0).astype(int)) , \n",
    "                extent=(x.min(),x.max(),y.min(),y.max()),origin=\"lower\", cmap=\"Greys\", alpha = 0.3)\n",
    "plt.plot(d, 2.4-.8*d, label = r'$4x_1+5x_2\\leq 12$')\n",
    "plt.plot(d, 15/7-3*d/7, label = r'$3x_1+7x_2\\leq 15$')\n",
    "plt.plot(np.zeros(300), d, label = r'$x_1\\geq 0$')\n",
    "plt.plot(d, np.zeros(300), label = r'$x_2\\geq 0$')\n",
    "plt.xlim([-1, 4])\n",
    "plt.ylim([-1, 4])\n",
    "plt.xlabel('$x_1$ (Pants)')\n",
    "plt.ylabel('$x_2$ (Jackets)')\n",
    "plt.legend()\n",
    "x = [0, 0, 0.69, 3]\n",
    "y = [0, 15/7, 1.85, 0]\n",
    "plt.scatter(x, y)\n",
    "x, y = 3, 1.2\n",
    "sc=100\n",
    "plt.arrow(x, y, 60/sc, 100/sc, width=.03)\n",
    "plt.show()"
   ]
  },
  {
   "cell_type": "markdown",
   "id": "929d80f8",
   "metadata": {
    "slideshow": {
     "slide_type": "subslide"
    }
   },
   "source": [
    "# Feasible region"
   ]
  },
  {
   "cell_type": "code",
   "execution_count": 10,
   "id": "485b7066",
   "metadata": {
    "ExecuteTime": {
     "end_time": "2023-01-20T07:46:57.286618Z",
     "start_time": "2023-01-20T07:46:56.957519Z"
    },
    "hide_input": true,
    "init_cell": true
   },
   "outputs": [
    {
     "data": {
      "image/png": "[encoded data removed]",
      "text/plain": [
       "<Figure size 1000x500 with 1 Axes>"
      ]
     },
     "metadata": {},
     "output_type": "display_data"
    }
   ],
   "source": [
    "# plot the feasible region\n",
    "d = np.linspace(-1,4,300)\n",
    "x,y = np.meshgrid(d,d)\n",
    "plt.figure(figsize=(10,5)) \n",
    "plt.imshow( ((y>=0) & (4*x+5*y<=12) & (3*x+7*y<=15) & (x>=0).astype(int)) , \n",
    "                extent=(x.min(),x.max(),y.min(),y.max()),origin=\"lower\", cmap=\"Greys\", alpha = 0.3)\n",
    "plt.plot(d, 2.4-.8*d, label = r'$4x_1+5x_2\\leq 12$')\n",
    "plt.plot(d, 15/7-3*d/7, label = r'$3x_1+7x_2\\leq 15$')\n",
    "plt.plot(np.zeros(300), d, label = r'$x_1\\geq 0$')\n",
    "plt.plot(d, np.zeros(300), label = r'$x_2\\geq 0$')\n",
    "for i in range(1, 4):\n",
    "    plt.plot(i*np.ones(300), d, 'k:')\n",
    "    plt.plot(d, i*np.ones(300), 'k:')\n",
    "plt.xlim([-1, 4])\n",
    "plt.ylim([-1, 4])\n",
    "plt.xlabel('$x_1$ (Pants)')\n",
    "plt.ylabel('$x_2$ (Jackets)')\n",
    "plt.legend()\n",
    "x = [0, 0, 0.69, 3]\n",
    "y = [0, 15/7, 1.85, 0]\n",
    "n = [\"0\", \"A (0, 15/7)\", \"B (0.69, 1.85)\", \"C (3, 0)\"]\n",
    "plt.scatter(x, y)\n",
    "\n",
    "for i, txt in enumerate(n):\n",
    "    plt.annotate(txt, (x[i], y[i]))\n",
    "x, y = 3, 1.2\n",
    "sc=100\n",
    "plt.arrow(x, y, 60/sc, 100/sc, width=.03)\n",
    "plt.show()"
   ]
  },
  {
   "cell_type": "markdown",
   "id": "b4555e5f",
   "metadata": {
    "slideshow": {
     "slide_type": "subslide"
    }
   },
   "source": [
    "# Modeling the LP problem"
   ]
  },
  {
   "cell_type": "markdown",
   "id": "578b0687",
   "metadata": {},
   "source": [
    "- Variables: $x_1$ = number of pairs of pants, $x_2$ = number of jackets.\n",
    "- Objective: maximize $60x+100y$\n",
    "- Constraints:\n",
    "\n",
    "$$\n",
    "\\begin{array}{rcl}\n",
    "4x_1+5x_2 & \\leq & 12 \\text{ (cotton)}\\\\\n",
    "3x_1+7x_2 & \\leq & 15 \\text{ (polyester)}\\\\\n",
    "x_1, x_2 & \\in & \\mathbb{N}\\text{ (no half-clothes)}\n",
    "\\end{array}\n",
    "$$"
   ]
  },
  {
   "cell_type": "markdown",
   "id": "e6d39853",
   "metadata": {
    "slideshow": {
     "slide_type": "subslide"
    }
   },
   "source": [
    "# Solution"
   ]
  },
  {
   "cell_type": "markdown",
   "id": "2782eef2",
   "metadata": {},
   "source": [
    "- $A$ and $B$ are not feasible (not integers).\n",
    "- $C(3, 0)$: $60\\times 3 = 180$\n",
    "- $(0, 2)$: $100\\times 2 = 200$ (optimal solution)\n",
    "- The optimal solution is a NOT a corner"
   ]
  },
  {
   "cell_type": "markdown",
   "id": "2a8aa1e9",
   "metadata": {
    "slideshow": {
     "slide_type": "subslide"
    }
   },
   "source": [
    "# ILP/MILP"
   ]
  },
  {
   "cell_type": "markdown",
   "id": "fa705fc1",
   "metadata": {},
   "source": [
    "- Integer Linear Programming (ILP)\n",
    "  - When the decision variables are integers, linear programming is called Integer Linear Programming \n",
    "- Mixed-Integer Linear Programming (MILP)\n",
    "  - When some of the decision variables are integer while the others are real numbers, linear programming is called Mixed-Integer Linear Programming"
   ]
  },
  {
   "cell_type": "markdown",
   "id": "4bbcc56c",
   "metadata": {
    "slideshow": {
     "slide_type": "subslide"
    }
   },
   "source": [
    "# ILP/MILP"
   ]
  },
  {
   "cell_type": "markdown",
   "id": "12c06525",
   "metadata": {},
   "source": [
    "- When to use (M)ILP:\n",
    "  - When a decision is countable (cars, pants...) and *rounding up* a LP solution does not make sense.\n",
    "  - When a decision is a choice\n",
    "- NP-Hard: (M)ILP instances can be more difficult to solve than LP"
   ]
  },
  {
   "cell_type": "markdown",
   "id": "6f2e7724",
   "metadata": {
    "cell_style": "center",
    "slideshow": {
     "slide_type": "slide"
    }
   },
   "source": [
    "## Solving a problem"
   ]
  },
  {
   "cell_type": "markdown",
   "id": "8e988303",
   "metadata": {
    "slideshow": {
     "slide_type": "slide"
    }
   },
   "source": [
    "### Solvers"
   ]
  },
  {
   "cell_type": "markdown",
   "id": "987b3fa0",
   "metadata": {
    "slideshow": {
     "slide_type": "subslide"
    }
   },
   "source": [
    "# Solver engines"
   ]
  },
  {
   "cell_type": "markdown",
   "id": "cec5855a",
   "metadata": {},
   "source": [
    "Solver engine: the software that does the actual work\n",
    "- Proprietary engines: CPLEX, Gurobi\n",
    "- Opensource: HiGHS, CLP/CBC, GLPK"
   ]
  },
  {
   "cell_type": "markdown",
   "id": "7987cced",
   "metadata": {
    "slideshow": {
     "slide_type": "subslide"
    }
   },
   "source": [
    "# Performance comparison:"
   ]
  },
  {
   "cell_type": "markdown",
   "id": "90d710e5",
   "metadata": {},
   "source": [
    "- It depends on the problem and changes with time\n",
    "  - http://plato.asu.edu/bench.html \n",
    "  - https://blog.zhangzhk.com/files/Comparison-of-Open-Source-Linear-Programming-Solvers.pdf\n",
    "- Proprietary are usually better, Gurobi is best\n",
    "- HiGHS/CBC are good open source alternatives"
   ]
  },
  {
   "cell_type": "markdown",
   "id": "6a8131c5",
   "metadata": {
    "slideshow": {
     "slide_type": "subslide"
    }
   },
   "source": [
    "# Solver API"
   ]
  },
  {
   "cell_type": "markdown",
   "id": "f424e32d",
   "metadata": {},
   "source": [
    "API: how to feed the engine\n",
    "- Each engine has its own API\n",
    "  - write an input file, get results on output file\n",
    "  - language-specific API (Python, Matlab...)\n",
    "- Python\n",
    "  - PuLP: aggregate most common engines under a same API https://coin-or.github.io/pulp/index.html\n",
    "  - SciPy: the optimize submodule provides API for HiGHS"
   ]
  },
  {
   "cell_type": "markdown",
   "id": "c3fc207c",
   "metadata": {
    "slideshow": {
     "slide_type": "subslide"
    }
   },
   "source": [
    "# SciPy optimize"
   ]
  },
  {
   "cell_type": "markdown",
   "id": "e4d355ab",
   "metadata": {},
   "source": [
    "- Default engine: HiGHS\n",
    "- Version <= 1.9.X, two entry points:\n",
    "  - `linprog` for linear programming (continous)\n",
    "  - `milp` for (M)ILP (discrete / semi-discrete)\n",
    "  - API is mostly identical, with some small differences.\n",
    "- Version >= 1.10.X, one unique entry point: `linprog`"
   ]
  },
  {
   "cell_type": "markdown",
   "id": "49ddf13d",
   "metadata": {},
   "source": [
    "https://scipy.github.io/devdocs/reference/generated/scipy.optimize.linprog.html"
   ]
  },
  {
   "cell_type": "markdown",
   "id": "c7525b61",
   "metadata": {
    "slideshow": {
     "slide_type": "slide"
    }
   },
   "source": [
    "### Using SciPy's linprog"
   ]
  },
  {
   "cell_type": "markdown",
   "id": "1ddc22d3",
   "metadata": {
    "slideshow": {
     "slide_type": "subslide"
    }
   },
   "source": [
    "# `linprog` (recent versions)"
   ]
  },
  {
   "cell_type": "markdown",
   "id": "f9f88506",
   "metadata": {
    "cell_style": "center"
   },
   "source": [
    "Formal definition:\n",
    "\n",
    "$$\n",
    "\\begin{aligned}\n",
    "\\min_x c^T.x  & \\\\\n",
    "\\text{such that } A_{ub} x & \\leq b_{ub},\\\\\n",
    "A_{eq} x & = b_{eq},\\\\\n",
    "l \\leq x & \\leq u \n",
    "\\end{aligned}\n",
    "$$"
   ]
  },
  {
   "cell_type": "markdown",
   "id": "63f8eb06",
   "metadata": {
    "slideshow": {
     "slide_type": "subslide"
    }
   },
   "source": [
    "# `linprog` (recent versions)"
   ]
  },
  {
   "cell_type": "markdown",
   "id": "3bd5b48d",
   "metadata": {
    "cell_style": "split"
   },
   "source": [
    "Input variables of interest:\n",
    "- `c`, `b_ub`: vector-like\n",
    "- `A_ub`: vector-like\n",
    "- `bounds`: list of tuples (default to `[(0, None), ...]`, i.e. $x\\geq 0$\n",
    "- `integrality`: list of integers (0 for continuous, 1 for integer)"
   ]
  },
  {
   "cell_type": "markdown",
   "id": "e5ec4e96",
   "metadata": {
    "cell_style": "split"
   },
   "source": [
    "Output: a `OptimizeResult` object with attributes:\n",
    "- `x`: values of the decision variables\n",
    "- `fun`: value of the objective function\n",
    "- `message`: exit status of the algorithm"
   ]
  },
  {
   "cell_type": "markdown",
   "id": "383486e7",
   "metadata": {
    "slideshow": {
     "slide_type": "slide"
    }
   },
   "source": [
    "### Examples"
   ]
  },
  {
   "cell_type": "markdown",
   "id": "c311eddf",
   "metadata": {
    "slideshow": {
     "slide_type": "subslide"
    }
   },
   "source": [
    "# First example"
   ]
  },
  {
   "cell_type": "markdown",
   "id": "a48fdfc1",
   "metadata": {},
   "source": [
    "- A store produces and sells pants and jackets. \n",
    "  - The price of a pair of pants is \\$60. \n",
    "  - The price of a jacket is \\$50. \n",
    "  - Every pair of pants needs $1m^2$ of cotton and $4m^2$ of polyester. \n",
    "  - Each jacket needs $2m^2$ of cotton and $2m^2$ of polyester. \n",
    "- The store can only buy from its supplier $1,000m^2$ of cotton and $1,600 m^2$ of polyester every month. \n",
    "- What is the number of pair of pants and jackets that the store should produce and sell each month in order to maximize its revenue?"
   ]
  },
  {
   "cell_type": "markdown",
   "id": "f7123ec2",
   "metadata": {
    "slideshow": {
     "slide_type": "subslide"
    }
   },
   "source": [
    "# First example"
   ]
  },
  {
   "cell_type": "markdown",
   "id": "54d3ea3d",
   "metadata": {
    "cell_style": "split"
   },
   "source": [
    "$$\n",
    "\\begin{matrix}\n",
    "\\max_x 60 x_1  + 50 x_2 & \\text{s.t.} & \\\\\n",
    "x_1+2x_2 & \\leq & 1,000 \\\\\n",
    "4x_1+2x_2 & \\leq & 1,600\\\\\n",
    "x_1 & \\geq & 0\\\\\n",
    "x_2 & \\geq & 0\n",
    "\\end{matrix}\n",
    "$$"
   ]
  },
  {
   "cell_type": "markdown",
   "id": "c2245b94",
   "metadata": {
    "cell_style": "split",
    "slideshow": {
     "slide_type": "fragment"
    }
   },
   "source": [
    "$$\n",
    "\\begin{matrix}\n",
    "\\min_x -60x_1-50 x_2 & \\text{s.t.} &\\\\\n",
    "x_1+2x_2 & \\leq & 1000 \\\\\n",
    "4x_1+2x_2 & \\leq & 1600\\\\\n",
    "x_1, x_2 & \\geq & 0\n",
    "\\end{matrix}\n",
    "$$"
   ]
  },
  {
   "cell_type": "markdown",
   "id": "e5cd0987",
   "metadata": {
    "slideshow": {
     "slide_type": "subslide"
    }
   },
   "source": [
    "# First example"
   ]
  },
  {
   "cell_type": "markdown",
   "id": "c774a905",
   "metadata": {
    "cell_style": "split"
   },
   "source": [
    "$$\n",
    "\\begin{matrix}\n",
    "\\min_x -60 x_1 -50 x_2 & \\text{s.t.} &  \\\\\n",
    "x_1+2x_2 & \\leq & 1000 \\\\\n",
    "4x_1+2x_2 & \\leq & 1600\\\\\n",
    "x_1, x_2 & \\geq & 0 \n",
    "\\end{matrix}\n",
    "$$"
   ]
  },
  {
   "cell_type": "markdown",
   "id": "5c3a4c0e",
   "metadata": {
    "cell_style": "split",
    "slideshow": {
     "slide_type": "fragment"
    }
   },
   "source": [
    "$$\\begin{matrix}\n",
    "c & = [-60, -50]\\\\\n",
    "A_{ub} & = \\left(\\begin{matrix} 1 & 2 \\\\ 4 & 2\\end{matrix}\\right)\\\\\n",
    "b_{ub} & = [1000, 1600]\n",
    "\\end{matrix}\n",
    "$$"
   ]
  },
  {
   "cell_type": "markdown",
   "id": "84dcd021",
   "metadata": {
    "slideshow": {
     "slide_type": "subslide"
    }
   },
   "source": [
    "# First example"
   ]
  },
  {
   "cell_type": "markdown",
   "id": "f2a24974",
   "metadata": {
    "cell_style": "split"
   },
   "source": [
    "$$\\begin{matrix}\n",
    "c & = [-60, -50]\\\\\n",
    "A_{ub} & = \\left(\\begin{matrix} 1 & 2 \\\\ 4 & 2\\end{matrix}\\right)\\\\\n",
    "b_{ub} & = [1000, 1600]\n",
    "\\end{matrix}\n",
    "$$"
   ]
  },
  {
   "cell_type": "code",
   "execution_count": 11,
   "id": "8f179665",
   "metadata": {
    "ExecuteTime": {
     "end_time": "2023-01-20T07:46:57.648393Z",
     "start_time": "2023-01-20T07:46:57.288623Z"
    },
    "cell_style": "split",
    "slideshow": {
     "slide_type": "fragment"
    }
   },
   "outputs": [],
   "source": [
    "from scipy.optimize import linprog\n",
    "c = [-60, -50]\n",
    "A_ub = [[1, 2], [4, 2]]\n",
    "b_ub = [1000, 1600]\n",
    "res = linprog(c=c, A_ub=A_ub, b_ub=b_ub)"
   ]
  },
  {
   "cell_type": "markdown",
   "id": "d4b6c79b",
   "metadata": {
    "slideshow": {
     "slide_type": "subslide"
    }
   },
   "source": [
    "# First example"
   ]
  },
  {
   "cell_type": "code",
   "execution_count": 12,
   "id": "4fbb36a3",
   "metadata": {
    "ExecuteTime": {
     "end_time": "2023-01-20T07:46:57.663654Z",
     "start_time": "2023-01-20T07:46:57.651722Z"
    }
   },
   "outputs": [
    {
     "name": "stdout",
     "output_type": "stream",
     "text": [
      "Algorithm status: Optimization terminated successfully. (HiGHS Status 7: Optimal)\n",
      "Decision variables: x=[200. 400.]\n",
      "Optimal value: 32000.0\n"
     ]
    }
   ],
   "source": [
    "print(f\"Algorithm status: {res.message}\")\n",
    "print(f\"Decision variables: x={res.x}\")\n",
    "print(f\"Optimal value: {-res.fun}\")"
   ]
  },
  {
   "cell_type": "markdown",
   "id": "6c54031f",
   "metadata": {
    "slideshow": {
     "slide_type": "subslide"
    }
   },
   "source": [
    "# Variant"
   ]
  },
  {
   "cell_type": "markdown",
   "id": "6b388097",
   "metadata": {
    "hide_input": false
   },
   "source": [
    "- A tailor produces and sells pants and jackets. \n",
    "  - The price of a pair of pants is \\$60. \n",
    "  - The price of a jacket is \\$100. \n",
    "  - Every pair of pants needs $4m^2$ of cotton and $3m^2$ of polyester. \n",
    "  - Each jacket needs $5m^2$ of cotton and $7m^2$ of polyester. \n",
    "- The tailor has $12m^2$ of cotton and $15 m^2$ of polyester. \n",
    "- What is the number of pair of pants and jackets that the tailor should make to maximize its revenue?"
   ]
  },
  {
   "cell_type": "markdown",
   "id": "ae1b8a42",
   "metadata": {
    "slideshow": {
     "slide_type": "subslide"
    }
   },
   "source": [
    "# Variant"
   ]
  },
  {
   "cell_type": "markdown",
   "id": "b39ef55f",
   "metadata": {
    "cell_style": "split"
   },
   "source": [
    "$$\n",
    "\\begin{matrix}\n",
    "\\max_x 60 x_1 + 100 x_2 & \\text{s.t.} & \\\\\n",
    "4x_1+5x_2 & \\leq & 12 \\\\\n",
    "3x_1+7x_2 & \\leq & 15 \\\\\n",
    "x_1 & \\geq & 0\\\\\n",
    "x_2 & \\geq & 0\n",
    "\\end{matrix}\n",
    "$$"
   ]
  },
  {
   "cell_type": "markdown",
   "id": "8f8c89da",
   "metadata": {
    "cell_style": "split",
    "slideshow": {
     "slide_type": "fragment"
    }
   },
   "source": [
    "$$\n",
    "\\begin{matrix}\n",
    "\\min_x -60 x_1 -100 x_2 & \\text{s.t.} & \\\\\n",
    "4x_1+5x_2 & \\leq & 12 \\\\\n",
    "3x_1+7x_2 & \\leq & 15 \\\\\n",
    "x_1, x_2 & \\geq & 0 \n",
    "\\end{matrix}\n",
    "$$"
   ]
  },
  {
   "cell_type": "markdown",
   "id": "ece5324c",
   "metadata": {
    "slideshow": {
     "slide_type": "subslide"
    }
   },
   "source": [
    "# Variant"
   ]
  },
  {
   "cell_type": "markdown",
   "id": "e77eadd3",
   "metadata": {
    "cell_style": "split"
   },
   "source": [
    "$$\n",
    "\\begin{matrix}\n",
    "\\min_x -60 x_1 -100 x_2 & \\text{s.t.} & \\\\\n",
    "4x_1+5x_2 & \\leq & 12 \\\\\n",
    "3x_1+7x_2 & \\leq & 15\\\\\n",
    "x_1, x_2 & \\geq & 0\n",
    "\\end{matrix}\n",
    "$$"
   ]
  },
  {
   "cell_type": "markdown",
   "id": "73da3206",
   "metadata": {
    "cell_style": "split",
    "slideshow": {
     "slide_type": "fragment"
    }
   },
   "source": [
    "$$\\begin{matrix}\n",
    "c & = [-60, -100]\\\\\n",
    "A_{ub} & = \\left(\\begin{matrix} 4 & 5 \\\\ 3 & 7\\end{matrix}\\right)\\\\\n",
    "b_{ub} & = [12, 15]\n",
    "\\end{matrix}\n",
    "$$"
   ]
  },
  {
   "cell_type": "markdown",
   "id": "4a3a4ee7",
   "metadata": {
    "slideshow": {
     "slide_type": "subslide"
    }
   },
   "source": [
    "# Variant"
   ]
  },
  {
   "cell_type": "markdown",
   "id": "ca7ffc56",
   "metadata": {
    "cell_style": "split"
   },
   "source": [
    "$$\\begin{matrix}\n",
    "c & = [-60, -100]\\\\\n",
    "A_{ub} & = \\left(\\begin{matrix} 4 & 5 \\\\ 3 & 7\\end{matrix}\\right)\\\\\n",
    "b_{ub} & = [12, 15]\n",
    "\\end{matrix}\n",
    "$$"
   ]
  },
  {
   "cell_type": "code",
   "execution_count": 13,
   "id": "0b09e174",
   "metadata": {
    "ExecuteTime": {
     "end_time": "2023-01-20T07:46:57.694197Z",
     "start_time": "2023-01-20T07:46:57.667116Z"
    },
    "cell_style": "split",
    "slideshow": {
     "slide_type": "fragment"
    }
   },
   "outputs": [],
   "source": [
    "c = [-60, -100]\n",
    "A_ub = [[4, 5], [3, 7]]\n",
    "b_ub = [12, 15]\n",
    "res = linprog(c=c, A_ub=A_ub, b_ub=b_ub)"
   ]
  },
  {
   "cell_type": "markdown",
   "id": "5f300473",
   "metadata": {
    "slideshow": {
     "slide_type": "subslide"
    }
   },
   "source": [
    "# Variant"
   ]
  },
  {
   "cell_type": "code",
   "execution_count": 14,
   "id": "c32b4382",
   "metadata": {
    "ExecuteTime": {
     "end_time": "2023-01-20T07:46:57.709721Z",
     "start_time": "2023-01-20T07:46:57.700211Z"
    },
    "cell_style": "split"
   },
   "outputs": [
    {
     "name": "stdout",
     "output_type": "stream",
     "text": [
      "Algorithm status: Optimization terminated successfully. (HiGHS Status 7: Optimal)\n",
      "Decision variables: x=[0.69230769 1.84615385]\n",
      "Optimal value: 226.1538461538462\n"
     ]
    }
   ],
   "source": [
    "print(f\"Algorithm status: {res.message}\")\n",
    "print(f\"Decision variables: x={res.x}\")\n",
    "print(f\"Optimal value: {-res.fun}\")"
   ]
  },
  {
   "cell_type": "code",
   "execution_count": 15,
   "id": "7cf6eba8",
   "metadata": {
    "ExecuteTime": {
     "end_time": "2023-01-20T07:46:57.740123Z",
     "start_time": "2023-01-20T07:46:57.713716Z"
    },
    "cell_style": "split",
    "slideshow": {
     "slide_type": "fragment"
    }
   },
   "outputs": [
    {
     "name": "stdout",
     "output_type": "stream",
     "text": [
      "Algorithm status: Optimization terminated successfully. (HiGHS Status 7: Optimal)\n",
      "Decision variables: x=[0, 2]\n",
      "Optimal value: 200.0\n"
     ]
    }
   ],
   "source": [
    "res = linprog(c=c, A_ub=A_ub, b_ub=b_ub, \n",
    "              integrality=[1, 1])\n",
    "print(f\"Algorithm status: {res.message}\")\n",
    "print(f\"Decision variables: x={[int(i) for i in res.x]}\")\n",
    "print(f\"Optimal value: {-res.fun}\")"
   ]
  },
  {
   "cell_type": "markdown",
   "id": "90b284ca",
   "metadata": {
    "slideshow": {
     "slide_type": "subslide"
    }
   },
   "source": [
    "# Another example"
   ]
  },
  {
   "cell_type": "markdown",
   "id": "7afe92f4",
   "metadata": {
    "cell_style": "split"
   },
   "source": [
    "$$\n",
    "\\begin{matrix}\n",
    "\\min_x 8 x_1 + x_2 & \\text{ s.t.}\\\\\n",
    "x_1+2x_2 & \\geq & -14 \\\\\n",
    "-4x_1-x_2 & \\leq & -33 \\\\\n",
    "2x_1+x_2 &\\leq &   20\\\\\n",
    "x_2 & \\in & \\mathbb{Z}\n",
    "\\end{matrix}\n",
    "$$"
   ]
  },
  {
   "cell_type": "markdown",
   "id": "b2b3499f",
   "metadata": {
    "cell_style": "split",
    "slideshow": {
     "slide_type": "fragment"
    }
   },
   "source": [
    "$$\n",
    "\\begin{matrix}\n",
    "\\min_x 8 x_1 + x_2 & \\text{ s.t.}\\\\\n",
    "-x_1-2x_2 & \\leq & 14 \\\\\n",
    "-4x_1-x_2 & \\leq & -33 \\\\\n",
    "2x_1+x_2 &\\leq &   20\\\\\n",
    "x_2 & \\in & \\mathbb{Z}\n",
    "\\end{matrix}\n",
    "$$"
   ]
  },
  {
   "cell_type": "markdown",
   "id": "39d28359",
   "metadata": {
    "slideshow": {
     "slide_type": "subslide"
    }
   },
   "source": [
    "# Another example"
   ]
  },
  {
   "cell_type": "markdown",
   "id": "3638d3b0",
   "metadata": {
    "cell_style": "split"
   },
   "source": [
    "$$\n",
    "\\begin{matrix}\n",
    "\\min_x 8 x_1 + x_2 & \\text{ s.t.}\\\\\n",
    "-x_1-2x_2 & \\leq & 14 \\\\\n",
    "-4x_1-x_2 & \\leq & -33 \\\\\n",
    "2x_1+x_2 &\\leq &   20\\\\\n",
    "x_2 & \\in & \\mathbb{Z}\n",
    "\\end{matrix}\n",
    "$$"
   ]
  },
  {
   "cell_type": "markdown",
   "id": "90557e11",
   "metadata": {
    "cell_style": "split",
    "slideshow": {
     "slide_type": "fragment"
    }
   },
   "source": [
    "$$\\begin{matrix}\n",
    "c & = & [8, 1]\\\\\n",
    "A_{ub} & = & \\left(\\begin{matrix} -1 & -2 \\\\ -4 & -1\\\\ 2 & 1 \\end{matrix}\\right)\\\\\n",
    "b_{ub} & = & [14, -33, 20]\\\\\n",
    "\\text{integrality} & = & [0, 1]\n",
    "\\end{matrix}\n",
    "$$"
   ]
  },
  {
   "cell_type": "markdown",
   "id": "9f8c3458",
   "metadata": {
    "slideshow": {
     "slide_type": "subslide"
    }
   },
   "source": [
    "# Another example"
   ]
  },
  {
   "cell_type": "markdown",
   "id": "6f80b483",
   "metadata": {
    "cell_style": "split"
   },
   "source": [
    "$$\\begin{matrix}\n",
    "c & = & [8, 1]\\\\\n",
    "A_{ub} & = & \\left(\\begin{matrix} -1 & -2 \\\\ -4 & -1\\\\ 2 & 1 \\end{matrix}\\right)\\\\\n",
    "b_{ub} & = & [14, -33, 20]\\\\\n",
    "\\text{integrality} & = & [0, 1]\n",
    "\\end{matrix}\n",
    "$$"
   ]
  },
  {
   "cell_type": "code",
   "execution_count": 16,
   "id": "3e44a000",
   "metadata": {
    "ExecuteTime": {
     "end_time": "2023-01-20T07:46:57.756126Z",
     "start_time": "2023-01-20T07:46:57.743101Z"
    },
    "cell_style": "split",
    "slideshow": {
     "slide_type": "fragment"
    }
   },
   "outputs": [],
   "source": [
    "c = [8, 1]\n",
    "A_ub = [[-1, -2], [-4, -1], [2, 1]]\n",
    "b_ub = [14, -33, 20]\n",
    "res = linprog(c=c, A_ub=A_ub, b_ub=b_ub, \n",
    "              integrality=[0, 1])"
   ]
  },
  {
   "cell_type": "markdown",
   "id": "84fd7979",
   "metadata": {
    "slideshow": {
     "slide_type": "subslide"
    }
   },
   "source": [
    "# Another example"
   ]
  },
  {
   "cell_type": "code",
   "execution_count": 17,
   "id": "34610085",
   "metadata": {
    "ExecuteTime": {
     "end_time": "2023-01-20T07:46:57.772123Z",
     "start_time": "2023-01-20T07:46:57.760102Z"
    },
    "cell_style": "split"
   },
   "outputs": [
    {
     "name": "stdout",
     "output_type": "stream",
     "text": [
      "Algorithm status: Optimization terminated successfully. (HiGHS Status 7: Optimal)\n",
      "Decision variables: x=[6.5, 7.0]\n",
      "Optimal value: 59.0\n"
     ]
    }
   ],
   "source": [
    "print(f\"Algorithm status: {res.message}\")\n",
    "print(f\"Decision variables: x={[i for i in res.x]}\")\n",
    "print(f\"Optimal value: {res.fun}\")"
   ]
  },
  {
   "cell_type": "code",
   "execution_count": 18,
   "id": "3e00e198",
   "metadata": {
    "ExecuteTime": {
     "end_time": "2023-01-20T07:46:57.787263Z",
     "start_time": "2023-01-20T07:46:57.775100Z"
    },
    "cell_style": "split",
    "slideshow": {
     "slide_type": "fragment"
    }
   },
   "outputs": [
    {
     "name": "stdout",
     "output_type": "stream",
     "text": [
      "Algorithm status: Optimization terminated successfully. (HiGHS Status 7: Optimal)\n",
      "Decision variables: x=[6.5, 7.0]\n",
      "Optimal value: 59.0\n"
     ]
    }
   ],
   "source": [
    "res = linprog(c=c, A_ub=A_ub, b_ub=b_ub)\n",
    "print(f\"Algorithm status: {res.message}\")\n",
    "print(f\"Decision variables: x={[i for i in res.x]}\")\n",
    "print(f\"Optimal value: {res.fun}\")"
   ]
  },
  {
   "cell_type": "markdown",
   "id": "78ff3457",
   "metadata": {
    "slideshow": {
     "slide_type": "subslide"
    }
   },
   "source": [
    "# Another example"
   ]
  },
  {
   "cell_type": "code",
   "execution_count": 19,
   "id": "1d6fe54a",
   "metadata": {
    "ExecuteTime": {
     "end_time": "2023-01-20T07:46:57.818796Z",
     "start_time": "2023-01-20T07:46:57.790297Z"
    }
   },
   "outputs": [
    {
     "name": "stdout",
     "output_type": "stream",
     "text": [
      "Algorithm status: Optimization terminated successfully. (HiGHS Status 7: Optimal)\n",
      "Decision variables: x=[7.0, 5.0]\n",
      "Optimal value: 61.0\n"
     ]
    }
   ],
   "source": [
    "res = linprog(c=c, A_ub=A_ub, b_ub=b_ub, integrality=[1, 0])\n",
    "print(f\"Algorithm status: {res.message}\")\n",
    "print(f\"Decision variables: x={[i for i in res.x]}\")\n",
    "print(f\"Optimal value: {res.fun}\")"
   ]
  },
  {
   "cell_type": "markdown",
   "id": "883f41ed",
   "metadata": {
    "slideshow": {
     "slide_type": "subslide"
    }
   },
   "source": [
    "# Last example"
   ]
  },
  {
   "cell_type": "markdown",
   "id": "8143bc27",
   "metadata": {
    "cell_style": "split"
   },
   "source": [
    "$$\n",
    "\\begin{matrix}\n",
    "\\max_x  x_1 + x_2 & \\text{ s.t.}\\\\\n",
    "5x_1+3x_2 & \\leq & 15 \\\\\n",
    "x_1-x_2 & \\leq & 2 \\\\\n",
    "x_2 &\\leq &  3\\\\\n",
    "x_1, x_2 & \\geq & 0\n",
    "\\end{matrix}\n",
    "$$"
   ]
  },
  {
   "cell_type": "markdown",
   "id": "32c23e14",
   "metadata": {
    "cell_style": "split",
    "slideshow": {
     "slide_type": "fragment"
    }
   },
   "source": [
    "$$\n",
    "\\begin{matrix}\n",
    "\\min_x  -x_1 - x_2 & \\text{ s.t.}\\\\\n",
    "5x_1+3x_2 & \\leq & 15 \\\\\n",
    "x_1-x_2 & \\leq & 2 \\\\\n",
    "x_2 &\\leq &  3\n",
    "\\end{matrix}\n",
    "$$"
   ]
  },
  {
   "cell_type": "markdown",
   "id": "0634d261",
   "metadata": {
    "slideshow": {
     "slide_type": "subslide"
    }
   },
   "source": [
    "# Last example"
   ]
  },
  {
   "cell_type": "markdown",
   "id": "741a1108",
   "metadata": {
    "cell_style": "split"
   },
   "source": [
    "$$\n",
    "\\begin{matrix}\n",
    "\\min_x  -x_1 - x_2 & \\text{ s.t.}\\\\\n",
    "5x_1+3x_2 & \\leq & 15 \\\\\n",
    "x_1-x_2 & \\leq & 2 \\\\\n",
    "x_2 &\\leq &  3\n",
    "\\end{matrix}\n",
    "$$"
   ]
  },
  {
   "cell_type": "markdown",
   "id": "c06fb471",
   "metadata": {
    "cell_style": "split",
    "slideshow": {
     "slide_type": "fragment"
    }
   },
   "source": [
    "$$\\begin{array}{rcl}\n",
    "c & = & [-1, -1]\\\\\n",
    "A_{ub} & = & \\left(\\begin{matrix} 5 & 3 \\\\ 1 & -1 \\end{matrix}\\right)\\\\\n",
    "b_{ub} & = & [15, 2]\\\\\n",
    "-\\infty & \\leq & x_1 \\leq +\\infty\\\\\n",
    "-\\infty & \\leq & x_2 \\leq +3\\\\\n",
    "\\end{array}\n",
    "$$"
   ]
  },
  {
   "cell_type": "markdown",
   "id": "2badd1d9",
   "metadata": {
    "slideshow": {
     "slide_type": "subslide"
    }
   },
   "source": [
    "# Last example"
   ]
  },
  {
   "cell_type": "markdown",
   "id": "ca25a74c",
   "metadata": {
    "cell_style": "split",
    "slideshow": {
     "slide_type": "fragment"
    }
   },
   "source": [
    "$$\\begin{array}{rcl}\n",
    "c & = & [-1, -1]\\\\\n",
    "A_{ub} & = & \\left(\\begin{matrix} 5 & 3 \\\\ 1 & -1 \\end{matrix}\\right)\\\\\n",
    "b_{ub} & = & [15, 2]\\\\\n",
    "-\\infty & \\leq & x_1 \\leq +\\infty\\\\\n",
    "-\\infty & \\leq & x_2 \\leq +3\\\\\n",
    "\\end{array}\n",
    "$$"
   ]
  },
  {
   "cell_type": "code",
   "execution_count": 20,
   "id": "26aebf40",
   "metadata": {
    "ExecuteTime": {
     "end_time": "2023-01-20T07:46:57.834799Z",
     "start_time": "2023-01-20T07:46:57.821813Z"
    },
    "cell_style": "split",
    "slideshow": {
     "slide_type": "fragment"
    }
   },
   "outputs": [],
   "source": [
    "c = [-1, -1]\n",
    "A_ub = [[5, 3], [1, -1]]\n",
    "b_ub = [15, 2]\n",
    "bounds = [(None, None), (None, 3)]\n",
    "res = linprog(c=c, A_ub=A_ub, b_ub=b_ub, \n",
    "              bounds=bounds)"
   ]
  },
  {
   "cell_type": "markdown",
   "id": "88498fcf",
   "metadata": {
    "slideshow": {
     "slide_type": "subslide"
    }
   },
   "source": [
    "# Last example"
   ]
  },
  {
   "cell_type": "code",
   "execution_count": 21,
   "id": "9795ecd4",
   "metadata": {
    "ExecuteTime": {
     "end_time": "2023-01-20T07:46:57.850819Z",
     "start_time": "2023-01-20T07:46:57.837794Z"
    },
    "cell_style": "split"
   },
   "outputs": [
    {
     "name": "stdout",
     "output_type": "stream",
     "text": [
      "Algorithm status: Optimization terminated successfully. (HiGHS Status 7: Optimal)\n",
      "Decision variables: x=[1.2, 3.0]\n",
      "Optimal value: 4.2\n"
     ]
    }
   ],
   "source": [
    "print(f\"Algorithm status: {res.message}\")\n",
    "print(f\"Decision variables: x={[i for i in res.x]}\")\n",
    "print(f\"Optimal value: {-res.fun}\")"
   ]
  },
  {
   "cell_type": "code",
   "execution_count": 22,
   "id": "9d45a388",
   "metadata": {
    "ExecuteTime": {
     "end_time": "2023-01-20T07:46:57.865815Z",
     "start_time": "2023-01-20T07:46:57.853799Z"
    },
    "cell_style": "split",
    "slideshow": {
     "slide_type": "fragment"
    }
   },
   "outputs": [
    {
     "name": "stdout",
     "output_type": "stream",
     "text": [
      "Algorithm status: Optimization terminated successfully. (HiGHS Status 7: Optimal)\n",
      "Decision variables: x=[1.0, 3.0]\n",
      "Optimal value: 4.0\n"
     ]
    }
   ],
   "source": [
    "res = linprog(c=c, A_ub=A_ub, b_ub=b_ub,\n",
    "              bounds=bounds,\n",
    "              integrality=[1, 0])\n",
    "print(f\"Algorithm status: {res.message}\")\n",
    "print(f\"Decision variables: x={[i for i in res.x]}\")\n",
    "print(f\"Optimal value: {-res.fun}\")"
   ]
  },
  {
   "cell_type": "markdown",
   "id": "c1e67bf1",
   "metadata": {
    "slideshow": {
     "slide_type": "slide"
    }
   },
   "source": [
    "## Resource allocation"
   ]
  },
  {
   "cell_type": "markdown",
   "id": "adb543ff",
   "metadata": {
    "slideshow": {
     "slide_type": "subslide"
    }
   },
   "source": [
    "# Resources in cellular networks"
   ]
  },
  {
   "cell_type": "markdown",
   "id": "93480d42",
   "metadata": {},
   "source": [
    "- Frequency\n",
    "- Transmission power\n",
    "- Timeslot\n",
    "- Code (CDMA)\n",
    "- Resource bloc (4G/5G)"
   ]
  },
  {
   "cell_type": "markdown",
   "id": "6b175d21",
   "metadata": {
    "slideshow": {
     "slide_type": "subslide"
    }
   },
   "source": [
    "# Objective and constraint"
   ]
  },
  {
   "cell_type": "markdown",
   "id": "725a1c7e",
   "metadata": {},
   "source": [
    "- Typical objectives\n",
    "  - Minimize interference\n",
    "  - Maximize data rate\n",
    "  - Maximize SINR\n",
    "  - Minimize cost\n",
    "  - Minimize energy consumption\n",
    "- Typical constraints\n",
    "  - Number of maximum available resources in the system\n",
    "  - Link capacity\n",
    "  - Application’s data rate requirement"
   ]
  },
  {
   "cell_type": "markdown",
   "id": "6c5e7148",
   "metadata": {
    "slideshow": {
     "slide_type": "subslide"
    }
   },
   "source": [
    "# Example 1: resource blocks"
   ]
  },
  {
   "cell_type": "markdown",
   "id": "0195aa23",
   "metadata": {},
   "source": [
    "- Given an LTE cell having $N$ users\n",
    "- Each user has a rate per block (depends on their link quality)\n",
    "- Maximum number of resource blocs in the cell is $R$.\n",
    "\n",
    "How to attribute resource blocks to users to:\n",
    "- maximize the data rate of the users in the cell?\n",
    "- maximize the minimal data rate?"
   ]
  },
  {
   "cell_type": "markdown",
   "id": "cd4dcd29",
   "metadata": {
    "slideshow": {
     "slide_type": "subslide"
    }
   },
   "source": [
    "# Example 2: RRH/BBU pairing"
   ]
  },
  {
   "cell_type": "markdown",
   "id": "d8784a85",
   "metadata": {},
   "source": [
    "- Consider a CRAN network where RRHs and BBUs are deployed in a city.\n",
    "- Each RRH $A_i$ needs $c_i$ (processing requirements)\n",
    "- Each BBU $B_j$ has processing capacity $C_j$\n",
    "- Pairing $A_i$ to $B_j$ induces a delay cost $L_{i, j}$\n",
    "\n",
    "How to minimize:\n",
    "- The total transmission delay between RRHs and BBUs?\n",
    "- The maximal transmission delay between RRHs and BBUs?\n",
    "- The number of BBUs activated?"
   ]
  },
  {
   "cell_type": "markdown",
   "id": "d78545ad",
   "metadata": {
    "slideshow": {
     "slide_type": "slide"
    }
   },
   "source": [
    "# The End!"
   ]
  }
 ],
 "metadata": {
  "celltoolbar": "Initialization Cell",
  "kernelspec": {
   "display_name": "Python 3 (ipykernel)",
   "language": "python",
   "name": "python3"
  },
  "language_info": {
   "codemirror_mode": {
    "name": "ipython",
    "version": 3
   },
   "file_extension": ".py",
   "mimetype": "text/x-python",
   "name": "python",
   "nbconvert_exporter": "python",
   "pygments_lexer": "ipython3",
   "version": "3.9.13"
  },
  "toc": {
   "base_numbering": 1,
   "nav_menu": {},
   "number_sections": true,
   "sideBar": true,
   "skip_h1_title": true,
   "title_cell": "Table of Contents",
   "title_sidebar": "Contents",
   "toc_cell": true,
   "toc_position": {},
   "toc_section_display": true,
   "toc_window_display": false
  }
 },
 "nbformat": 4,
 "nbformat_minor": 5
}
